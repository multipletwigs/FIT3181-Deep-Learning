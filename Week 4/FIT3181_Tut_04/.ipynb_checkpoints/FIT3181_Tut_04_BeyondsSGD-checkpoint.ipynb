{
 "cells": [
  {
   "cell_type": "markdown",
   "metadata": {},
   "source": [
    "# <span style=\"color:#0b486b\">  FIT3181: Deep Learning (2021)</span>\n",
    "***\n",
    "*CE/Lecturer:*  **Dr Trung Le** | trunglm@monash.edu <br/>\n",
    "*Head TA:*  **Mr Thanh Nguyen** | thanh.nguyen4@monash.edu <br/>\n",
    "*Tutor:* **Dr Van Nguyen**  \\[van.nguyen1@monash.edu \\] | **Mr James Tong** \\[james.tong1@monash.edu\\] | **Dr Mahmoud Mohammad** \\[mahmoud.hossam@monash.edu\\]\n",
    "<br/> <br/>\n",
    "Faculty of Information Technology, Monash University, Australia\n",
    "***\n"
   ]
  },
  {
   "cell_type": "markdown",
   "metadata": {},
   "source": [
    "# <span style=\"color:#0b486b\">Tutorial 4: Stochastic Gradient Descent and Optimization</span> #\n",
    "**The purpose of this tutorial is to help you understand and visualize gradients of machine learning algorithms as well as the optimization of deep learning with TensorFlow. The tutorial consists of two parts:**\n",
    "\n",
    "I. Visualize the gradient of the training of a logistic regression model on a synthetic dataset\n",
    "\n",
    "II. Show the training procedure of a DNN model on the MNIST dataset\n",
    "\n",
    "**References and additional reading and resources**\n",
    "- An overview of gradient descent optimization algorithms ([link](https://ruder.io/optimizing-gradient-descent/)).\n",
    "- Logistic Regression ([link](https://towardsdatascience.com/logistic-regression-detailed-overview-46c4da4303bc)).\n",
    "- TensorFlow Keras model ([link](https://www.tensorflow.org/api_docs/python/tf/keras/Model)).\n"
   ]
  },
  {
   "cell_type": "markdown",
   "metadata": {},
   "source": [
    "## <span style=\"color:#0b486b\"> I. Visualize the gradient of the training of a logistic regression model on a synthetic dataset </span>"
   ]
  },
  {
   "cell_type": "markdown",
   "metadata": {},
   "source": [
    "### <span style=\"color:#0b486b\"> I.1 Introduction of logistic regression </span>"
   ]
  },
  {
   "cell_type": "markdown",
   "metadata": {},
   "source": [
    "Logistic regression can be viewed as a simple neural network for binary classification with the input and output layers.\n",
    "- The input layer takes inputs as one feature vector (data point, data instance, or data example), mini-batches of feature vectors, or entire dataset of feature vectors.\n",
    "- The output layer has one neuron and was applied with the activation function, i.e., sigmoid to obtain the predicted probability of a given data instance to be in the positive class (i.e., the class 1).\n",
    "\n",
    "We choose logistic regression to visually demonstrate the processes of forward/backward propagations for performing SGD (Stochastic Gradient Descend) updates to solve the optimization problem behind logistic regression. This would offer you a better understanding of using forward/backward propagations when training deep neural networks. With the implementation in this part, you will enjoy the learning of how to feed a mini-batch to a network, do forward propagation, define the loss function, and then perform backward propagation for computing the gradients for updating the model in an SGD manner.\n",
    "\n",
    "For the ease of comprehensibility, we present the technical details for the case of a synthetic dataset with two features (i.e., data point $x \\in \\mathbb{R}^{2}$), meaning that the input layer has two neurons. However, the implementation can be generalized to a general case with many features (i.e., data point $x \\in \\mathbb{R}^{d}$).\n",
    "\n",
    "The architecture of logistic regression is shown in the following figure.\n",
    "\n",
    "\n",
    "<img src=\"imgs/LogisticRegression.png\" width=\"500\" align=\"center\"/>\n",
    "\n",
    "The model parameters of our simple logistic regression include $W=\\left[\\begin{array}{c}\n",
    "w_{1}\\\\\n",
    "w_{2}\n",
    "\\end{array}\\right]\\in\\mathbb{R}^{2\\times1}$. Here note that we do not use the bias to simplify the model for the visualizing purpose in the following steps. Let us denote the training set as $D=\\left\\{ (x^{1},y^{1}),(x^{2},y^{2})...,(x^{N},y^{N})\\right\\}$ where data point and feature vector $x^i = [x^i_1, x^i_2] \\in \\mathbb{R}^{1\\times 2}$ and label $y^i \\in \\{0,1\\}$."
   ]
  },
  {
   "cell_type": "markdown",
   "metadata": {},
   "source": [
    "#### <span style=\"color:#0b486b\"> Forward propagation </span>\n",
    "\n",
    "The computational process of logistic regression for a data point $x \\in \\mathbb{R}^{1\\times 2}$ with the label $y \\in \\{0,1\\}$ is as follows:\n",
    "- We feed $x \\in \\mathbb{R}^{1\\times2}$ to the logistic regression network.\n",
    "- We compute: $z= xW \\in \\mathbb{R}^{1\\times 1}$.\n",
    "- We apply sigmoid over $z$: $p = sigmoid(z) \\in\\mathbb{R}^{1\\times 1}$.\n",
    "\n",
    "$p$ represents the probability that $x$ is classified as positive class or equivalently $p = p(y=1 \\mid x) =sigmoid(z)= \\frac{1}{1+e^{-z}}= \\frac{1}{1+e^{-xW}}$. The loss incurred is as follows:\n",
    "- $l(x,y;W) = -y*log(p) - (1-y)*log(1-p)$. Your task is to explain why it is.\n",
    "\n",
    "The loss incurred by the entire dataset is as follows:\n",
    "- $l(W,D)=\\frac{1}{N}\\sum_{i=1}^{N}l(x^{i},y^{i};W)$\n",
    "\n",
    "To efficiently solve the above optimization problem, we apply SGD in which at each iteration we feed a mini-batch $X$ to the network and then rely on backward propagation to compute the gradient of the loss function w.r.t to $W$ for the current mini-batch.\n",
    "\n",
    "The computational process of logistic regression for a mini-batch $X \\in \\mathbb{R}^{batch\\_size\\times2}$ with labels $y \\in \\mathbb{R}^{batch\\_size\\times1}$ is as follows:\n",
    "- We feed a mini-batch $X=\\left[\\begin{array}{cc}\n",
    "b_{1}^{1} & b_{2}^{1}\\\\\n",
    "b_{1}^{2} & b_{2}^{2}\\\\\n",
    "... & ...\\\\\n",
    "b_{1}^{batch\\_size} & b_{2}^{batch\\_size}\n",
    "\\end{array}\\right]\\in\\mathbb{R}^{batch\\_size\\times2}$ of 2D feature vectors (data points) to our logistic regression network.\n",
    "- We compute $z = XW \\in \\mathbb{R}^{batch\\_size\\times 1}$.\n",
    "- We apply sigmoid over $z$: $p = sigmoid(z) \\in \\mathbb{R}^{batch\\_size\\times 1}$.\n",
    "\n",
    "The loss incurred by the current mini-batch is as follows:\n",
    "- $l(W,X)=\\frac{1}{batch\\_size}\\sum_{i=1}^{batch\\_size}l(b^{i},y^{i};W)=-\\frac{1}{batch\\_size}\\sum_{i=1}^{batch\\_size}\\left[y^{i}\\log p^{i}+(1-y^{i})\\log(1-p^{i})\\right]$ where $p^{i} = p(y^i=1 \\mid b^i) = sigmoid(z^i)= \\frac{1}{1+e^{-z^i}}= \\frac{1}{1+e^{-b^iW}}$.\n"
   ]
  },
  {
   "cell_type": "markdown",
   "metadata": {},
   "source": [
    "#### <span style=\"color:#0b486b\"> Backward propagation </span>\n",
    "\n",
    "We now compute the gradient of the loss incurred by a mini-batch $l(W,X)$ w.r.t the model parameter $W$. This can be done conveniently via backward propagation with some matrix multiplications. The mathematical tool for this derivation is the chain rule based on the computational process of the forward propagation.\n",
    "- $z = XW$ --> $p = sigmoid(z)$ --> $l = - mean(y*log(p) + (1-y)*log(1-p))$ where $*$ is element-wise product between two vectors.\n",
    "\n",
    "We derive as follows:\n",
    " - $ \\frac{\\partial l}{\\partial W}\t=\\frac{1}{batch\\_size}\\sum_{i=1}^{batch\\_size}\\frac{\\partial l(b_{i},y_{i};W)}{\\partial W}=\\frac{1}{batch\\_size}\\sum_{i=1}^{batch\\_size}\\frac{\\partial l(b_{i},y_{i};W)}{\\partial p^{i}}\\frac{\\partial p^{i}}{\\partial z^{i}}\\frac{\\partial z^{i}}{\\partial W}\n",
    "\t=\\frac{1}{batch\\_size}\\sum_{i=1}^{batch\\_size}\\left[\\frac{-y^{i}}{p^{i}}+\\frac{1-y^{i}}{1-p^{i}}\\right]p^{i}\\left(1-p^{i}\\right)b^{i}$\n",
    "\n",
    "To facilitate the computation, we can rewrite the above derivative in the form of matrix multiplication as follows:\n",
    "- $\\frac{\\partial l}{\\partial W}=mean\\left(X^{T}\\left[\\left(\\frac{-y}{p}+\\frac{1-y}{1-p}\\right)*p*(1-p)\\right]\\right)\\in\\mathbb{R}^{2\\times1}$."
   ]
  },
  {
   "cell_type": "markdown",
   "metadata": {},
   "source": [
    "#### <span style=\"color:#0b486b\"> SGD update </span>\n",
    "\n",
    "We update the model based on the gradient of the mini-batch w.r.t $W$ as:\n",
    "- $W = W - \\eta*\\frac{\\partial l}{\\partial W}$ where $\\eta >0$ is the learning rate."
   ]
  },
  {
   "cell_type": "markdown",
   "metadata": {},
   "source": [
    "### <span style=\"color:#0b486b\"> I.2 Implementation of logistic regression </span>"
   ]
  },
  {
   "cell_type": "markdown",
   "metadata": {},
   "source": [
    "#### **<span style=\"color:#0b486b\"> First, we create a simple synthetic dataset for logistic regressions </span>**"
   ]
  },
  {
   "cell_type": "code",
   "execution_count": 1,
   "metadata": {},
   "outputs": [],
   "source": [
    "import tensorflow as tf\n",
    "import numpy as np\n",
    "import matplotlib.pyplot as plt\n",
    "%matplotlib inline\n",
    "import copy"
   ]
  },
  {
   "cell_type": "markdown",
   "metadata": {},
   "source": [
    "We would like to generate a few data points on a two-dimensional axis and assume that the optimal coefficient of the logistic regression is known to us."
   ]
  },
  {
   "cell_type": "code",
   "execution_count": 2,
   "metadata": {},
   "outputs": [
    {
     "name": "stdout",
     "output_type": "stream",
     "text": [
      "[[1.]\n",
      " [2.]]\n"
     ]
    }
   ],
   "source": [
    "W_opt = np.array([[1],[2]], dtype=np.float)    #the optimal W\n",
    "print(W_opt)"
   ]
  },
  {
   "cell_type": "markdown",
   "metadata": {},
   "source": [
    "We generate the training set of 2D data points."
   ]
  },
  {
   "cell_type": "code",
   "execution_count": 3,
   "metadata": {},
   "outputs": [
    {
     "name": "stdout",
     "output_type": "stream",
     "text": [
      "X_train shape: (500, 2)\n"
     ]
    }
   ],
   "source": [
    "# Randomly generate 500 synthetic data points\n",
    "N =500\n",
    "delta = 2\n",
    "X1 = (np.random.rand(N) -0.5)*2*delta\n",
    "X2 = (np.random.rand(N) -0.5)*2*delta\n",
    "X_train = np.array([x for x in zip(X1,X2)])\n",
    "print(\"X_train shape: {}\".format(X_train.shape))"
   ]
  },
  {
   "cell_type": "markdown",
   "metadata": {},
   "source": [
    "We assign labels (i.e., $0$ or $1$) for the data points according to if they stay on what side of the optimal hyperplane (W_opt)."
   ]
  },
  {
   "cell_type": "code",
   "execution_count": 4,
   "metadata": {},
   "outputs": [
    {
     "name": "stdout",
     "output_type": "stream",
     "text": [
      "Number of positive labels: 248, number of negative labels: 252\n"
     ]
    }
   ],
   "source": [
    "# Generate the labels for those data points\n",
    "y_value = X_train.dot(W_opt) + np.random.normal(0.0, 0.2)\n",
    "y_train = np.ones(N).reshape([N,1])\n",
    "y_train[np.where(y_value <0)]= 0\n",
    "num_pos = len(np.where(y_train==1)[0])\n",
    "num_neg = len(np.where(y_train==0)[0])\n",
    "print(\"Number of positive labels: {}, number of negative labels: {}\".format(num_pos, num_neg))"
   ]
  },
  {
   "cell_type": "markdown",
   "metadata": {},
   "source": [
    "We now visualize the data points with labels and the optimal decision boundary."
   ]
  },
  {
   "cell_type": "code",
   "execution_count": 5,
   "metadata": {},
   "outputs": [],
   "source": [
    "# The following code visulizes the hyperplane, i.e., the decision boundary, which is a line in the two-dimensional case\n",
    "def visualize_hyperplane(X= None, y= None, W=None):\n",
    "    X_pos = X[np.where(y ==1)[0]]\n",
    "    X_neg = X[np.where(y ==0)[0]]\n",
    "    plt.scatter(X_pos[:,0], X_pos[:,1], label='1',  c='green', marker='+')\n",
    "    plt.scatter(X_neg[:,0], X_neg[:,1], label='0', c='blue', marker='_')\n",
    "    plt.legend(loc='upper right')\n",
    "    f = lambda x1: -W[0,0]*x1/W[1,0] #Plot the decision boundary\n",
    "    X1 = np.linspace(-2,2,500)\n",
    "    plt.plot(X1, f(X1),  'r--')\n",
    "    plt.show()"
   ]
  },
  {
   "cell_type": "code",
   "execution_count": 6,
   "metadata": {},
   "outputs": [
    {
     "data": {
      "image/png": "[encoded data removed]",
      "text/plain": [
       "<Figure size 432x288 with 1 Axes>"
      ]
     },
     "metadata": {
      "needs_background": "light"
     },
     "output_type": "display_data"
    }
   ],
   "source": [
    "%matplotlib inline\n",
    "visualize_hyperplane(X_train, y_train, W_opt)"
   ]
  },
  {
   "cell_type": "markdown",
   "metadata": {},
   "source": [
    "#### **<span style=\"color:#0b486b\"> Now we define the logistic regression model </span>**"
   ]
  },
  {
   "cell_type": "code",
   "execution_count": 7,
   "metadata": {},
   "outputs": [],
   "source": [
    "from pylab import rcParams\n",
    "rcParams['figure.figsize'] = 10, 5\n",
    "# Visualize the hpyterplane and the training loss\n",
    "def visualize_hyperplane_loss(X= None, y= None, W= None, losses= None): \n",
    "    X_pos = X[np.where(y ==1)[0]]\n",
    "    X_neg = X[np.where(y ==0)[0]]\n",
    "    plt.subplot(1,2,1)\n",
    "    plt.scatter(X_pos[:,0], X_pos[:,1], label='1',  c='green', marker='+')\n",
    "    plt.scatter(X_neg[:,0], X_neg[:,1], label='0', c='blue', marker='_')\n",
    "    plt.legend(loc='upper right')\n",
    "    f = lambda x1: -W[0,0]*x1/W[1,0] #Plot the decision boundary\n",
    "    X1 = np.linspace(-2,2,500)\n",
    "    plt.plot(X1, f(X1),  'r--')\n",
    "    plt.subplot(1,2,2)\n",
    "    plt.plot(losses, label = 'Epoch loss', marker='o')"
   ]
  },
  {
   "cell_type": "code",
   "execution_count": 8,
   "metadata": {},
   "outputs": [],
   "source": [
    "# Define the sigmoid function\n",
    "def sigmoid(z):\n",
    "    return 1.0/ (1.0 + np.exp(-z))"
   ]
  },
  {
   "cell_type": "markdown",
   "metadata": {},
   "source": [
    "Below is the code for forward propagation w.r.t the mini-batch $X$ or the set of data points $X$."
   ]
  },
  {
   "cell_type": "code",
   "execution_count": 9,
   "metadata": {},
   "outputs": [],
   "source": [
    "# Define the logistic regression model and the corresponding loss, which is similar to foward pass in deep neural networks\n",
    "def forward(X= None, y=None, W= None, eps= 1E-10):\n",
    "    z = X.dot(W)\n",
    "    p = sigmoid(z)\n",
    "    losses = [-np.log(p[i]+eps) if y[i]==1 else -np.log(1- p[i]+eps) for i in range(len(y))] \n",
    "    loss = np.mean(losses)\n",
    "    return (z,p,loss)"
   ]
  },
  {
   "cell_type": "markdown",
   "metadata": {},
   "source": [
    "Below is the code for backward propagation in which we compute the gradient of the loss of $X$ w.r.t $W$. "
   ]
  },
  {
   "cell_type": "code",
   "execution_count": 10,
   "metadata": {},
   "outputs": [],
   "source": [
    "# Compute the gradient of the loss by the chain rule, which is similar to backpropagate in deep neural networks\n",
    "def grad(X= None, y= None, z= None, p=None, eps= 1E-10):\n",
    "    batch_size = len(y)\n",
    "    grad_p = [-1.0/(p[i] + eps) if y[i]==1 else 1.0/(1-p[i]+ eps) for i in range(batch_size)]\n",
    "    grad_p = np.array(grad_p).reshape([batch_size,1])\n",
    "    grad_z = grad_p*p*(1-p)\n",
    "    grad_W = X.transpose().dot(grad_z)*(1.0/batch_size)  #refer to the formula to compute the gradient in Section I\n",
    "    return grad_W"
   ]
  },
  {
   "cell_type": "markdown",
   "metadata": {},
   "source": [
    "#### **<span style=\"color:#0b486b\"> Here we train our logistic regression model on the synthetic dataset with gradient descent</span>**"
   ]
  },
  {
   "cell_type": "markdown",
   "metadata": {},
   "source": [
    "We consider three schemes:\n",
    "- (i) Gradient descent in which we use the entire dataset (i.e., $X$ is the entire dataset) to compute the gradient.\n",
    "- (ii) SGD in which we use mini-batches to compute gradient for which the mini-batches are uniformly sampled from the training set at each iteration.\n",
    "- (iii) SGD in which we use mini-batches to compute gradient, but we first shuffle the training set, split the training set into many equal mini-batches (folds) with the same number of data points (i.e., $batch\\_size$), and in each iteration we use a mini-batch to feed to the network. Although this mini-batch generating strategy is a bit diverge from the theory of SGD, it always obtains comparable performance compared to (ii), hence widely being used in training deep learning models."
   ]
  },
  {
   "cell_type": "markdown",
   "metadata": {},
   "source": [
    "Below is the code for GD in (i)."
   ]
  },
  {
   "cell_type": "code",
   "execution_count": 11,
   "metadata": {},
   "outputs": [
    {
     "name": "stdout",
     "output_type": "stream",
     "text": [
      "Using matplotlib backend: Qt5Agg\n",
      "Epoch 1: loss =0.7364050721585158\n",
      "Epoch 2: loss =0.6194105422242444\n",
      "Epoch 3: loss =0.5317552497460621\n",
      "Epoch 4: loss =0.46599569040266603\n",
      "Epoch 5: loss =0.41607511576750256\n",
      "Epoch 6: loss =0.3775559052995808\n",
      "Epoch 7: loss =0.34730902462287977\n",
      "Epoch 8: loss =0.32314309077447845\n",
      "Epoch 9: loss =0.30351297092859286\n",
      "Epoch 10: loss =0.2873161141551061\n",
      "Epoch 11: loss =0.2737551188405895\n",
      "Epoch 12: loss =0.2622454398458525\n",
      "Epoch 13: loss =0.2523529626557995\n",
      "Epoch 14: loss =0.24375128378236935\n",
      "Epoch 15: loss =0.2361920951829956\n",
      "Epoch 16: loss =0.2294843859286896\n",
      "Epoch 17: loss =0.22347965413573592\n",
      "Epoch 18: loss =0.21806126898553874\n",
      "Epoch 19: loss =0.21313673397745425\n",
      "Epoch 20: loss =0.2086320020876006\n",
      "Epoch 21: loss =0.20448725803989928\n",
      "Epoch 22: loss =0.20065376032157806\n",
      "Epoch 23: loss =0.1970914560575107\n",
      "Epoch 24: loss =0.19376716463185134\n",
      "Epoch 25: loss =0.1906531834389214\n",
      "Epoch 26: loss =0.18772620949087956\n",
      "Epoch 27: loss =0.18496649919545977\n",
      "Epoch 28: loss =0.1823572090546572\n",
      "Epoch 29: loss =0.17988387477232146\n",
      "Epoch 30: loss =0.17753399697118113\n"
     ]
    },
    {
     "data": {
      "image/png": "[encoded data removed]",
      "text/plain": [
       "<Figure size 432x286 with 2 Axes>"
      ]
     },
     "metadata": {
      "needs_background": "light"
     },
     "output_type": "display_data"
    }
   ],
   "source": [
    "%matplotlib\n",
    "W = np.array([[-1],[1]])\n",
    "lst_W1 = [copy.copy(W)]\n",
    "epochs =30\n",
    "eta = 0.5\n",
    "plt.ion()\n",
    "losses =[]\n",
    "for epoch in range(epochs):\n",
    "    # We update the coefficients through all the data points\n",
    "    visualize_hyperplane_loss(X_train, y_train, W, losses)\n",
    "    plt.pause(1)\n",
    "    plt.draw()\n",
    "    X = X_train\n",
    "    y= y_train\n",
    "    z, p, loss= forward(X,y, W)\n",
    "    losses.append(loss)\n",
    "    # Compute gradient\n",
    "    grad_W = grad(X,y,z,p)\n",
    "    # Update coefficients with gradient descent\n",
    "    W = W - eta*grad_W\n",
    "    lst_W1.append(copy.copy(W))\n",
    "    print(\"Epoch {}: loss ={}\".format(epoch +1, loss))\n",
    "    if(epoch< epochs-1):\n",
    "        plt.clf()\n",
    "plt.ioff()"
   ]
  },
  {
   "cell_type": "markdown",
   "metadata": {},
   "source": [
    "Below is the code for SGD with the strategy in (ii)."
   ]
  },
  {
   "cell_type": "code",
   "execution_count": 12,
   "metadata": {},
   "outputs": [
    {
     "name": "stdout",
     "output_type": "stream",
     "text": [
      "Using matplotlib backend: Qt5Agg\n",
      "Epoch 1: loss=0.2829315509631149\n",
      "Epoch 2: loss=0.15352567783674254\n",
      "Epoch 3: loss=0.11710852875409691\n",
      "Epoch 4: loss=0.10165769488958634\n",
      "Epoch 5: loss=0.09977999784310822\n",
      "Epoch 6: loss=0.08837002384728952\n",
      "Epoch 7: loss=0.07799654110201495\n",
      "Epoch 8: loss=0.08471087958209364\n",
      "Epoch 9: loss=0.08192812111278622\n",
      "Epoch 10: loss=0.07712662244607832\n",
      "Epoch 11: loss=0.07314581020876872\n",
      "Epoch 12: loss=0.06671968009371503\n",
      "Epoch 13: loss=0.06371585440557878\n",
      "Epoch 14: loss=0.0683726782634323\n",
      "Epoch 15: loss=0.05513829083349149\n",
      "Epoch 16: loss=0.07753063870812935\n",
      "Epoch 17: loss=0.06807942612975885\n",
      "Epoch 18: loss=0.06251857552824959\n",
      "Epoch 19: loss=0.06502335371191022\n",
      "Epoch 20: loss=0.0650208202862671\n",
      "Epoch 21: loss=0.0537267145423594\n",
      "Epoch 22: loss=0.061776108282620965\n",
      "Epoch 23: loss=0.05313496223546629\n",
      "Epoch 24: loss=0.052659087985516155\n",
      "Epoch 25: loss=0.06240724804406667\n",
      "Epoch 26: loss=0.05420717043013913\n",
      "Epoch 27: loss=0.05741385910447675\n",
      "Epoch 28: loss=0.048683296119824616\n",
      "Epoch 29: loss=0.048366610932369845\n",
      "Epoch 30: loss=0.04437826331886157\n"
     ]
    },
    {
     "data": {
      "image/png": "[encoded data removed]",
      "text/plain": [
       "<Figure size 432x286 with 2 Axes>"
      ]
     },
     "metadata": {
      "needs_background": "light"
     },
     "output_type": "display_data"
    }
   ],
   "source": [
    "%matplotlib\n",
    "plt.ion()\n",
    "\n",
    "W = np.array([[-1],[1]])\n",
    "lst_W2 = [copy.copy(W)]\n",
    "epochs =30\n",
    "eta = 0.5\n",
    "batch_size = 16\n",
    "iter_per_epoch = int(N/batch_size)\n",
    "epoch_losses= []\n",
    "for epoch in range(epochs):\n",
    "    losses =[]\n",
    "    # We update the coefficients in each random batch\n",
    "    for i in range(iter_per_epoch):\n",
    "        visualize_hyperplane_loss(X_train, y_train, W, epoch_losses)\n",
    "        plt.pause(0.02)\n",
    "        # randomly sample a batch of data points\n",
    "        idxs= np.random.choice(np.arange(N), batch_size, replace= False)\n",
    "        X= X_train[idxs]\n",
    "        y = y_train[idxs]\n",
    "        z, p, batch_loss= forward(X, y,W)\n",
    "        losses.append(batch_loss)\n",
    "        grad_W = grad(X,y,z,p)\n",
    "        W = W - eta*grad_W\n",
    "        if((epoch == epochs-1) and (i== iter_per_epoch-1)):\n",
    "            pass\n",
    "        else:\n",
    "            plt.clf()\n",
    "    lst_W2.append(copy.copy(W))\n",
    "    print(\"Epoch {}: loss={}\".format(epoch+1, np.mean(losses)))\n",
    "    epoch_losses.append(np.mean(losses))\n",
    "plt.ioff()"
   ]
  },
  {
   "cell_type": "markdown",
   "metadata": {},
   "source": [
    "Below is the code for SGD with the strategy in (iii)."
   ]
  },
  {
   "cell_type": "code",
   "execution_count": 13,
   "metadata": {},
   "outputs": [
    {
     "name": "stdout",
     "output_type": "stream",
     "text": [
      "Using matplotlib backend: Qt5Agg\n",
      "Epoch 1: loss=0.2798205826675695\n",
      "Epoch 2: loss=0.1467527726704002\n",
      "Epoch 3: loss=0.12039537585326457\n",
      "Epoch 4: loss=0.10602902158733388\n",
      "Epoch 5: loss=0.09653530560885054\n",
      "Epoch 6: loss=0.08962039565673133\n",
      "Epoch 7: loss=0.08427386802927027\n",
      "Epoch 8: loss=0.07996894899607476\n",
      "Epoch 9: loss=0.0763994052117173\n",
      "Epoch 10: loss=0.07337297136060547\n",
      "Epoch 11: loss=0.07076179114264983\n",
      "Epoch 12: loss=0.0684769537311555\n",
      "Epoch 13: loss=0.06645437841397658\n",
      "Epoch 14: loss=0.06464650640467126\n",
      "Epoch 15: loss=0.06301716686743791\n",
      "Epoch 16: loss=0.061538273839510355\n",
      "Epoch 17: loss=0.06018762758923756\n",
      "Epoch 18: loss=0.05894740793562214\n",
      "Epoch 19: loss=0.0578031154399645\n",
      "Epoch 20: loss=0.05674281078746524\n",
      "Epoch 21: loss=0.055756557678762114\n",
      "Epoch 22: loss=0.05483600768776735\n",
      "Epoch 23: loss=0.05397408610344355\n",
      "Epoch 24: loss=0.05316475087036181\n",
      "Epoch 25: loss=0.05240280528348197\n",
      "Epoch 26: loss=0.051683750780587005\n",
      "Epoch 27: loss=0.05100367003698069\n",
      "Epoch 28: loss=0.050359133234029824\n",
      "Epoch 29: loss=0.049747122244687414\n",
      "Epoch 30: loss=0.04916496881173951\n"
     ]
    }
   ],
   "source": [
    "%matplotlib\n",
    "\n",
    "plt.ion()\n",
    "W = np.array([[-1],[1]])\n",
    "lst_W3 = [copy.copy(W)]\n",
    "epochs =30\n",
    "eta = 0.5\n",
    "batch_size = 16 \n",
    "iter_per_epoch = int(N/batch_size)\n",
    "epoch_losses =[]\n",
    "for epoch in range(epochs):\n",
    "    losses = []\n",
    "    # We update the coefficients in each sequential batch\n",
    "    for idx_start in range(0, N, batch_size):\n",
    "        visualize_hyperplane_loss(X_train, y_train, W, epoch_losses)\n",
    "        plt.pause(0.05)\n",
    "        # We go through the batches sequencially, i.e., non-randomly\n",
    "        idx_end = min(N, idx_start + batch_size)\n",
    "        X= X_train[idx_start:idx_end]\n",
    "        y= y_train[idx_start:idx_end]\n",
    "        z, p, batch_loss= forward(X, y, W)\n",
    "        losses.append(batch_loss)\n",
    "        grad_W = grad(X, y, z,p)\n",
    "        W = W - eta*grad_W\n",
    "        if((epoch==epochs-1) and (idx_end==N)):\n",
    "            pass\n",
    "        else:\n",
    "            plt.clf()\n",
    "    lst_W3.append(copy.copy(W))\n",
    "    print(\"Epoch {}: loss={}\".format(epoch+1, np.mean(losses)))\n",
    "    epoch_losses.append(np.mean(losses))\n",
    "plt.ioff()"
   ]
  },
  {
   "cell_type": "markdown",
   "metadata": {},
   "source": [
    "We now visualize the trajectories of the models for three strategies (i), (ii), and (iii)."
   ]
  },
  {
   "cell_type": "code",
   "execution_count": 14,
   "metadata": {},
   "outputs": [],
   "source": [
    "from pylab import rcParams\n",
    "rcParams['figure.figsize'] = 15, 10\n",
    "\n",
    "def visualize_W(lst_W1= None, lst_W2= None, lst_W3= None, k=1, W_opt= None):\n",
    "    plt.plot([lst_W1[i][0] for i in range(k)],[lst_W1[i][1] for i in range(k)], \"--s\", markersize= 3, label='GD', color='green')\n",
    "    plt.plot([lst_W2[i][0] for i in range(k)],[lst_W2[i][1] for i in range(k)], \"--o\", markersize= 3, label='SGD 1', color='blue')\n",
    "    plt.plot([lst_W3[i][0] for i in range(k)],[lst_W3[i][1] for i in range(k)], \"-->\", markersize= 3, label='SGD 2', color='orange')\n",
    "    plt.plot([W_opt[0,0]],[W_opt[1,0]], \"*\", markersize= 15, color= 'red')\n",
    "    plt.show()"
   ]
  },
  {
   "cell_type": "code",
   "execution_count": 15,
   "metadata": {},
   "outputs": [
    {
     "name": "stdout",
     "output_type": "stream",
     "text": [
      "Using matplotlib backend: Qt5Agg\n"
     ]
    }
   ],
   "source": [
    "%matplotlib\n",
    "\n",
    "plt.ion()\n",
    "for i in range(len(lst_W1)):\n",
    "    visualize_W(lst_W1, lst_W2, lst_W3, i+1, W_opt)\n",
    "    if i == 0:\n",
    "        plt.legend(loc=\"upper left\")\n",
    "    plt.pause(2)\n",
    "plt.ioff()"
   ]
  },
  {
   "cell_type": "markdown",
   "metadata": {},
   "source": [
    "**Conclusion of the comparison**\n",
    "\n",
    "With the current learning rate, although the performances are comparable, in terms of the convergence to the optimal solution, GD really converges to the optimal solution $W\\_opt$, while SGD with the strategies (ii) and (iii) do not converge to the optimal solution."
   ]
  },
  {
   "cell_type": "markdown",
   "metadata": {},
   "source": [
    "**<span style=\"color:red\">Exercise 1</span>**: Try with smaller learning rates and different initial $W$ to compare the models obtained by three strategies in (i), (ii), and (iii). Report your observations."
   ]
  },
  {
   "cell_type": "markdown",
   "metadata": {},
   "source": [
    "**<span style=\"color:red\">Exercise 2</span>**: Implement SGD with momentum (refer [here](https://ruder.io/optimizing-gradient-descent/)) and compare with the standard SGD in terms of the convergence rate to the optimal solution."
   ]
  },
  {
   "cell_type": "markdown",
   "metadata": {},
   "source": [
    "## <span style=\"color:#0b486b\"> II. Conduct a DNN model on the MNIST dataset with SGD</span>"
   ]
  },
  {
   "cell_type": "markdown",
   "metadata": {},
   "source": [
    "### **<span style=\"color:#0b486b\"> II.1 We first load the MNIST dataset in TensorFlow</span>**"
   ]
  },
  {
   "cell_type": "code",
   "execution_count": 22,
   "metadata": {},
   "outputs": [],
   "source": [
    "import tensorflow as tf\n",
    "from tensorflow.keras.models import Sequential\n",
    "from tensorflow.keras.layers import Dense"
   ]
  },
  {
   "cell_type": "code",
   "execution_count": 23,
   "metadata": {},
   "outputs": [],
   "source": [
    "mnist = tf.keras.datasets.mnist\n",
    "(X_train_full_img, y_train_full), (X_test_img, y_test) = mnist.load_data()"
   ]
  },
  {
   "cell_type": "code",
   "execution_count": 24,
   "metadata": {},
   "outputs": [
    {
     "name": "stdout",
     "output_type": "stream",
     "text": [
      "(60000, 784) (60000,)\n",
      "(10000, 784) (10000,)\n"
     ]
    }
   ],
   "source": [
    "num_train = X_train_full_img.shape[0]\n",
    "num_test = X_test_img.shape[0]\n",
    "X_train_full = X_train_full_img.reshape(num_train,-1)/255.0\n",
    "X_test = X_test_img.reshape(num_test, -1)/255.0\n",
    "print(X_train_full.shape, y_train_full.shape)\n",
    "print(X_test.shape, y_test.shape)"
   ]
  },
  {
   "cell_type": "markdown",
   "metadata": {},
   "source": [
    "### **<span style=\"color:#0b486b\"> II.2 We build a deep neural network with several fully-connected layers</span>**"
   ]
  },
  {
   "cell_type": "code",
   "execution_count": 26,
   "metadata": {},
   "outputs": [],
   "source": [
    "class DNN:\n",
    "    def __init__(self, n_classes= 10, optimizer= tf.keras.optimizers.SGD(learning_rate= 0.001), batch_size= 32):\n",
    "        self.n_classes= 10\n",
    "        self.batch_size= batch_size\n",
    "        self.optimizer = optimizer\n",
    "        #create a tensorflow dataset\n",
    "        self.train_full_set = tf.data.Dataset.from_tensor_slices((X_train_full, y_train_full)).shuffle(1000)\n",
    "        #take train and valid sets from full dataset\n",
    "        self.train_set = self.train_full_set.take(50000)\n",
    "        self.valid_set = self.train_full_set.skip(50000).take(10000)\n",
    "        #batching train and valid sets\n",
    "        self.train_set= self.train_set.batch(self.batch_size).prefetch(1)\n",
    "        self.valid_set= self.valid_set.batch(self.batch_size).prefetch(1)\n",
    "        \n",
    "    def build(self):\n",
    "        self.model= Sequential([Dense(20, activation='relu'), Dense(20, activation= 'relu'),\n",
    "                               Dense(self.n_classes, activation= 'softmax')])\n",
    "        \n",
    "    def compute_loss(self, X, y): #X is data batch, y is label batch\n",
    "        return tf.keras.losses.sparse_categorical_crossentropy(X,y)\n",
    "    \n",
    "    def compute_grads(self, X, y):\n",
    "        with tf.GradientTape() as g:  #use gradient tape to compute gradients\n",
    "            loss= self.compute_loss(X,y)\n",
    "        grads= g.gradient(loss, self.model.trainable_variables) #compute gradients w.r.t. all trainable variables\n",
    "        return grads\n",
    "    \n",
    "    def train_one_batch(self, X, y): #train in one batch\n",
    "        grads= self.compute_grads(X,y)\n",
    "        #the gradients will be applied according to optimizer for example SGD, Adam, and etc.\n",
    "        self.optimizer.apply_gradients(zip(grads, self.model.trainable_variables))\n",
    "    \n",
    "    def train(self, epochs= 20, batch_size):\n",
    "        batch_per_epoch = tf.data.experimental.cardinality(self.train_set).numpy() #number of batches in train dataset\n",
    "        for epoch in range(epochs):\n",
    "            for (batch_index, batch_data) in zip(range(batch_per_epoch), self.train_set):\n",
    "                \n",
    "    \n",
    "            \n",
    "        \n",
    "        \n",
    "        "
   ]
  },
  {
   "cell_type": "code",
   "execution_count": null,
   "metadata": {},
   "outputs": [],
   "source": [
    "class DNN(tf.keras.Model):\n",
    "    def __init__(self, num_classes= 10):\n",
    "        super(DNN, self).__init__()\n",
    "        self.num_classes = num_classes\n",
    "        self.dense1 = tf.keras.layers.Dense(20, activation='relu')\n",
    "        self.dense2 = tf.keras.layers.Dense(20, activation= 'relu')\n",
    "        self.dense3 = tf.keras.layers.Dense(self.num_classes, activation= 'softmax')\n",
    "    \n",
    "    def call(self, inputs):\n",
    "        h = self.dense1(inputs)\n",
    "        h = self.dense2(h)\n",
    "        h = self.dense3(h)\n",
    "        return h"
   ]
  },
  {
   "cell_type": "code",
   "execution_count": null,
   "metadata": {},
   "outputs": [],
   "source": [
    "dnn = DNN(num_classes=10)"
   ]
  },
  {
   "cell_type": "code",
   "execution_count": null,
   "metadata": {},
   "outputs": [],
   "source": [
    "dnn.build(input_shape=(None, 784))\n",
    "dnn.summary()"
   ]
  },
  {
   "cell_type": "markdown",
   "metadata": {},
   "source": [
    "### **<span style=\"color:#0b486b\"> II.3 Next we train the DNN on MNIST by SGD</span>**"
   ]
  },
  {
   "cell_type": "code",
   "execution_count": null,
   "metadata": {},
   "outputs": [],
   "source": [
    "opt = tf.keras.optimizers.SGD(learning_rate=0.001)\n",
    "dnn.compile(optimizer= opt, loss= 'sparse_categorical_crossentropy', metrics=['accuracy'])"
   ]
  },
  {
   "cell_type": "code",
   "execution_count": null,
   "metadata": {},
   "outputs": [],
   "source": [
    "dnn.fit(X_train, y_train, batch_size=32, epochs=10, validation_data=(X_valid, y_valid))"
   ]
  },
  {
   "cell_type": "code",
   "execution_count": null,
   "metadata": {},
   "outputs": [],
   "source": [
    "# Evaluate the performance on the test data\n",
    "loss, test_acc = dnn.evaluate(X_test, y_test)\n",
    "print('Test acc= {}'.format(test_acc))"
   ]
  },
  {
   "cell_type": "markdown",
   "metadata": {},
   "source": [
    "### **<span style=\"color:#0b486b\"> II.4 We tune the learning rate using the validation data set</span>**"
   ]
  },
  {
   "cell_type": "code",
   "execution_count": null,
   "metadata": {},
   "outputs": [],
   "source": [
    "lst_learning_rates = [0.1, 0.01, 0.001]\n",
    "best_acc= - np.inf\n",
    "opt = tf.keras.optimizers.SGD(learning_rate=0.001)\n",
    "\n",
    "for lr in lst_learning_rates:\n",
    "    dnn = DNN(num_classes=10)\n",
    "    dnn.build(input_shape= (None, 784))\n",
    "    opt.learning_rate = lr\n",
    "    dnn.compile(optimizer= opt, loss= 'sparse_categorical_crossentropy', metrics= ['accuracy'])\n",
    "    print(\"Training with optimizer= {}, learning rate= {}\".format(opt.get_config()['name'], lr))\n",
    "    dnn.fit(X_train, y_train, batch_size= 32, epochs=10, verbose=0)\n",
    "    valid_loss, valid_acc = dnn.evaluate(X_valid, y_valid)\n",
    "    print('----> valid acc={}, valid loss= {}'.format(valid_acc, valid_loss))\n",
    "    if(valid_acc > best_acc):\n",
    "        best_acc= valid_acc\n",
    "        best_model = dnn\n",
    "        best_opt = opt\n",
    "        best_lr = lr\n",
    "\n",
    "print('\\nThe best model is with optimizer= {}, learning rate= {}'.format(best_opt.get_config()['name'], best_lr))\n",
    "print('Evaluating the best model on the test set')\n",
    "_, test_acc= best_model.evaluate(X_test, y_test)\n",
    "print('Test acc= {}'.format(test_acc))"
   ]
  },
  {
   "cell_type": "markdown",
   "metadata": {},
   "source": [
    "**<span style=\"color:red\">Exercise 3</span>**: Develop a feed-forward neural network to work with the MNIST dataset according to the following requirements:\n",
    "- The architecture is $Input \\rightarrow 20 (ReLU) \\rightarrow 40 (ReLU) \\rightarrow 20 (ReLU) \\rightarrow  Output (softmax)$.\n",
    "- Extend the code to allow doing grid search for tunining the learning rate in the list $[0.1, 0.01, 0.001]$ and optimizer in the list $[tf.keras.optimizers.Adam(), tf.keras.optimizers.RMSprop(), tf.keras.optimizers.SGD(momentum=0.2)]$ and save the best model to the hard disk ([link](https://www.tensorflow.org/guide/keras/save_and_serialize)). Plot the training progress of the best model (e.g., training and valid accuracies, training and valid losses).\n",
    "- Load the best model and evaluate on the test set."
   ]
  },
  {
   "cell_type": "markdown",
   "metadata": {},
   "source": [
    "---\n",
    "### <span style=\"color:#0b486b\"> <div  style=\"text-align:center\">**THE END**</div> </span>"
   ]
  }
 ],
 "metadata": {
  "kernelspec": {
   "display_name": "Python 3",
   "language": "python",
   "name": "python3"
  },
  "language_info": {
   "codemirror_mode": {
    "name": "ipython",
    "version": 3
   },
   "file_extension": ".py",
   "mimetype": "text/x-python",
   "name": "python",
   "nbconvert_exporter": "python",
   "pygments_lexer": "ipython3",
   "version": "3.7.7"
  }
 },
 "nbformat": 4,
 "nbformat_minor": 4
}
