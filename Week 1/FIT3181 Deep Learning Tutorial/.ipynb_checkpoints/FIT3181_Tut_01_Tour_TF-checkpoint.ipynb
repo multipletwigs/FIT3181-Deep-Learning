{
 "cells": [
  {
   "cell_type": "markdown",
   "metadata": {},
   "source": [
    "# <span style=\"color:#0b486b\">  FIT3181: Deep Learning (2022)</span>\n",
    "***\n",
    "*CE/Lecturer (Clayton):*  **Dr Trung Le** | trunglm@monash.edu <br/>\n",
    "*Lecturer (Malaysia):*  **Dr Lim Chern Hong** | lim.chernhong@monash.edu <br/>  <br/>\n",
    "*Tutor:*  **Mr Thanh Nguyen** \\[Thanh.Nguyen4@monash.edu \\] |**Mr Tuan Nguyen**  \\[tuan.ng@monash.edu \\] |**Mr Anh Bui** \\[tuananh.bui@monash.edu\\] | **Dr Binh Nguyen** \\[binh.nguyen1@monash.edu \\] | **Mr Md Mohaimenuzzaman** \\[md.mohaimen@monash.edu \\] |**Mr James Tong** \\[james.tong1@monash.edu \\]\n",
    "<br/> <br/>\n",
    "Faculty of Information Technology, Monash University, Australia\n",
    "***"
   ]
  },
  {
   "cell_type": "markdown",
   "metadata": {},
   "source": [
    "# <span style=\"color:#0b486b\">Tutorial 1: Deep Learning with TensorFlow</span> #\n",
    "**The purpose of this tutorial is to demonstrate how to work with an open source software library for developing deep neural networks apllications, called TensorFlow (TF). In this tutorial, following topics are covered:**\n",
    "\n",
    "1. A quick tour of TensorFlow 1.x\n",
    "2. How to visualize a computational graph and its node values using Tensorboard.\n",
    "3. Advancements of TensorFlow 2.x in comparison to TensorFlow 1.x.\n",
    "\n",
    "**Part I of this tutorial introduces TF 1.x. Although it is much more convenient if we build up and train deep learning models in TF 2.x, TF 1.x serves as a building block for TF 2.x, which can be viewed as a wrapper of TF 1.x. Therefore, understanding how TF 1.x operates is crucial and supports us in diving deeper into TF 2.x. In addition, the concept of computational graph with computational nodes (e.g., constants, variables, and place holders) is central of both TF 1.x and 2.x though being encapsulated in TF 2.x. Furthermore, when you join in the job marker, many of legacy codes have been written in TF 1.x. Therefore, it is crucial to have ideas of how TF 1.x generally operate.**\n",
    "\n",
    "**Part II introduces TF 2.x, a framework built up on top of TF 1.x. It is much simpler to use and deploy compared to TF 1.x. Most of latter advanced deep learning models in this unit will be implemented using TF 2.x.**\n",
    "\n",
    "**In addition, to facilitate the study of the students, the tutorial content also has additional material to indicate how the TF 1.x code can be ported to that of TF 2.x.** \n",
    "\n",
    "**References and additional reading and resources**\n",
    "- [Installing Tensorflow on Windows](https://www.tensorflow.org/install)\n",
    "- [Tensorflow API documentations](https://www.tensorflow.org/api_docs)\n",
    "- [Examples with Tensorflow](https://www.tensorflow.org/tutorials)\n",
    "\n",
    "**Acknowledgement**: *Some materials used in this tutorial have been adapted from Chapter 3 of the the book \"Learning TensorFlow: A Guide to Building Deep Learning Systems\" by Hope, Resheff and Lieder and Chapter 2 of \"Deep Learning with with TensorFlow 2 and Keras\" by Antonio Culli, Amita Kapoor, Sujit Pal.*"
   ]
  },
  {
   "cell_type": "markdown",
   "metadata": {},
   "source": [
    "---"
   ]
  },
  {
   "cell_type": "markdown",
   "metadata": {},
   "source": [
    "## <span style=\"color:#0b486b\"> I. A quick tour of TensorFlow 1.x </span>  <span style=\"color:red\">***** (highly important)</span>\n",
    "\n",
    "### Table of Content\n",
    "I.1 Computational Graph <br>\n",
    "I.2 Declare a Computational Graph  <br>\n",
    "I.3 Fetches Values  <br>\n",
    "I.4 More about Graph  <br>\n",
    "I.5 Data Types and Cast  <br>\n",
    "I.6 Get shape  <br>\n",
    "I.7 Initialize Tensors <br>\n",
    "I.8 Matrix Multiplication and Activation  <br>\n",
    "I.9 Name <br>\n",
    "I.10 Name Scope <br>\n",
    "I.11 Variable <br>\n",
    "I.12 Variable Scope and Reuse Variable <br>\n",
    "I.13 Name Scope & Variable Scope <br>\n",
    "I.14 Placeholder <br>\n",
    "I.15 Save and Restore Models <br>\n",
    "I.16 Visualization with TensorBoard <br>"
   ]
  },
  {
   "cell_type": "markdown",
   "metadata": {},
   "source": [
    "### <span style=\"color:#0b486b\"> I.1 Computational Graph </span> ###\n",
    "Computational graph is a basic concept of TensorFlow which represents the functional dependency of nodes. The following figure presents a typical computational graph wherein each node is a tensor. <br/>\n",
    "\n",
    "<img src=\"images/ComputationalGraph.png\" width=\"500\" align=\"center\"/> \n",
    "The above computational graph presents some functional dependencies:\n",
    "- $c$ is dependent on $a$, $b$.\n",
    "- $d$ depends on $a$, $e$ depends on $c$.\n",
    "- $f$ depends on $d$, $e$.\n"
   ]
  },
  {
   "cell_type": "markdown",
   "metadata": {},
   "source": [
    "### <span style=\"color:#0b486b\"> I.2 Declare a Computational Graph </span>\n",
    "The following code snippet shows how to declare a computational graph in TensorFlow. Once we import TF, a specific `empty default graph` is formed. All the nodes we create are automatically associated with that default graph. It is worth noting that we just `declare a graph` and **nothing** has been executed yet.\n",
    "\n",
    "Below we import TensorFlow 2.x. To ensure that this is comparatible and works with TF 1.x codes, we need to import the coressponding package `tensorflow.compat.v1`.\n",
    "\n",
    "\n"
   ]
  },
  {
   "cell_type": "code",
   "execution_count": 5,
   "metadata": {},
   "outputs": [
    {
     "name": "stdout",
     "output_type": "stream",
     "text": [
      "WARNING:tensorflow:From C:\\Users\\trung\\Anaconda3\\envs\\tf2x_cpu\\lib\\site-packages\\tensorflow_core\\python\\compat\\v2_compat.py:88: disable_resource_variables (from tensorflow.python.ops.variable_scope) is deprecated and will be removed in a future version.\n",
      "Instructions for updating:\n",
      "non-resource variables are not supported in the long term\n"
     ]
    }
   ],
   "source": [
    "import tensorflow.compat.v1 as tf\n",
    "tf.disable_v2_behavior()"
   ]
  },
  {
   "cell_type": "code",
   "execution_count": 6,
   "metadata": {},
   "outputs": [],
   "source": [
    "a = tf.constant(5)\n",
    "b = tf.constant(2)\n",
    "c = tf.constant(3)\n",
    "d = tf.multiply(a,b)\n",
    "e = tf.add(b,c)\n",
    "f = tf.subtract(d,e)"
   ]
  },
  {
   "cell_type": "markdown",
   "metadata": {},
   "source": [
    "**<span style=\"color:red\">Exercise 1</span>**: Draw the computational graph of the above computational process."
   ]
  },
  {
   "cell_type": "markdown",
   "metadata": {},
   "source": [
    "### <span style=\"color:#0b486b\"> I.3 Fetches Values </span> ###\n",
    "To query the nodes in a computational graph, we create a `session` and run a query in this sesstion."
   ]
  },
  {
   "cell_type": "code",
   "execution_count": 7,
   "metadata": {},
   "outputs": [
    {
     "name": "stdout",
     "output_type": "stream",
     "text": [
      "outs=[5, 2, 3, 10, 5, 5]\n"
     ]
    }
   ],
   "source": [
    "with tf.Session() as sess:\n",
    "    fetches = [a,b,c,d,e,f]\n",
    "    outs = sess.run(fetches)\n",
    "    print(\"outs={}\".format(outs))"
   ]
  },
  {
   "cell_type": "markdown",
   "metadata": {},
   "source": [
    "**<span style=\"color:red\">Exercise 2</span>**: Write code in the cell below to create a new node $g = a^2 + (b * f)$ and $h= (b+c)*d + e^2*c$, create a session, run a query to compute and display the values of $g$ and $h$."
   ]
  },
  {
   "cell_type": "code",
   "execution_count": null,
   "metadata": {},
   "outputs": [],
   "source": [
    "# write your code here"
   ]
  },
  {
   "cell_type": "markdown",
   "metadata": {},
   "source": [
    "### <span style=\"color:#0b486b\"> I.4 More about Graph </span> ###\n",
    "Each TF project is associated with a default computational graph. Besides the default graph, we can create other graphs on demand and work with these graphs."
   ]
  },
  {
   "cell_type": "code",
   "execution_count": 8,
   "metadata": {},
   "outputs": [
    {
     "name": "stdout",
     "output_type": "stream",
     "text": [
      "True\n",
      "False\n",
      "True\n"
     ]
    }
   ],
   "source": [
    "g1= tf.get_default_graph()\n",
    "g2 = tf.Graph()\n",
    "print(g1 is tf.get_default_graph())\n",
    "with g2.as_default():\n",
    "    print(g1 is tf.get_default_graph())\n",
    "    print(g2 is tf.get_default_graph())"
   ]
  },
  {
   "cell_type": "markdown",
   "metadata": {},
   "source": [
    "### <span style=\"color:#0b486b\"> I.5 Data Types and Cast </span> ###\n",
    "TensorFlow supports several data types when declaring its nodes. We can cast a node from a data type to another. "
   ]
  },
  {
   "cell_type": "code",
   "execution_count": 9,
   "metadata": {},
   "outputs": [
    {
     "name": "stdout",
     "output_type": "stream",
     "text": [
      "x type is <dtype: 'int32'>\n",
      "y type is <dtype: 'float32'>\n"
     ]
    }
   ],
   "source": [
    "x = tf.constant(name=\"x\", value=[1,2,3], dtype= tf.int32)\n",
    "print(\"x type is {}\".format(x.dtype))\n",
    "y = tf.cast(x, tf.float32)\n",
    "print(\"y type is {}\".format(y.dtype))"
   ]
  },
  {
   "cell_type": "markdown",
   "metadata": {},
   "source": [
    "Below are the popular data types in TensorFlow.\n",
    "\n",
    "<img src=\"images/TF_DataTypes.png\" width=\"600\" align=\"center\"/>"
   ]
  },
  {
   "cell_type": "markdown",
   "metadata": {},
   "source": [
    "### <span style=\"color:#0b486b\">I.6 Get Shape </span> ###\n",
    "Each node in a computational graph of TensorFlow is a tensor. We can use the method `get_shape()` to get shape of a tensor. Note that we create an interactive session and use `x.eval()` to evaluate the value of node `x` in the computational graph."
   ]
  },
  {
   "cell_type": "code",
   "execution_count": 10,
   "metadata": {},
   "outputs": [
    {
     "name": "stdout",
     "output_type": "stream",
     "text": [
      "x= [[[ 1  2  3]\n",
      "  [ 4  5  6]]\n",
      "\n",
      " [[-1 -2 -3]\n",
      "  [-4 -5 -6]]]\n",
      "x shape: (2, 2, 3)\n"
     ]
    }
   ],
   "source": [
    "x= tf.constant([[[1,2,3],[4,5,6]],\n",
    "                [[-1,-2,-3],[-4,-5,-6]]])\n",
    "sess = tf.InteractiveSession()\n",
    "print(\"x= {}\".format(x.eval()))\n",
    "print(\"x shape: {}\".format(x.get_shape()))\n",
    "sess.close()"
   ]
  },
  {
   "cell_type": "markdown",
   "metadata": {},
   "source": [
    "## <span style=\"color:#0b486b\"> I.7 Initialize Tensors </span> ###\n",
    "When declaring nodes in TensorFlow, we can initialize them using a heap of methods offered by TensorFlow. After that we can querry their values in an `interactive session`."
   ]
  },
  {
   "cell_type": "code",
   "execution_count": 11,
   "metadata": {},
   "outputs": [],
   "source": [
    "a= tf.constant(name='a', value=3)\n",
    "b= tf.fill(name='b', dims= [2,3], value=-1)\n",
    "c= tf.zeros(name='c', shape= [2,3])\n",
    "d= tf.ones(name='d', shape=[2,3])\n",
    "e= tf.random_normal(name='e', shape=[2,3], mean=0, stddev=1)\n",
    "f= tf.ones_like(e)\n",
    "g= tf.zeros_like(e)\n",
    "h= tf.random_shuffle([5,10,15,20])\n",
    "k= tf.random_uniform([2,3], minval=-1, maxval=1)"
   ]
  },
  {
   "cell_type": "code",
   "execution_count": 12,
   "metadata": {},
   "outputs": [
    {
     "name": "stdout",
     "output_type": "stream",
     "text": [
      "a=3\n",
      "b=[[-1 -1 -1]\n",
      " [-1 -1 -1]]\n",
      "c=[[0. 0. 0.]\n",
      " [0. 0. 0.]]\n",
      "d=[[1. 1. 1.]\n",
      " [1. 1. 1.]]\n",
      "e=[[ 0.94525653  0.24101743 -0.06577323]\n",
      " [ 0.51192856 -0.6157811  -0.14858465]]\n",
      "f=[[1. 1. 1.]\n",
      " [1. 1. 1.]]\n",
      "g=[[0. 0. 0.]\n",
      " [0. 0. 0.]]\n",
      "h=[15 20 10  5]\n",
      "k=[[-0.86874485 -0.23245311  0.5074892 ]\n",
      " [ 0.63736725 -0.7128763  -0.38713098]]\n"
     ]
    }
   ],
   "source": [
    "sess= tf.InteractiveSession()\n",
    "print(\"a={}\".format(a.eval()))\n",
    "print(\"b={}\".format(b.eval()))\n",
    "print(\"c={}\".format(c.eval()))\n",
    "print(\"d={}\".format(d.eval()))\n",
    "print(\"e={}\".format(e.eval()))\n",
    "print(\"f={}\".format(f.eval()))\n",
    "print(\"g={}\".format(g.eval()))\n",
    "print(\"h={}\".format(h.eval()))\n",
    "print(\"k={}\".format(k.eval()))\n",
    "sess.close()"
   ]
  },
  {
   "cell_type": "markdown",
   "metadata": {},
   "source": [
    "### <span style=\"color:#0b486b\"> I.8 Matrix Multiplication and Activation </span> ###\n",
    "Matrix multiplication in conjunction with activation is a building block in deep learning. In the following code snippet, we declare the matrix $A$ of $(2,3)$ and a vector $x$ of $(3,)$. To be able to apply $A \\times x$, we need to expand $x$ one dimension via the method `tf.expand_dims()`. Now $x$ has shape $(3,1)$ and we can do a matrix multiplication. Finnaly, we apply the activation function ReLu over the output of matrix multiplication: $ReLu(A \\times x)$. In addition, the formulation of ReLu is $ReLu(t)= \\max\\{0,t\\}$, which is the most popular activation function in deep learning."
   ]
  },
  {
   "cell_type": "code",
   "execution_count": 13,
   "metadata": {},
   "outputs": [
    {
     "name": "stdout",
     "output_type": "stream",
     "text": [
      "A shape: (2, 3)\n",
      "x shape: (3,)\n",
      "x shape: (3, 1)\n",
      "y before activation: [[  6]\n",
      " [-15]]\n",
      "y after activation: [[6]\n",
      " [0]]\n"
     ]
    }
   ],
   "source": [
    "A = tf.constant([[1,2,3],\n",
    "                 [-4,-5,-6]])\n",
    "x= tf.constant([1,1,1])\n",
    "print(\"A shape: {}\".format(A.get_shape()))\n",
    "print(\"x shape: {}\".format(x.get_shape()))\n",
    "x= tf.expand_dims(x,1) # expand one dimension to turn x's shape into (3, 1) \n",
    "print(\"x shape: {}\".format(x.get_shape()))\n",
    "sess= tf.InteractiveSession()\n",
    "y =tf.matmul(A,x)\n",
    "print(\"y before activation: {}\".format(y.eval()))\n",
    "y= tf.nn.relu(y)\n",
    "print(\"y after activation: {}\".format(y.eval()))\n",
    "sess.close()"
   ]
  },
  {
   "cell_type": "code",
   "execution_count": 14,
   "metadata": {},
   "outputs": [
    {
     "name": "stdout",
     "output_type": "stream",
     "text": [
      "x shape: (3, 1, 1)\n"
     ]
    }
   ],
   "source": [
    "x= tf.expand_dims(x,1)\n",
    "print(\"x shape: {}\".format(x.get_shape()))"
   ]
  },
  {
   "cell_type": "markdown",
   "metadata": {},
   "source": [
    "**<span style=\"color:red\">Exercise 3</span>**: Create a tensor $x$ of shape $(3, 1)$ with entry values $x[i, 0]=i$, $\\forall i = 0, 1, 2$ and another tensor $y$ of shape $(1, 3)$ with all entry values of $2$. Create another operation $z$ to perform matrix multiplication of $x$ and $y$. This operation is also called outer product. Print the shape of $z$. Also, run a querry to compute $z$ and print the result."
   ]
  },
  {
   "cell_type": "code",
   "execution_count": null,
   "metadata": {},
   "outputs": [],
   "source": [
    "# your code here\n"
   ]
  },
  {
   "cell_type": "markdown",
   "metadata": {},
   "source": [
    "### <span style=\"color:#0b486b\">I.9 Name </span> ###\n",
    "Each tensor object also has an identifying name. This name is an *intrinsic* string name. We can use the `object.name` attribute to see the name of the object.\n",
    "Objects residing within the same graph cannot have the same name.\n",
    "\n",
    "\n",
    "TF will automatically add an underscore and a number to distinguish the two which accidentally have the same name. Both objects can have the same name when they are associated with different graphs."
   ]
  },
  {
   "cell_type": "code",
   "execution_count": 15,
   "metadata": {},
   "outputs": [
    {
     "name": "stdout",
     "output_type": "stream",
     "text": [
      "c1 name: c:0\n",
      "c2 name: c_1:0\n"
     ]
    }
   ],
   "source": [
    "tf.reset_default_graph()\n",
    "g = tf.get_default_graph()\n",
    "with g.as_default():\n",
    "    c1= tf.constant(name='c', value=3)\n",
    "    c2= tf.constant(name='c', value=5)\n",
    "print(\"c1 name: {}\".format(c1.name))\n",
    "print(\"c2 name: {}\".format(c2.name))"
   ]
  },
  {
   "cell_type": "markdown",
   "metadata": {},
   "source": [
    "### <span style=\"color:#0b486b\">I.10 Name Scope </span> ### \n",
    "Name scope is a *hierarchically group nodes* together by name to divide a graph into subgraphs with some semantic meaning. To declare a name space, we use the syntax: `tf.name_scope(\"prefix\")`.\n",
    "\n",
    "Organizing your TensorFlow code using name scopes shows some advantages:\n",
    "- Make it easier to follow and manage.\n",
    "- Visualization of the graph structure.\n",
    "- Useful when dealing with a large, complicated graph."
   ]
  },
  {
   "cell_type": "code",
   "execution_count": 16,
   "metadata": {},
   "outputs": [
    {
     "name": "stdout",
     "output_type": "stream",
     "text": [
      "c1 name: c_2:0\n",
      "c2 name: prefix/c:0\n",
      "c3 name: prefix/c_1:0\n"
     ]
    }
   ],
   "source": [
    "with tf.get_default_graph().as_default():\n",
    "    c1 = tf.constant(name= \"c\", value=1.0)\n",
    "    with tf.name_scope(\"prefix\"):\n",
    "        c2 = tf.constant(name= \"c\", value=2.0)\n",
    "        c3 = tf.constant(name= \"c\", value=3.0)\n",
    "print(\"c1 name: {}\".format(c1.name))\n",
    "print(\"c2 name: {}\".format(c2.name))\n",
    "print(\"c3 name: {}\".format(c3.name))"
   ]
  },
  {
   "cell_type": "markdown",
   "metadata": {},
   "source": [
    "### <span style=\"color:#0b486b\">I.11 Variable </span> ### \n",
    "Variable nodes are crucial nodes in a TensorFlow computational graph whose values can be *modified* and *changed*. \n",
    "\n",
    "In a deep learning model, `model parameters` are declared as `variable nodes` in the relevant computational graph whose values are modified during training course. Using variables is done in two stages:\n",
    "- Call the `tf.Variable()` function to create a variable and define what value it will be initialized with.\n",
    "- Explicitly perform an initialization operation by running the session with the `tf.global_variables_initializer()` method. This will allocate the memory for the variable and set its initial values.\n",
    "\n"
   ]
  },
  {
   "cell_type": "code",
   "execution_count": 17,
   "metadata": {},
   "outputs": [
    {
     "name": "stdout",
     "output_type": "stream",
     "text": [
      "Pre-run my_var: <tf.Variable 'x:0' shape=(2, 3) dtype=float32_ref>\n",
      "Post-run my_var: [[ 0.00053012  0.09526845 -0.03208531]\n",
      " [-0.10226443  0.08608717  0.02368586]]\n"
     ]
    }
   ],
   "source": [
    "init_var = tf.random.normal(shape=[2,3], mean=0, stddev=0.1, dtype= tf.float32)\n",
    "my_var=  tf.Variable(initial_value= init_var, name='x')\n",
    "init= tf.global_variables_initializer()\n",
    "print(\"Pre-run my_var: {}\".format(my_var))\n",
    "with tf.Session() as sess:\n",
    "    sess.run(init)\n",
    "    my_var = sess.run(my_var)\n",
    "    print(\"Post-run my_var: {}\".format(my_var))"
   ]
  },
  {
   "cell_type": "markdown",
   "metadata": {},
   "source": [
    "Below presents some popular ways to *randomly initialize* the intial values of variables.\n",
    "\n",
    "<img src=\"images/tf_random.png\" width=\"800\" align=\"center\"/>\n"
   ]
  },
  {
   "cell_type": "markdown",
   "metadata": {},
   "source": [
    "### <span style=\"color:#0b486b\">I.12 Variable Scope and Reuse Variable </span> ###  \n",
    "\n",
    "Sometimes we might want to reuse a variable. This can be done by `tf.get_variable()`, which either reuses the variable with a specified name or creates a new variable with the name if it is not created before.\n",
    "\n",
    "If we want to reuse a variable later, we first need to declare this in a variable scope with `tf.variable_scope()` and then in this variable scope invoke `tf.get_variable()` with the flag reuse to be set to `True`."
   ]
  },
  {
   "cell_type": "code",
   "execution_count": 18,
   "metadata": {},
   "outputs": [
    {
     "name": "stdout",
     "output_type": "stream",
     "text": [
      "W1 and W2 are tight\n"
     ]
    }
   ],
   "source": [
    "with tf.variable_scope(\"layer1\"):\n",
    "    W1= tf.get_variable(name='W', shape=[2,3], dtype= tf.float32, initializer= tf.initializers.random_normal(0,0.1))\n",
    "    x= tf.Variable(initial_value=tf.random_normal([4,2], 0, 0.1), name=\"x\")\n",
    "    v1= tf.matmul(x, W1)\n",
    "\n",
    "with tf.variable_scope(\"layer1\", reuse=True):\n",
    "    W2= tf.get_variable(name='W', shape=[2,3], dtype= tf.float32, initializer= tf.initializers.random_normal(0,0.2))\n",
    "\n",
    "diff = tf.subtract(W1,W2)\n",
    "norm_diff = tf.norm(diff, ord='euclidean')\n",
    "init = tf.global_variables_initializer()\n",
    "\n",
    "with tf.Session() as sess:\n",
    "    sess.run(init)\n",
    "    norm_diff= sess.run(norm_diff)\n",
    "\n",
    "if norm_diff==0:\n",
    "    print(\"W1 and W2 are tight\")\n",
    "else:\n",
    "    print(\"W1 and W2 are not tight\")"
   ]
  },
  {
   "cell_type": "markdown",
   "metadata": {},
   "source": [
    "### <span style=\"color:#0b486b\">I.13 Name Scope & Variable Scope </span> ###   \n",
    "There are two different types of scopes: `name scope` created using `tf.name_scope` and `variable scope` created using `tf.variable_scope`. Both scopes have the same effect on all operations as well as variables created using `tf.Variable`, while only variable scope affects on `tf.get_variable()`"
   ]
  },
  {
   "cell_type": "markdown",
   "metadata": {},
   "source": [
    "The following figure shows the difference of two ways to create variables: `tf.Variable` and `tf.get_variable()`. <br/>\n",
    "\n",
    "<img src=\"images/Compare2WaysVariables.png\" width=\"400\" align=\"center\"/>"
   ]
  },
  {
   "cell_type": "code",
   "execution_count": 19,
   "metadata": {},
   "outputs": [
    {
     "name": "stdout",
     "output_type": "stream",
     "text": [
      "c1 name: ns/vs/c:0\n",
      "c2 name: vs/c:0\n"
     ]
    }
   ],
   "source": [
    "tf.reset_default_graph()\n",
    "with tf.name_scope(\"ns\"):\n",
    "    with tf.variable_scope(\"vs\", reuse=tf.AUTO_REUSE):\n",
    "        c1= tf.Variable(name=\"c\", initial_value= tf.constant(1.0))\n",
    "        c2= tf.get_variable(name=\"c\", initializer= tf.constant([-1,1]))\n",
    "print(\"c1 name: {}\".format(c1.name))\n",
    "print(\"c2 name: {}\".format(c2.name))"
   ]
  },
  {
   "cell_type": "markdown",
   "metadata": {},
   "source": [
    "**<span style=\"color:red\">Exercise 4</span>**: TensorFlow can also automatically decide to create a new variable if it does not exist and reuse if it is already created by setting `reuse=tf.AUTO_REUSE` as shown in the function `linear()` below. Questions:\n",
    "\n",
    "(a) What is the value of `diff`? You can run a session to compute its value to answer this question.\n",
    "\n",
    "(b) Why does `diff` get that value?\n",
    "\n",
    "(c) What happens if we set `reuse=False` in the delaration of `z` in the code below? Why?"
   ]
  },
  {
   "cell_type": "code",
   "execution_count": 20,
   "metadata": {},
   "outputs": [],
   "source": [
    "import tensorflow.compat.v1 as tf\n",
    "tf.disable_v2_behavior()\n",
    "\n",
    "tf.reset_default_graph()\n",
    "\n",
    "def linear(x, output_dim, reuse=tf.AUTO_REUSE):\n",
    "    with tf.variable_scope(\"linear\", reuse=reuse):\n",
    "        W = tf.get_variable('weights', shape=[output_dim, x.get_shape()[0]], dtype=tf.float32)\n",
    "        output = tf.matmul(W, x)\n",
    "        return output\n",
    "    \n",
    "x = tf.constant(0.0, shape=(3, 1))\n",
    "y = linear(x, 3, reuse=tf.AUTO_REUSE) \n",
    "z = linear(x, 3, reuse=tf.AUTO_REUSE) \n",
    "diff = y - z"
   ]
  },
  {
   "cell_type": "code",
   "execution_count": 21,
   "metadata": {},
   "outputs": [
    {
     "name": "stdout",
     "output_type": "stream",
     "text": [
      "[[-0.]\n",
      " [-0.]\n",
      " [-0.]]\n"
     ]
    }
   ],
   "source": [
    "with tf.Session() as sess:\n",
    "    sess.run(tf.global_variables_initializer())\n",
    "    print(diff.eval())"
   ]
  },
  {
   "cell_type": "markdown",
   "metadata": {},
   "source": [
    "**Write your answer here:**\n",
    "\n",
    "(a)\n",
    "\n",
    "(b)\n",
    "\n",
    "(c)"
   ]
  },
  {
   "cell_type": "markdown",
   "metadata": {},
   "source": [
    "### <span style=\"color:#0b486b\">I.14 Place Holder </span> ###    \n",
    "Placeholders can be thought of as `empty variables` that will be filled with data later on.\n",
    "\n",
    "We use them when constructing our graph and when executing querying value of nodes, we need to feed them with the input data.\n"
   ]
  },
  {
   "cell_type": "code",
   "execution_count": 24,
   "metadata": {},
   "outputs": [
    {
     "name": "stdout",
     "output_type": "stream",
     "text": [
      "s= -0.19289518892765045\n"
     ]
    }
   ],
   "source": [
    "import numpy as np\n",
    "\n",
    "tf.reset_default_graph()\n",
    "x_data= np.random.rand(10,3)\n",
    "\n",
    "with tf.name_scope(\"layer1\"):\n",
    "    W = tf.Variable(name= \"W\", initial_value=tf.random.normal([1,10],0,0.1, dtype= tf.float32))\n",
    "    b = tf.Variable(name=\"b\", initial_value=tf.random.normal([1,3],0,0.1, dtype=tf.float32))\n",
    "    x = tf.placeholder(name=\"x\", shape=[10,3], dtype= tf.float32)\n",
    "    v = tf.matmul(W,x) +b\n",
    "    s = tf.reduce_mean(v)\n",
    "\n",
    "with tf.Session() as sess:\n",
    "    sess.run(tf.global_variables_initializer())\n",
    "    s= sess.run(s, feed_dict={x:x_data})\n",
    "\n",
    "print(\"s= {}\".format(s))"
   ]
  },
  {
   "cell_type": "markdown",
   "metadata": {},
   "source": [
    "### <span style=\"color:#0b486b\">I.15. Visualization with TensorBoard</span>"
   ]
  },
  {
   "cell_type": "markdown",
   "metadata": {},
   "source": [
    "##### <span style=\"color:#0b486b\"> Logging and creating summary for visualization </span>"
   ]
  },
  {
   "cell_type": "markdown",
   "metadata": {},
   "source": [
    "Usually one would use the `print()` function and `matplotlib` to visualize progress during training. There is a better way to do this via TensorBoard. If you feed in training stats, it will display nice interactive visualizations of\n",
    "these stats in your web browser (e.g., learning curves).\n",
    "\n",
    "You can also provide the graph’s definition and TensorBoard provides interface to browse through it. This is very useful to identify errors in the graph, to find bottlenecks, and so on.\n",
    "\n",
    "Let's visualize learning rate and global step in the example above."
   ]
  },
  {
   "cell_type": "code",
   "execution_count": 25,
   "metadata": {},
   "outputs": [],
   "source": [
    "# construction\n",
    "tf.reset_default_graph()\n",
    "\n",
    "starter_lr = 1.\n",
    "decay_rate = 0.9\n",
    "global_step = tf.Variable(0., trainable=0)\n",
    "incr = tf.assign(global_step, global_step + 1)\n",
    "\n",
    "with tf.control_dependencies([incr]):\n",
    "    learning_rate = starter_lr * tf.pow(decay_rate, global_step)"
   ]
  },
  {
   "cell_type": "markdown",
   "metadata": {},
   "source": [
    "Here, we construct the graph as normal:"
   ]
  },
  {
   "cell_type": "code",
   "execution_count": 26,
   "metadata": {},
   "outputs": [],
   "source": [
    "tf.summary.scalar('learning_rate', learning_rate)\n",
    "tf.summary.scalar('global_step', global_step)\n",
    "merged = tf.summary.merge_all() # Merges all summaries collected in the default graph"
   ]
  },
  {
   "cell_type": "markdown",
   "metadata": {},
   "source": [
    "The first two lines create two summary ops in the graph that will evaluate the learning_rate and global_step value and write them to a TensorBoard compatible binary log string called a summary.\n",
    "\n",
    "The third line creates a node that merges all summaries collected in the default graph. In the execution phase, you'll need to evaluate the merged node regularly during training (e.g., every 10 mini-batches). This will output a summary that you can then write to the events file using the *`file_writer`*."
   ]
  },
  {
   "cell_type": "code",
   "execution_count": 27,
   "metadata": {},
   "outputs": [],
   "source": [
    "import time\n",
    "logdir = \"tf_logs/example01/model-at-{}\".format(time.strftime('%Y-%m-%d_%H.%M.%S'))\n",
    "file_writer = tf.summary.FileWriter(logdir, tf.get_default_graph())"
   ]
  },
  {
   "cell_type": "markdown",
   "metadata": {},
   "source": [
    "<img src=\"images/note.gif\" width=\"40\" align=\"left\"> Tip: You need to use a different log directory every time you run your program, or else TensorBoard will merge stats from different runs, which will mess up the visualizations. The simplest solution for this is to include a timestamp in the log directory name."
   ]
  },
  {
   "cell_type": "markdown",
   "metadata": {},
   "source": [
    "Now's the execution phase: <br>\n",
    "\\- The first line creates a node in the graph that will evaluate the *MSE* value and write it to a TensorBoard compatible binary log string called a summary. Then you need to update the execution phase to evaluate the *`mse_summary`* node regularly during training\n",
    "(e.g., every 10 mini-batches). This will output a summary that you can then write to the events file using\n",
    "the *`file_writer`*. Here is the updated code:"
   ]
  },
  {
   "cell_type": "code",
   "execution_count": 28,
   "metadata": {},
   "outputs": [],
   "source": [
    "with tf.Session() as sess:\n",
    "    global_step.initializer.run()\n",
    "    for i in range(50):\n",
    "        merged_ = merged.eval()\n",
    "        file_writer.add_summary(merged_)"
   ]
  },
  {
   "cell_type": "markdown",
   "metadata": {},
   "source": [
    "<img src=\"images/warning.png\" width=\"40\" align=\"left\"></img> **Warning**: *In real-world application logging training stats at every single training step would significantly slow down training; instead, one should log at regular interval, such as after each 200 iterations*."
   ]
  },
  {
   "cell_type": "markdown",
   "metadata": {},
   "source": [
    "Finally, you want to close the FileWriter at the end of the program:"
   ]
  },
  {
   "cell_type": "code",
   "execution_count": 29,
   "metadata": {},
   "outputs": [],
   "source": [
    "file_writer.close()"
   ]
  },
  {
   "cell_type": "markdown",
   "metadata": {},
   "source": [
    "Great, now it's time to show Tensorboard. Fortunately, we can run and show tensorboard within the notebook by running the command line as below."
   ]
  },
  {
   "cell_type": "code",
   "execution_count": 31,
   "metadata": {},
   "outputs": [
    {
     "name": "stdout",
     "output_type": "stream",
     "text": [
      "The tensorboard extension is already loaded. To reload it, use:\n",
      "  %reload_ext tensorboard\n"
     ]
    },
    {
     "data": {
      "text/plain": [
       "Reusing TensorBoard on port 6006 (pid 15316), started 0:11:13 ago. (Use '!kill 15316' to kill it.)"
      ]
     },
     "metadata": {},
     "output_type": "display_data"
    },
    {
     "data": {
      "text/html": [
       "\n",
       "      <iframe id=\"tensorboard-frame-792011b816ea6c47\" width=\"100%\" height=\"800\" frameborder=\"0\">\n",
       "      </iframe>\n",
       "      <script>\n",
       "        (function() {\n",
       "          const frame = document.getElementById(\"tensorboard-frame-792011b816ea6c47\");\n",
       "          const url = new URL(\"/\", window.location);\n",
       "          const port = 6006;\n",
       "          if (port) {\n",
       "            url.port = port;\n",
       "          }\n",
       "          frame.src = url;\n",
       "        })();\n",
       "      </script>\n",
       "    "
      ],
      "text/plain": [
       "<IPython.core.display.HTML object>"
      ]
     },
     "metadata": {},
     "output_type": "display_data"
    }
   ],
   "source": [
    "%load_ext tensorboard\n",
    "%tensorboard --logdir tf_logs"
   ]
  },
  {
   "cell_type": "markdown",
   "metadata": {},
   "source": [
    "Otherwise, you can open Tensorboard in a separate browser's window. You need to activate your virtual environment\n",
    "if you created one, then start the server by running the *`tensorboard`* command, pointing it to the root log\n",
    "directory. This starts the TensorBoard web server, listening on port 6006 <br> <br>\n",
    "- Open command line, nevigate to the folder of this tute and run **> tensorboard --logdir tf_logs**\n",
    "- Open your browser and go to https://localhost:6006. Welcome to\n",
    "TensorBoard! In the Scalars tab, you'll see *`global_step`* and *`learning_rate`*: <br><br>\n",
    "\n",
    "<img src='images/learning_rate.png' width=300>"
   ]
  },
  {
   "cell_type": "markdown",
   "metadata": {},
   "source": [
    "## <span style=\"color:#0b486b\"> II. Understanding TensorFlow 2.x </span> <span style=\"color:red\">*****</span>\n",
    "\n",
    "### Table of Content \n",
    "II.1 Advancements of TensorFlow 2. <br>\n",
    "II.2 TensorFlow 2.x's API and architecture. <br>\n",
    "II.3 Eager Execution and Dynamic Graph. <br> \n",
    "II.4 Placeholder Replacement and The Data API in TF 2.x <br> \n"
   ]
  },
  {
   "cell_type": "markdown",
   "metadata": {},
   "source": [
    "### <span style=\"color:#0b486b\"> II.1. Advancements of TensorFlow 2.x </span>"
   ]
  },
  {
   "cell_type": "markdown",
   "metadata": {},
   "source": [
    "In TF 1.x, we need to declare a computational graph manually and create session to query node values. This is different from an imperative and high-level programing language such as Python, which is much easier to work with and more dynamic. TF 2.x brings TF to closer to an imperative and high-level programming language such as Python, thereby making the task of building up deep learning models more conveniently. This is due to two new features: **eager execution** and **AutoGraph**.\n",
    "- **Eager execution**: you still have a graph, but you can define, change, and execute nodes on-the-ﬂy, with no special session interfaces or placeholders. This is what is called eager execution, meaning that the model definitions are dynamic, and the execution is immediate. Graphs and sessions should be considered as implementation details. In TF 2.x, we do not need to work directly with a computational graph and session.\n",
    "- **AutoGraph**: AutoGraph takes eager-style Python code and automatically converts it to graph-generating code. So, again, transparently TensorFlow 2.x creates a bridge between imperative, dynamic, and eager Python style programming with efficient graph computations, taking the best of both worlds.\n",
    "\n",
    "In addition, Keras has been incorporated in and become a part of TF 2.x, which allows us to build up deep learning models comfortably and conveniently.\n"
   ]
  },
  {
   "cell_type": "markdown",
   "metadata": {},
   "source": [
    "### <span style=\"color:#0b486b\"> II.2. TensorFlow 2.x's API and architecture</span>\n",
    "\n",
    "The below image shows the API of TF 2.x. At the lowest level, each TensorFlow operation (op for short) is implemented using highly efficient C++ code. Many operations have multiple implementations called kernels: each kernel is dedicated to a specific device type, such as CPUs, GPUs, or even TPUs (tensor processing units).\n",
    "\n",
    "<img src='images/TF_API.png' align=center width=600>\n",
    "\n",
    "\n",
    "The architecture of TF 2.x is shown in the following image. Most of the time your code will use the high-level APIs (especially tf.keras and tf.data); but when you need more flexibility, you will use the lower-level Python API, handling tensors directly. \n",
    "\n",
    "<img src='images/TF_Architecture.png' align=center width=600>"
   ]
  },
  {
   "cell_type": "markdown",
   "metadata": {},
   "source": [
    "### <span style=\"color:#0b486b\"> II.3. Eager Execution in TF 2.x</span>\n",
    "\n",
    "#### Define, Change and Execute on-the-fly \n",
    "For example, you can define a variable, then modify it and showing the current value of this variable without calling any session or global_variables_initializer function as in TF 1.x  "
   ]
  },
  {
   "cell_type": "code",
   "execution_count": 32,
   "metadata": {},
   "outputs": [
    {
     "name": "stdout",
     "output_type": "stream",
     "text": [
      "WARNING:tensorflow:From C:\\Users\\trung\\Anaconda3\\envs\\tf2x_cpu\\lib\\site-packages\\tensorflow_core\\python\\ops\\resource_variable_ops.py:1635: calling BaseResourceVariable.__init__ (from tensorflow.python.ops.resource_variable_ops) with constraint is deprecated and will be removed in a future version.\n",
      "Instructions for updating:\n",
      "If using Keras pass *_constraint arguments to layers.\n",
      "--------\n",
      "Define a variable which has initial value is a tensor one with shape [2,3]\n",
      "<tf.Variable 'Variable_1:0' shape=(2, 3) dtype=float32>\n",
      "--------\n",
      "In place increasing by 10 \n",
      "<tf.Variable 'Variable_1:0' shape=(2, 3) dtype=float32>\n",
      "--------\n",
      "Modify individual cells in the tensor, e.g., cell [0,0] to -1 \n",
      "<tf.Variable 'Variable_1:0' shape=(2, 3) dtype=float32>\n",
      "--------\n",
      "-- iter = 0 --\n",
      "<tf.Variable 'Variable_1:0' shape=(2, 3) dtype=float32>\n",
      "-- iter = 1 --\n",
      "<tf.Variable 'Variable_1:0' shape=(2, 3) dtype=float32>\n",
      "-- iter = 2 --\n",
      "<tf.Variable 'Variable_1:0' shape=(2, 3) dtype=float32>\n"
     ]
    }
   ],
   "source": [
    "import tensorflow as tf \n",
    "\n",
    "v = tf.Variable(tf.ones([2,3], dtype= tf.float32)) \n",
    "print('--------')\n",
    "print('Define a variable which has initial value is a tensor one with shape [2,3]')\n",
    "print(v)\n",
    "\n",
    " \n",
    "v.assign_add(10. * tf.ones_like(v))\n",
    "print('--------')\n",
    "print('In place increasing by 10 ')\n",
    "print(v)\n",
    "\n",
    " \n",
    "v[0,0].assign(-1)\n",
    "print('--------')\n",
    "print('Modify individual cells in the tensor, e.g., cell [0,0] to -1 ')\n",
    "print(v)\n",
    "\n",
    "\n",
    "# Modify a specific cell inside a forloop \n",
    "print('--------')\n",
    "for i in range(v.shape[1]): \n",
    "#     v[:,i] = i # Raise Error: 'ResourceVariable' object does not support item assignment \n",
    "#     v[:,i].assign(i) # does not match r-value shape []. Automatic broadcasting not yet implemented \n",
    "    v[0,i].assign(i) # Working \n",
    "    print('-- iter = {} --'.format(i))\n",
    "    print(v)\n"
   ]
  },
  {
   "cell_type": "markdown",
   "metadata": {},
   "source": [
    "#### Variable Scope and Reuse Variable in TF 2.x \n",
    "In TF 1.x you need to manage the variable scope of each variable, especially when reusing it. In TF 2.x, it is more flexible.    "
   ]
  },
  {
   "cell_type": "code",
   "execution_count": 33,
   "metadata": {},
   "outputs": [
    {
     "name": "stdout",
     "output_type": "stream",
     "text": [
      "-----------------------------\n",
      "v1 Tensor(\"MatMul:0\", shape=(4, 3), dtype=float32)\n",
      "v2 Tensor(\"MatMul_1:0\", shape=(4, 5), dtype=float32)\n",
      "-----------------------------\n",
      "v1 Tensor(\"MatMul_2:0\", shape=(4, 3), dtype=float32)\n",
      "v2 Tensor(\"MatMul_3:0\", shape=(1, 3), dtype=float32)\n",
      "-----------------------------\n",
      "v1 Tensor(\"MatMul_4:0\", shape=(4, 3), dtype=float32)\n",
      "v2 Tensor(\"MatMul_5:0\", shape=(1, 3), dtype=float32)\n",
      "-----------------------------\n",
      "v1 Tensor(\"MatMul_6:0\", shape=(4, 3), dtype=float32)\n",
      "v2 Tensor(\"MatMul_7:0\", shape=(1, 3), dtype=float32)\n"
     ]
    }
   ],
   "source": [
    "# Example in TF 1.x \n",
    "\n",
    "#import tensorflow as tf \n",
    "#tf.compat.v1.disable_v2_behavior()\n",
    "import tensorflow.compat.v1 as tf\n",
    "tf.disable_v2_behavior()\n",
    "\n",
    "# Scenario 1: an input x that shared with two weights W1 and W2 \n",
    "print('-----------------------------')\n",
    "x = tf.Variable(tf.random.normal(shape=[4,2], mean=0., stddev=0.1))\n",
    "W1 = tf.Variable(tf.random.normal(shape=[2,3], mean=0., stddev=0.1))\n",
    "W2 = tf.Variable(tf.random.normal(shape=[2,5], mean=0., stddev=0.1))\n",
    "v1 = tf.matmul(x, W1)\n",
    "v2 = tf.matmul(x, W2)\n",
    "\n",
    "print('v1', v1)\n",
    "print('v2', v2)\n",
    "\n",
    "# Scenario 2: two input x1 and x2 multiple with the same weight W \n",
    "print('-----------------------------')\n",
    "x1 = tf.Variable(tf.random.normal(shape=[4,2], mean=0., stddev=0.1))\n",
    "x2 = tf.Variable(tf.random.normal(shape=[1,2], mean=0., stddev=0.1))\n",
    "W = tf.Variable(tf.random.normal(shape=[2,3], mean=0., stddev=0.1))\n",
    "v1 = tf.matmul(x1, W)\n",
    "v2 = tf.matmul(x2, W)\n",
    "\n",
    "print('v1', v1)\n",
    "print('v2', v2)\n",
    "\n",
    "# Scenario 3: Define a function that is matrix multiplication with pre-defined weight W \n",
    "print('-----------------------------')\n",
    "W = tf.Variable(tf.random.normal(shape=[2,3], mean=0., stddev=0.1))\n",
    "def my_matmul(x): \n",
    "    return tf.matmul(x, W)\n",
    "\n",
    "x1 = tf.Variable(tf.random.normal(shape=[4,2], mean=0., stddev=0.1))\n",
    "x2 = tf.Variable(tf.random.normal(shape=[1,2], mean=0., stddev=0.1))\n",
    "v1 = my_matmul(x1)\n",
    "v2 = my_matmul(x2)\n",
    "print('v1', v1)\n",
    "print('v2', v2)\n",
    "\n",
    "# Scenario 4: Define a function that is matrix multiplication with weight W is defined inside the function. \n",
    "# later in this unit, you will see some common practices, e.g., a convolution layer \n",
    "print('-----------------------------')\n",
    "def my_matmul2(x): \n",
    "    with tf.variable_scope(\"W\", reuse=tf.AUTO_REUSE):\n",
    "        W = tf.get_variable(name='W', shape=[2,3], dtype= tf.float32, initializer= tf.initializers.random_normal(0,0.1))\n",
    "    return tf.matmul(x, W)\n",
    "x1 = tf.Variable(tf.random.normal(shape=[4,2], mean=0., stddev=0.1))\n",
    "x2 = tf.Variable(tf.random.normal(shape=[1,2], mean=0., stddev=0.1))\n",
    "v1 = my_matmul2(x1)\n",
    "v2 = my_matmul2(x2)\n",
    "print('v1', v1)\n",
    "print('v2', v2)\n"
   ]
  },
  {
   "cell_type": "markdown",
   "metadata": {},
   "source": [
    "You need to restart kernel if enabling v1 behavior before ."
   ]
  },
  {
   "cell_type": "code",
   "execution_count": 1,
   "metadata": {},
   "outputs": [
    {
     "name": "stdout",
     "output_type": "stream",
     "text": [
      "-----------------------------\n",
      "v1 tf.Tensor(\n",
      "[[ 0.01204412 -0.02188431  0.00266371]\n",
      " [-0.01453481  0.03697937 -0.00728544]\n",
      " [ 0.01407576 -0.02179214  0.00165572]\n",
      " [ 0.02985188 -0.05378914  0.00642799]], shape=(4, 3), dtype=float32)\n",
      "v2 tf.Tensor(\n",
      "[[-5.9416839e-03 -3.1191125e-03 -1.0091536e-03  8.7338570e-04\n",
      "   6.6108070e-05]\n",
      " [ 1.6695781e-02  2.1725452e-02 -3.5156538e-03  4.7403951e-03\n",
      "  -1.0951834e-02]\n",
      " [-3.5340204e-03  2.7845982e-03 -2.8738941e-03  3.0950077e-03\n",
      "  -3.8147550e-03]\n",
      " [-1.4319293e-02 -6.9625918e-03 -2.7036986e-03  2.4125697e-03\n",
      "  -3.0118134e-04]], shape=(4, 5), dtype=float32)\n",
      "-----------------------------\n",
      "v1 tf.Tensor(\n",
      "[[-0.02213729 -0.01381313 -0.0123095 ]\n",
      " [-0.00383661  0.01445562 -0.02192155]\n",
      " [ 0.00476683  0.00862415 -0.00398449]\n",
      " [-0.00332956  0.00393679 -0.00891469]], shape=(4, 3), dtype=float32)\n",
      "v2 tf.Tensor([[0.02365605 0.02165595 0.00505632]], shape=(1, 3), dtype=float32)\n",
      "-----------------------------\n",
      "v1 tf.Tensor(\n",
      "[[ 0.04417229 -0.00631866 -0.00414635]\n",
      " [ 0.00439412  0.00515129  0.00204727]\n",
      " [-0.01326505  0.00619513  0.0030741 ]\n",
      " [ 0.01238051  0.0027181   0.00074829]], shape=(4, 3), dtype=float32)\n",
      "v2 tf.Tensor([[0.00270919 0.01286242 0.00538448]], shape=(1, 3), dtype=float32)\n",
      "-----------------------------\n",
      "v1 tf.Tensor(\n",
      "[[-0.00227149 -0.00837163  0.00783847]\n",
      " [-0.02805684  0.01575444  0.00153943]\n",
      " [ 0.02832922 -0.02552667  0.0061372 ]\n",
      " [-0.01256777  0.00225006  0.00453323]], shape=(4, 3), dtype=float32)\n",
      "W <tf.Variable 'Variable:0' shape=(2, 3) dtype=float32, numpy=\n",
      "array([[ 0.31906766, -0.04706375, -0.03055549],\n",
      "       [-0.0616852 ,  0.18821576,  0.08213414]], dtype=float32)>\n",
      "v2 tf.Tensor([[ 0.0020494  -0.00360591  0.00181831]], shape=(1, 3), dtype=float32)\n",
      "W <tf.Variable 'Variable:0' shape=(2, 3) dtype=float32, numpy=\n",
      "array([[ 0.31906766, -0.04706375, -0.03055549],\n",
      "       [-0.0616852 ,  0.18821576,  0.08213414]], dtype=float32)>\n",
      "Using the same W in two calls\n"
     ]
    }
   ],
   "source": [
    "# Reproduce in TF 2.x \n",
    "# Need to restart kernel if enabling v1 behavior before \n",
    "\n",
    "#import tensorflow as tf \n",
    "#tf.compat.v1.enable_v2_behavior()\n",
    "import tensorflow.compat.v1 as tf\n",
    "tf.enable_v2_behavior()\n",
    "\n",
    "# Scenario 1: an input x that shared with two weights W1 and W2 \n",
    "print('-----------------------------')\n",
    "x = tf.Variable(tf.random.normal(shape=[4,2], mean=0., stddev=0.1))\n",
    "W1 = tf.Variable(tf.random.normal(shape=[2,3], mean=0., stddev=0.1))\n",
    "W2 = tf.Variable(tf.random.normal(shape=[2,5], mean=0., stddev=0.1))\n",
    "v1 = tf.matmul(x, W1)\n",
    "v2 = tf.matmul(x, W2)\n",
    "\n",
    "print('v1', v1)\n",
    "print('v2', v2)\n",
    "\n",
    "# Scenario 2: two input x1 and x2 multiple with the same weight W \n",
    "print('-----------------------------')\n",
    "x1 = tf.Variable(tf.random.normal(shape=[4,2], mean=0., stddev=0.1))\n",
    "x2 = tf.Variable(tf.random.normal(shape=[1,2], mean=0., stddev=0.1))\n",
    "W = tf.Variable(tf.random.normal(shape=[2,3], mean=0., stddev=0.1))\n",
    "v1 = tf.matmul(x1, W)\n",
    "v2 = tf.matmul(x2, W)\n",
    "\n",
    "print('v1', v1)\n",
    "print('v2', v2)\n",
    "\n",
    "# Scenario 3: Define a function that is matrix multiplication with pre-defined weight W \n",
    "print('-----------------------------')\n",
    "W = tf.Variable(tf.random.normal(shape=[2,3], mean=0., stddev=0.1))\n",
    "def my_matmul(x): \n",
    "    return tf.matmul(x, W)\n",
    "\n",
    "x1 = tf.Variable(tf.random.normal(shape=[4,2], mean=0., stddev=0.1))\n",
    "x2 = tf.Variable(tf.random.normal(shape=[1,2], mean=0., stddev=0.1))\n",
    "v1 = my_matmul(x1)\n",
    "v2 = my_matmul(x2)\n",
    "print('v1', v1)\n",
    "print('v2', v2)\n",
    "\n",
    "# Scenario 4: Define a function that is matrix multiplication with weight W is defined inside the function. \n",
    "# later in this unit, you will see some common practices, e.g., a convolution layer \n",
    "print('-----------------------------')\n",
    "def my_matmul2(x): \n",
    "    W = tf.Variable(tf.random.normal(shape=[2,3], mean=0., stddev=0.1))\n",
    "    return tf.matmul(x, W)\n",
    "\n",
    "x1 = tf.Variable(tf.random.normal(shape=[4,2], mean=0., stddev=0.1))\n",
    "x2 = tf.Variable(tf.random.normal(shape=[1,2], mean=0., stddev=0.1))\n",
    "v1 = my_matmul2(x1)\n",
    "print('v1', v1)\n",
    "print('W', W)\n",
    "\n",
    "v2 = my_matmul2(x2)\n",
    "\n",
    "print('v2', v2)\n",
    "print('W', W)\n",
    "print('Using the same W in two calls')"
   ]
  },
  {
   "cell_type": "markdown",
   "metadata": {},
   "source": [
    "#### <span style=\"color:#0b486b\"> AutoGraph and Tracing</span>\n",
    "To fulfill the autograph feature, TF 2.x need to parse and analyze Python functions to capture all the control flow statements, such as *for loops, while loops*, and *if* statements, as well as *break, continue*, and *return statements*. \n",
    "\n",
    "After analyzing the function’s code, AutoGraph outputs an upgraded version of that function in which all the control flow statements are replaced by the appropriate TensorFlow operations, such as `tf.while_loop()` ,`for loops`, and `tf.cond()` for if statements. \n",
    "\n",
    "In the below figure, the function `sum_square(n)` is analyzed and transformed to the function `tf_sum_square(n)`, which is more convenient to be executed in the graph mode in the next step. When you invoke the former function: `sum_square(tf.constant(5))` for example, the upgraded function `tf__sum_squares()` function will be called with a symbolic tensor of type int32 and shape []. The function will run in graph mode, meaning that each TensorFlow operation will add a node in the graph to represent itself and its output tensor(s) (as opposed to the regular mode, called eager execution, or eager mode). In the following figure, you can see the `tf__sum_squares()` function being called with a symbolic tensor as its argument (in this case, an int32 tensor of shape []) and the final graph being generated during tracing. \n",
    "\n",
    "<img src='images/AutoGraph.png' align=center width=700>"
   ]
  },
  {
   "cell_type": "markdown",
   "metadata": {},
   "source": [
    "### <span style=\"color:#0b486b\"> II.4. Placeholder Replacement and The Data API in TF 2.x </span>\n",
    "\n",
    "Tensorflow is designed to work with tensors, not numpy arrays. Therefore, we need data loading and processing operations to convert a raw data (i.e., text, images in digital form) to the tensor format. \n",
    "\n",
    "In TF 1.x we use a placeholder as a gate to feed data to train deep learning models. However, in TF 2.x, it is replaced by the Data API. Later in this unit, you will learn more about data processing operations, such as, batching, bufferring, transformation, etc (more detail in references [1,2] for curious learners). In this early introduction, we just show some basic data operations that replace placeholder. \n",
    "\n",
    "References:\n",
    "\n",
    "[1] Chapter 13 in *Hands-On Machine Learning with Scikit-Learn and TensorFlow: Concepts, Tools, and Techniques to Build Intelligent Systems** by Geron Aurelien\n",
    "\n",
    "[2] Tensorflow tutorial in the link https://www.tensorflow.org/guide/data \n"
   ]
  },
  {
   "cell_type": "code",
   "execution_count": 2,
   "metadata": {},
   "outputs": [
    {
     "name": "stdout",
     "output_type": "stream",
     "text": [
      "a [2. 4. 5.] <class 'numpy.ndarray'> float64\n",
      "t tf.Tensor([2. 4. 5.], shape=(3,), dtype=float64) <class 'tensorflow.python.framework.ops.EagerTensor'> <dtype: 'float64'>\n",
      "b [2. 4. 5.] <class 'numpy.ndarray'> float64\n",
      "list_t tf.Tensor([1. 2. 3.], shape=(3,), dtype=float32) <class 'tensorflow.python.framework.ops.EagerTensor'> <dtype: 'float32'>\n",
      "string_t tf.Tensor(b'Hello there', shape=(), dtype=string) <class 'tensorflow.python.framework.ops.EagerTensor'> <dtype: 'string'>\n"
     ]
    }
   ],
   "source": [
    "import tensorflow as tf\n",
    "import numpy as np\n",
    "# Create a tensor with a numpy array\n",
    "a = np.array([2., 4., 5.]) # dtype is float64\n",
    "t = tf.constant(a) # dtype is float64\n",
    "\n",
    "print('a', a, type(a), a.dtype)\n",
    "print('t', t, type(t), t.dtype)\n",
    "\n",
    "# Convert a tensor back to a numpy array \n",
    "b = t.numpy() # dtype is float64\n",
    "print('b', b, type(b), b.dtype)\n",
    "\n",
    "# convert to a tensor with function \n",
    "# This function converts Python objects of various types to Tensor objects. \n",
    "# It accepts Tensor objects, numpy arrays, Python lists, and Python scalars.\n",
    "list_t = tf.convert_to_tensor([1.,2.,3.])\n",
    "print('list_t', list_t, type(list_t), list_t.dtype)\n",
    "\n",
    "# working with string \n",
    "s = 'Hello there'\n",
    "string_t = tf.constant(s)\n",
    "print('string_t', string_t, type(string_t), string_t.dtype)"
   ]
  },
  {
   "cell_type": "markdown",
   "metadata": {},
   "source": [
    "Notice that NumPy uses 64-bit precision by default, while TensorFlow uses 32-bit. This is because 32-bit precision is generally more than enough for neural networks, plus it runs faster and uses less RAM. So when you create a tensor from a NumPy array, make sure to set dtype=tf.float32"
   ]
  },
  {
   "cell_type": "code",
   "execution_count": 3,
   "metadata": {},
   "outputs": [
    {
     "name": "stdout",
     "output_type": "stream",
     "text": [
      "tf.Tensor([ 4. 16. 25.], shape=(3,), dtype=float64)\n",
      "tf.Tensor([ 4. 16. 25.], shape=(3,), dtype=float64)\n"
     ]
    }
   ],
   "source": [
    "# Some functions can work with numpy array directly \n",
    "print(tf.square(a))\n",
    "\n",
    "# We can multiply a numpy array with a tensor \n",
    "print(tf.multiply(a, t))\n"
   ]
  },
  {
   "cell_type": "markdown",
   "metadata": {},
   "source": [
    "---\n",
    "### <span style=\"color:#0b486b\"> <div  style=\"text-align:center\">**THE END**</div> </span>"
   ]
  }
 ],
 "metadata": {
  "kernelspec": {
   "display_name": "Python 3",
   "language": "python",
   "name": "python3"
  },
  "language_info": {
   "codemirror_mode": {
    "name": "ipython",
    "version": 3
   },
   "file_extension": ".py",
   "mimetype": "text/x-python",
   "name": "python",
   "nbconvert_exporter": "python",
   "pygments_lexer": "ipython3",
   "version": "3.7.10"
  }
 },
 "nbformat": 4,
 "nbformat_minor": 4
}
