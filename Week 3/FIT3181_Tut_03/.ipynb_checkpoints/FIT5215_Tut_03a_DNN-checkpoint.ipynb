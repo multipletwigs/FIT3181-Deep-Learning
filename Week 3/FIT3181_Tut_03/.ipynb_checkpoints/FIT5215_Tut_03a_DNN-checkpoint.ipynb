{
 "cells": [
  {
   "cell_type": "markdown",
   "metadata": {},
   "source": [
    "# <span style=\"color:#0b486b\">  FIT5215: Deep Learning (2022)</span>\n",
    "***\n",
    "*CE/Lecturer:*  **Dr Trung Le** | trunglm@monash.edu <br/> <br/>\n",
    "*Tutor:*  **Mr Tuan Nguyen**  \\[tuan.ng@monash.edu \\] |**Mr Anh Bui** \\[tuananh.bui@monash.edu\\] | **Mr Xiaohao Yang** \\[xiaohao.yang@monash.edu \\] | **Mr Md Mohaimenuzzaman** \\[md.mohaimen@monash.edu \\] |**Mr Thanh Nguyen** \\[Thanh.Nguyen4@monash.edu \\] |\n",
    "<br/> <br/>\n",
    "Faculty of Information Technology, Monash University, Australia\n",
    "******"
   ]
  },
  {
   "cell_type": "markdown",
   "metadata": {},
   "source": [
    "# <span style=\"color:#0b486b\">Tutorial 3a: Feed-forward Neural Nets with TensorFlow 1.x</span> \n",
    "**The purpose of this tutorial is to demonstrate how to work with an open source software library for developing deep neural networks apllications, called TensorFlow. In this tutorial, we will focus on**:  \n",
    "- ***Inspect the common pipeline of deep learning*.**\n",
    "- ***How to implement a feedforward neural net for a multi-class classfication problem using TF 1.x in Tutorial 3a (this tutorial)*.**\n",
    "- ***How to implement a feedforward neural net for a multi-class classfication problem using TF 2.x in Tutorial 3b*.**"
   ]
  },
  {
   "cell_type": "markdown",
   "metadata": {},
   "source": [
    "***"
   ]
  },
  {
   "cell_type": "markdown",
   "metadata": {},
   "source": [
    "### <span style=\"color:#0b486b\"> II.1 Feedforward Neural Network </span> <span style=\"color:red\">***** (highly important)</span>\n",
    "#### <span style=\"color:#0b486b\"> Tutorial objective </span>"
   ]
  },
  {
   "cell_type": "markdown",
   "metadata": {},
   "source": [
    "In this tutorial we will consider a fairly realistic deep NNs with *three* layers plus the *output* layer. Its architecture will be specified as: $16 \\rightarrow 10 (ReLU) \\rightarrow 20 (ReLU) \\rightarrow 15 (ReLu) \\rightarrow 26$. This means:\n",
    "- Input size is 16\n",
    "- First layer has 10 hidden units with ReLU activation functions\n",
    "- Second layer has 20 hidden units with 20 ReLU activiation functions\n",
    "- Third layer has 15 hidden units with 15 ReLU activiation functions\n",
    "- And output layer is logit layer with 26 hidden units"
   ]
  },
  {
   "cell_type": "markdown",
   "metadata": {},
   "source": [
    "This network, for example, can take the `letter` dataset input with $16$ features and with $26$ classes (A-Z). **Our objective in this tutorial is to implement this specific network in `TensorFlow 1.x`.**"
   ]
  },
  {
   "cell_type": "markdown",
   "metadata": {},
   "source": [
    "#### <span style=\"color:#0b486b\">Specifying the Neural Network Architecture </span>"
   ]
  },
  {
   "cell_type": "markdown",
   "metadata": {},
   "source": [
    "We can visualize this network as in the figure below. Please note that for readability, the number of hidden units in the figure might not correspond exactly to the actual size of the hidden units used."
   ]
  },
  {
   "cell_type": "markdown",
   "metadata": {},
   "source": [
    "<img src=\"./images/DNN_Pipeline.PNG\" width=\"1000\">"
   ]
  },
  {
   "cell_type": "markdown",
   "metadata": {},
   "source": [
    "Furthermore, the above figure shows the pipeline of the entire process for feeding a mini-batch of batch size $32$ into the network. Using ***mini-batch*** is a common way to train deep NNs in practice."
   ]
  },
  {
   "cell_type": "markdown",
   "metadata": {},
   "source": [
    "Let us denote the mini-batch by $X_b= \\{(x_1, y_1),\\dots, (x_{32}, y_{32})\\}$. The mini-batch can be stored using a $2D$ tensor with the shape $(32, 16)$. Assume that in this network, we use the activation function $ReLu$ where $ReLu(t)= \\max\\{0, t\\}$. The computation in the forward propagation step is as follows:\n",
    "- Input $X_b$ with mini-batch size of 32\n",
    "- $h_1= ReLu(X_b \\times W^1 + b^1)\\in \\mathbb{R}^{32 \\times 10}$. \n",
    "- $h_2= ReLu(h_1 \\times W^2 + b^2\\in \\mathbb{R}^{32 \\times 20}$. \n",
    "- $h_3= ReLu(h_2 \\times W^3 + b^3\\in \\mathbb{R}^{32 \\times 15}$. \n",
    "- $logits= h_3 \\times W^4 + b^4 \\in \\mathbb{R}^{32 \\times 26}$\n",
    "- $p = softmax(logits) \\in \\mathbb{R}^{32 \\times 26}$ <br>\n",
    "\n",
    "where we note that the activation function is perfomed element-wise and the softmax function is used to transform a vector of scalars to a discrete distribution as: \n",
    "\n",
    "$$softmax(z)=\\big[\\frac{\\exp(z_i)}{\\sum_{j=1}^{26}{\\exp(z_j)}}\\big]_{i=1}^{26}$$"
   ]
  },
  {
   "cell_type": "markdown",
   "metadata": {},
   "source": [
    "    \n",
    "The $k$-th row $p_k$ of the matrix $p$ can represent the probability distribution to classify the data point $x_k$ to the classes $1,2,\\dots,26$. In particular, we have:\n",
    "\n",
    "$$p_{km}= p(y_k=m \\mid x_k)  \\text{ for }  m=1,2,\\dots,26$$"
   ]
  },
  {
   "cell_type": "markdown",
   "metadata": {},
   "source": [
    "**<span style=\"color:red\"> Exercise 1</span>** : Explain why the dimension for $h_1$ is $32\\times 10$? and similarly work out the dimension for $h2, h3, logits$ and $p$."
   ]
  },
  {
   "cell_type": "markdown",
   "metadata": {},
   "source": [
    "#### <span style=\"color:#0b486b\">Specifying the Loss Function </span>\n",
    "Essiential to training a deep NN is the concept of the **loss function**. This function will tell us how good the network is predicting, and hence we can use this loss to find the network weights in such a way that the loss can be minimized."
   ]
  },
  {
   "cell_type": "markdown",
   "metadata": {},
   "source": [
    "For classification task, a common approach is to use the **cross-entropy** loss function. Given a data-label instance $(x_k,y_k)$ where feature $x_k\\in \\mathbb{R}^{16}$ and label $y_k \\in \\mathbb{R}^{16}$ is a one-hot vector (for example if $x_k$ is in the class 2, then $y_k=[0,1,0,...,0]$). The cross-entroty between the classification distribution $p_k$ returned from the NN and true label distribution $y_k$ is defined as:\n",
    "$$cross\\_entropy(y_k, p_k)=-\\sum_{j=1}^{26}y_{kj}\\log{p_{kj}}=-\\log p_{km_k}$$\n",
    "where $m_k$ denotes the class for $x_k$ (hence the one-hot vector $y_k$ is zero everywhere except at position $m_k$). This loss basically enforces the model to predict the label as close as the true label by minimizing $cross\\_entropy(y_k, p_k)$.\n",
    "\n",
    "The above loss function was applied for each instance. For the entire current mini-batch, our loss function becomes: \n",
    "$$\\min \\sum_{k=1}^{32}cross\\_entropy(y_k, p_k)$$"
   ]
  },
  {
   "cell_type": "markdown",
   "metadata": {},
   "source": [
    "**<span style=\"color:red\"> Exercise 2: </span>** : **<span style=\"color:#0b486b\">In the corss-entropy equation above, $m_k$ is the class for $x_k$, explain why the end result is $-\\log p_{km_k}$.</span>**"
   ]
  },
  {
   "cell_type": "markdown",
   "metadata": {},
   "source": [
    "**<span style=\"color:red\"> Exercise 3: </span>** : **<span style=\"color:#0b486b\">Let $p=[0.1, 0.3, 0.6]$ and $q=[0.0, 0.5, 0.5]$ be two discrete distributions, what is the $cross\\_entropy(q,p)$ ?</span>**"
   ]
  },
  {
   "cell_type": "markdown",
   "metadata": {},
   "source": [
    "### <span style=\"color:#0b486b\"> II.2 Implementation with TensorFlow 1.x</span> <span style=\"color:red\">**** (important)</span>\n",
    "We now shall implement the aforementioned network with the architecture of $16 \\rightarrow 10 (ReLU) \\rightarrow 20 (ReLU) \\rightarrow 15 (ReLu) \\rightarrow 26$ in Tensorflow using the dataset `letter`. "
   ]
  },
  {
   "cell_type": "markdown",
   "metadata": {},
   "source": [
    "This letter dataset can be found at [the LIBSVM website](https://www.csie.ntu.edu.tw/~cjlin/libsvmtools/datasets/multiclass.html#letter). Here is the dataset information:\n",
    "-  *The objective is to identify each of a large number of black-and-white rectangular pixel displays as one of the 26 capital letters in the English alphabet. The character images were based on 20 different fonts and each letter within these 20 fonts was randomly distorted to produce a file of 20,000 unique stimuli. Each stimulus was converted into 16 primitive numerical attributes (statistical moments and edge counts) which were then scaled to fit into a range of integer values from 0 through 15*"
   ]
  },
  {
   "cell_type": "markdown",
   "metadata": {},
   "source": [
    "A typical pipeline process of implementing a deep learning model is as follows:\n",
    "\n",
    "1. **Data processing**: \n",
    "   - Load the dataset and split into train, valid, and test sets.  \n",
    "     \n",
    "2. **Construction phase**: \n",
    "   - Define the NN model Construct the corresponding computational graph.\n",
    "   - Define the loss function and the relevant measures of performance of interest (accuracy, F1, and AUC).\n",
    "    \n",
    "3. **Execution and evaluation phase**: \n",
    "   - Train the model using mini-batches from the train set by minimizing the loss function with an optimizer.\n",
    "   - Predict on the test set and assess its performance."
   ]
  },
  {
   "cell_type": "markdown",
   "metadata": {},
   "source": [
    "#### <span style=\"color:#0b486b\">1. Data Processing </span>"
   ]
  },
  {
   "cell_type": "markdown",
   "metadata": {},
   "source": [
    "We use `sklearn` to load the dataset."
   ]
  },
  {
   "cell_type": "code",
   "execution_count": 1,
   "metadata": {},
   "outputs": [],
   "source": [
    "import os\n",
    "import numpy as np\n",
    "from sklearn.datasets import load_svmlight_file"
   ]
  },
  {
   "cell_type": "code",
   "execution_count": 2,
   "metadata": {},
   "outputs": [
    {
     "name": "stdout",
     "output_type": "stream",
     "text": [
      "X data shape: (15000, 16)\n",
      "y data shape: (15000, 1)\n",
      "# classes: 26\n",
      "[ 1.  2.  3.  4.  5.  6.  7.  8.  9. 10. 11. 12. 13. 14. 15. 16. 17. 18.\n",
      " 19. 20. 21. 22. 23. 24. 25. 26.]\n"
     ]
    }
   ],
   "source": [
    "data_file_name= \"letter_scale.libsvm\"\n",
    "data_file = os.path.abspath(\"./Data/\" + data_file_name)\n",
    "X_data, y_data = load_svmlight_file(data_file)\n",
    "X_data= X_data.toarray()\n",
    "y_data= y_data.reshape(y_data.shape[0],-1)\n",
    "print(\"X data shape: {}\".format(X_data.shape))\n",
    "print(\"y data shape: {}\".format(y_data.shape))\n",
    "print(\"# classes: {}\".format(len(np.unique(y_data))))\n",
    "print(np.unique(y_data))"
   ]
  },
  {
   "cell_type": "markdown",
   "metadata": {},
   "source": [
    "We use `sklearn` to split the dataset into the train, validation, and test sets. \n"
   ]
  },
  {
   "cell_type": "code",
   "execution_count": 3,
   "metadata": {},
   "outputs": [
    {
     "name": "stdout",
     "output_type": "stream",
     "text": [
      "WARNING:tensorflow:From C:\\Users\\trungle\\anaconda3\\envs\\tf2_cpu\\lib\\site-packages\\tensorflow\\python\\compat\\v2_compat.py:96: disable_resource_variables (from tensorflow.python.ops.variable_scope) is deprecated and will be removed in a future version.\n",
      "Instructions for updating:\n",
      "non-resource variables are not supported in the long term\n"
     ]
    }
   ],
   "source": [
    "from sklearn.model_selection import train_test_split\n",
    "from sklearn import preprocessing\n",
    "import tensorflow.compat.v1 as tf\n",
    "tf.disable_v2_behavior()\n",
    "\n",
    "def train_valid_test_split(data, target, train_size, test_size):\n",
    "    valid_size = 1 - (train_size + test_size)\n",
    "    X1, X_test, y1, y_test = train_test_split(data, target, test_size = test_size, random_state= 33)\n",
    "    X_train, X_valid, y_train, y_valid = train_test_split(X1, y1, test_size = float(valid_size)/(valid_size+ train_size))\n",
    "    return X_train, X_valid, X_test, y_train, y_valid, y_test"
   ]
  },
  {
   "cell_type": "markdown",
   "metadata": {},
   "source": [
    "Next, we would like to encode the label in the form of numeric vector. For example, we want to turn $y\\_data=[\"cat\", \"dog\", \"cat\", \"lion\", \"dog\"]$ to $y\\_data=[0,1,0,2,1]$."
   ]
  },
  {
   "cell_type": "markdown",
   "metadata": {},
   "source": [
    "To do this, in the following segment of code, we use the object `le` as an instance of the class `preprocessing.LabelEncoder()` which supports us to transform catefgorial labels in `y_data` to numerical vector."
   ]
  },
  {
   "cell_type": "code",
   "execution_count": 4,
   "metadata": {},
   "outputs": [
    {
     "name": "stdout",
     "output_type": "stream",
     "text": [
      "[25 15 18  7  7  5 13 17 12  3 21  0 10  3 18  7  4 25 14 16]\n"
     ]
    },
    {
     "name": "stderr",
     "output_type": "stream",
     "text": [
      "C:\\Users\\trungle\\anaconda3\\envs\\tf2_cpu\\lib\\site-packages\\sklearn\\preprocessing\\_label.py:235: DataConversionWarning: A column-vector y was passed when a 1d array was expected. Please change the shape of y to (n_samples, ), for example using ravel().\n",
      "  y = column_or_1d(y, warn=True)\n",
      "C:\\Users\\trungle\\anaconda3\\envs\\tf2_cpu\\lib\\site-packages\\sklearn\\preprocessing\\_label.py:268: DataConversionWarning: A column-vector y was passed when a 1d array was expected. Please change the shape of y to (n_samples, ), for example using ravel().\n",
      "  y = column_or_1d(y, warn=True)\n"
     ]
    }
   ],
   "source": [
    "le = preprocessing.LabelEncoder()\n",
    "le.fit(y_data)\n",
    "y_data= le.transform(y_data)\n",
    "print(y_data[:20])"
   ]
  },
  {
   "cell_type": "markdown",
   "metadata": {},
   "source": [
    "We now use the function defined above to prepare our data for training, validating and testing."
   ]
  },
  {
   "cell_type": "code",
   "execution_count": 5,
   "metadata": {},
   "outputs": [
    {
     "name": "stdout",
     "output_type": "stream",
     "text": [
      "(12000, 16) (1500, 16) (1500, 16)\n",
      "(12000,) (1500,) (1500,)\n",
      "lables: [ 0  1  2  3  4  5  6  7  8  9 10 11 12 13 14 15 16 17 18 19 20 21 22 23\n",
      " 24 25]\n"
     ]
    }
   ],
   "source": [
    "X_train, X_valid, X_test, y_train, y_valid, y_test = train_valid_test_split(X_data, y_data, train_size=0.8, test_size=0.1)\n",
    "y_train= y_train.reshape(-1)\n",
    "y_test= y_test.reshape(-1)\n",
    "y_valid= y_valid.reshape(-1)\n",
    "print(X_train.shape, X_valid.shape, X_test.shape)\n",
    "print(y_train.shape, y_valid.shape, y_test.shape)\n",
    "print(\"lables: {}\".format(np.unique(y_train)))"
   ]
  },
  {
   "cell_type": "markdown",
   "metadata": {},
   "source": [
    "We catch some information of the training set which will be reused later."
   ]
  },
  {
   "cell_type": "code",
   "execution_count": 6,
   "metadata": {},
   "outputs": [],
   "source": [
    "train_size= int(X_train.shape[0])\n",
    "n_features= int(X_train.shape[1])\n",
    "n_classes= len(np.unique(y_train))"
   ]
  },
  {
   "cell_type": "markdown",
   "metadata": {},
   "source": [
    "Once again, in real-world implementation of deep learning models, we use Stochastic Gradient Descent (SGD). Input to this algorithm is a sequence of **mini-batch** of data drawn from the training dataset."
   ]
  },
  {
   "cell_type": "markdown",
   "metadata": {},
   "source": [
    "#### <span style=\"color:#0b486b\">2. Construction Phase </span>"
   ]
  },
  {
   "cell_type": "markdown",
   "metadata": {},
   "source": [
    "We build up a feedforward neural network with the architecture: $16 \\rightarrow 10 (ReLU) \\rightarrow 20 (ReLU) \\rightarrow 15 (ReLu) \\rightarrow 26$ in TensorFlow."
   ]
  },
  {
   "cell_type": "code",
   "execution_count": 7,
   "metadata": {},
   "outputs": [],
   "source": [
    "n_in= n_features    # dimension of input\n",
    "n1= 10              # number of hidden units at the first layer\n",
    "n2= 20              # number of hidden units at the second layer\n",
    "n3= 15              # number of hidden units at the third layer\n",
    "n_out= n_classes    # number of classification classes"
   ]
  },
  {
   "cell_type": "markdown",
   "metadata": {},
   "source": [
    "The function `dense_layer` represents a fully connected layer in a deep learning network. This takes $W,b$ and input as inputs and returns $\\sigma(W \\times input + b)$ where the activation function $sigma$ is specified by the parameter `act`.\n",
    "- In `TensorFlow`, we can refer to the `activation functions` as `tf.nn.relu`, `tf.nn.sigmoid`, `tf.nn.tanh`, and etc.\n",
    "- You can also define your own activation function."
   ]
  },
  {
   "cell_type": "code",
   "execution_count": 8,
   "metadata": {},
   "outputs": [],
   "source": [
    "def dense_layer(inputs, output_size, act=None, name=\"hidden-layer\"):\n",
    "    with tf.name_scope(name):\n",
    "        input_size= int(inputs.get_shape()[1])\n",
    "        W_init = tf.random.normal([input_size, output_size], mean=0, stddev= 0.1, dtype= tf.float32)\n",
    "        b_init= tf.random.normal([output_size], mean=0, stddev= 0.1, dtype= tf.float32)\n",
    "        W= tf.Variable(W_init, name= \"W\")\n",
    "        b= tf.Variable(b_init, name=\"b\")\n",
    "        Wxb= tf.matmul(inputs, W) + b\n",
    "        if act is None:\n",
    "            return Wxb\n",
    "        else:\n",
    "            return act(Wxb)"
   ]
  },
  {
   "cell_type": "markdown",
   "metadata": {},
   "source": [
    "We now construct the computational graph. But before that we need to reset the default graph."
   ]
  },
  {
   "cell_type": "code",
   "execution_count": 9,
   "metadata": {},
   "outputs": [],
   "source": [
    "tf.reset_default_graph()\n",
    "with tf.name_scope(\"network\"):\n",
    "    X= tf.placeholder(shape=[None, n_in], dtype= tf.float32)\n",
    "    y= tf.placeholder(shape=[None], dtype= tf.int32)\n",
    "    h1= dense_layer(X, n1, act= tf.nn.relu, name= \"layer1\")\n",
    "    h2= dense_layer(h1, n2, act= tf.nn.relu, name= \"layer2\")\n",
    "    h3= dense_layer(h2, n3, act= tf.nn.relu, name= \"layer3\")\n",
    "    logits= dense_layer(h3, n_out, name=\"logits\")"
   ]
  },
  {
   "cell_type": "markdown",
   "metadata": {},
   "source": [
    "We compute the cross-entropy loss. Note that in TensorFlow you can use two of following functions for evaluating the cross-entropy loss:\n",
    "- `tf.nn.sparse_softmax_cross_entropy_with_logits`: if the labels `y_train` is in the categorial format (e.g., `y_train=[0,1,0,1,1,2]`).\n",
    "- `tf.nn.softmax_cross_entropy_with_logits`: if the labels `y_train` is in the one-hot format (e.g., `y_train=[[1,0,0], [0,1,0], [1,0,0], [0,0,1]]`."
   ]
  },
  {
   "cell_type": "markdown",
   "metadata": {},
   "source": [
    "We also need to specify an optimizer to minimize the loss. Here, we are using the Adam optimizer for this optimization. "
   ]
  },
  {
   "cell_type": "code",
   "execution_count": 10,
   "metadata": {},
   "outputs": [],
   "source": [
    "with tf.name_scope('train'):\n",
    "    xentropy = tf.nn.sparse_softmax_cross_entropy_with_logits(labels=y, \n",
    "                                                              logits=logits, \n",
    "                                                              name='xentropy')\n",
    "    loss= tf.reduce_mean(xentropy, name=\"loss\")\n",
    "    tf.summary.scalar(\"loss\", loss)    #summarize the loss\n",
    "    optimizer= tf.train.AdamOptimizer(learning_rate=0.001)\n",
    "    train_op= optimizer.minimize(loss)"
   ]
  },
  {
   "cell_type": "markdown",
   "metadata": {},
   "source": [
    "In the above code, we add the line ***tf.summary.scalar(\"loss\", loss)*** to add to the summary the loss.\n",
    "\n",
    "We also wish to estimate the accuracy of our model. For this you can use the [*`in_top_k()`* function](https://www.tensorflow.org/api_docs/python/tf/nn/in_top_k) with *k=1*. This returns a 1D tensor full of boolean values, so we need to cast these booleans to floats and then compute the average. This will give us the network’s overall accuracy. We insert the line ***tf.summary.scalar(\"accuracy\", accuracy)*** to add to the summary the accuracy."
   ]
  },
  {
   "cell_type": "code",
   "execution_count": 11,
   "metadata": {},
   "outputs": [],
   "source": [
    "with tf.name_scope('evaluation'):\n",
    "    correct = tf.nn.in_top_k(logits, y, 1)\n",
    "    accuracy = tf.reduce_mean(tf.cast(correct, tf.float32))\n",
    "    tf.summary.scalar(\"accuracy\", accuracy)  #summarize the accuracy"
   ]
  },
  {
   "cell_type": "markdown",
   "metadata": {},
   "source": [
    "We now define two FileWriters to write the summary to two log folders. By this way, we can plot the train, valid losses (or accuracies) on the same graph. Note that you can use this trick when you want to display some plots on the same graph."
   ]
  },
  {
   "cell_type": "code",
   "execution_count": 12,
   "metadata": {},
   "outputs": [],
   "source": [
    "if(not os.path.exists(\"./logs/train\")):\n",
    "    os.makedirs(\"./logs/train\")\n",
    "\n",
    "if(not os.path.exists(\"./logs/val\")):\n",
    "    os.makedirs(\"./logs/val\")\n",
    "\n",
    "merged= tf.summary.merge_all()\n",
    "train_writer= tf.summary.FileWriter(\"./logs/train\")\n",
    "valid_writer= tf.summary.FileWriter(\"./logs/val\")"
   ]
  },
  {
   "cell_type": "markdown",
   "metadata": {},
   "source": [
    "#### <span style=\"color:#0b486b\">3. Execution and Evaluation Phase </span>"
   ]
  },
  {
   "cell_type": "markdown",
   "metadata": {},
   "source": [
    "In the `execution phase`, we need to create a `TensorFlow session`, then initialize `all variables` in the graph, execute `train_op`, and query the values of necessary nodes (e.g., `loss` and `accuracy`)."
   ]
  },
  {
   "cell_type": "markdown",
   "metadata": {},
   "source": [
    "- Initialize all variables\n",
    "  - `init= tf.global_variables_initializer()` and `sess.run(init)`."
   ]
  },
  {
   "cell_type": "markdown",
   "metadata": {},
   "source": [
    "- Execute `train_op` when feeding mini-batches to the network\n",
    "  - `sess.run([train_op], feed_dict={X:x_batch, y:y_batch})`"
   ]
  },
  {
   "cell_type": "markdown",
   "metadata": {},
   "source": [
    "- Query the values of necessary nodes\n",
    "  - `val_loss, val_accuracy= sess.run([loss, accuracy], feed_dict={X:X_valid, y:y_valid})`"
   ]
  },
  {
   "cell_type": "markdown",
   "metadata": {},
   "source": [
    "Note that as a rule of machine learning, during training phase, we **cannot** touch the `test set` and only use this set when we need to output the predictive performance of a trained model.\n",
    "-  Output the predictive performance on the test set\n",
    "   - `test_accuracy= sess.run(accuracy, feed_dict={X:X_test, y:y_test})`"
   ]
  },
  {
   "cell_type": "code",
   "execution_count": 13,
   "metadata": {},
   "outputs": [
    {
     "name": "stdout",
     "output_type": "stream",
     "text": [
      "Epoch 1: valid loss=2.6368, valid acc=0.1547\n",
      "########: train loss=2.6530, train acc=0.1559\n",
      "Epoch 2: valid loss=2.3642, valid acc=0.2133\n",
      "########: train loss=2.3847, train acc=0.2175\n",
      "Epoch 3: valid loss=2.1177, valid acc=0.2960\n",
      "########: train loss=2.1355, train acc=0.3033\n",
      "Epoch 4: valid loss=1.9858, valid acc=0.3340\n",
      "########: train loss=2.0007, train acc=0.3388\n",
      "Epoch 5: valid loss=1.9040, valid acc=0.3700\n",
      "########: train loss=1.9114, train acc=0.3692\n",
      "Epoch 6: valid loss=1.8396, valid acc=0.3927\n",
      "########: train loss=1.8416, train acc=0.3897\n",
      "Epoch 7: valid loss=1.7707, valid acc=0.4280\n",
      "########: train loss=1.7655, train acc=0.4326\n",
      "Epoch 8: valid loss=1.6884, valid acc=0.4647\n",
      "########: train loss=1.6753, train acc=0.4817\n",
      "Epoch 9: valid loss=1.5894, valid acc=0.5067\n",
      "########: train loss=1.5692, train acc=0.5133\n",
      "Epoch 10: valid loss=1.5040, valid acc=0.5220\n",
      "########: train loss=1.4816, train acc=0.5444\n",
      "Epoch 11: valid loss=1.4456, valid acc=0.5527\n",
      "########: train loss=1.4218, train acc=0.5659\n",
      "Epoch 12: valid loss=1.4004, valid acc=0.5713\n",
      "########: train loss=1.3764, train acc=0.5811\n",
      "Epoch 13: valid loss=1.3637, valid acc=0.5833\n",
      "########: train loss=1.3386, train acc=0.5893\n",
      "Epoch 14: valid loss=1.3320, valid acc=0.5933\n",
      "########: train loss=1.3055, train acc=0.5968\n",
      "Epoch 15: valid loss=1.3020, valid acc=0.6027\n",
      "########: train loss=1.2759, train acc=0.6048\n",
      "Epoch 16: valid loss=1.2762, valid acc=0.6073\n",
      "########: train loss=1.2505, train acc=0.6107\n",
      "Epoch 17: valid loss=1.2530, valid acc=0.6153\n",
      "########: train loss=1.2271, train acc=0.6163\n",
      "Epoch 18: valid loss=1.2333, valid acc=0.6220\n",
      "########: train loss=1.2071, train acc=0.6222\n",
      "Epoch 19: valid loss=1.2163, valid acc=0.6280\n",
      "########: train loss=1.1887, train acc=0.6283\n",
      "Epoch 20: valid loss=1.2011, valid acc=0.6287\n",
      "########: train loss=1.1721, train acc=0.6341\n",
      "Epoch 21: valid loss=1.1854, valid acc=0.6320\n",
      "########: train loss=1.1554, train acc=0.6404\n",
      "Epoch 22: valid loss=1.1724, valid acc=0.6360\n",
      "########: train loss=1.1413, train acc=0.6444\n",
      "Epoch 23: valid loss=1.1609, valid acc=0.6413\n",
      "########: train loss=1.1285, train acc=0.6493\n",
      "Epoch 24: valid loss=1.1486, valid acc=0.6473\n",
      "########: train loss=1.1160, train acc=0.6534\n",
      "Epoch 25: valid loss=1.1373, valid acc=0.6487\n",
      "########: train loss=1.1038, train acc=0.6569\n",
      "Epoch 26: valid loss=1.1265, valid acc=0.6547\n",
      "########: train loss=1.0924, train acc=0.6607\n",
      "Epoch 27: valid loss=1.1161, valid acc=0.6553\n",
      "########: train loss=1.0813, train acc=0.6628\n",
      "Epoch 28: valid loss=1.1061, valid acc=0.6573\n",
      "########: train loss=1.0704, train acc=0.6659\n",
      "Epoch 29: valid loss=1.0949, valid acc=0.6587\n",
      "########: train loss=1.0595, train acc=0.6709\n",
      "Epoch 30: valid loss=1.0839, valid acc=0.6640\n",
      "########: train loss=1.0485, train acc=0.6757\n",
      "Epoch 31: valid loss=1.0733, valid acc=0.6627\n",
      "########: train loss=1.0381, train acc=0.6785\n",
      "Epoch 32: valid loss=1.0624, valid acc=0.6653\n",
      "########: train loss=1.0277, train acc=0.6810\n",
      "Epoch 33: valid loss=1.0520, valid acc=0.6707\n",
      "########: train loss=1.0175, train acc=0.6847\n",
      "Epoch 34: valid loss=1.0416, valid acc=0.6700\n",
      "########: train loss=1.0076, train acc=0.6885\n",
      "Epoch 35: valid loss=1.0320, valid acc=0.6733\n",
      "########: train loss=0.9986, train acc=0.6922\n",
      "Epoch 36: valid loss=1.0222, valid acc=0.6780\n",
      "########: train loss=0.9894, train acc=0.6946\n",
      "Epoch 37: valid loss=1.0129, valid acc=0.6793\n",
      "########: train loss=0.9800, train acc=0.6969\n",
      "Epoch 38: valid loss=1.0038, valid acc=0.6860\n",
      "########: train loss=0.9709, train acc=0.6998\n",
      "Epoch 39: valid loss=0.9948, valid acc=0.6893\n",
      "########: train loss=0.9617, train acc=0.7031\n",
      "Epoch 40: valid loss=0.9860, valid acc=0.6913\n",
      "########: train loss=0.9526, train acc=0.7051\n",
      "Epoch 41: valid loss=0.9773, valid acc=0.6940\n",
      "########: train loss=0.9432, train acc=0.7093\n",
      "Epoch 42: valid loss=0.9688, valid acc=0.6933\n",
      "########: train loss=0.9340, train acc=0.7124\n",
      "Epoch 43: valid loss=0.9617, valid acc=0.6933\n",
      "########: train loss=0.9264, train acc=0.7138\n",
      "Epoch 44: valid loss=0.9538, valid acc=0.6987\n",
      "########: train loss=0.9179, train acc=0.7162\n",
      "Epoch 45: valid loss=0.9458, valid acc=0.7020\n",
      "########: train loss=0.9083, train acc=0.7198\n",
      "Epoch 46: valid loss=0.9380, valid acc=0.7047\n",
      "########: train loss=0.9001, train acc=0.7218\n",
      "Epoch 47: valid loss=0.9304, valid acc=0.7080\n",
      "########: train loss=0.8917, train acc=0.7258\n",
      "Epoch 48: valid loss=0.9231, valid acc=0.7120\n",
      "########: train loss=0.8831, train acc=0.7287\n",
      "Epoch 49: valid loss=0.9156, valid acc=0.7147\n",
      "########: train loss=0.8748, train acc=0.7306\n",
      "Epoch 50: valid loss=0.9079, valid acc=0.7160\n",
      "########: train loss=0.8665, train acc=0.7335\n",
      "Epoch 51: valid loss=0.9003, valid acc=0.7173\n",
      "########: train loss=0.8582, train acc=0.7362\n",
      "Epoch 52: valid loss=0.8931, valid acc=0.7240\n",
      "########: train loss=0.8500, train acc=0.7401\n",
      "Epoch 53: valid loss=0.8853, valid acc=0.7260\n",
      "########: train loss=0.8410, train acc=0.7427\n",
      "Epoch 54: valid loss=0.8773, valid acc=0.7293\n",
      "########: train loss=0.8320, train acc=0.7467\n",
      "Epoch 55: valid loss=0.8690, valid acc=0.7307\n",
      "########: train loss=0.8227, train acc=0.7497\n",
      "Epoch 56: valid loss=0.8609, valid acc=0.7353\n",
      "########: train loss=0.8132, train acc=0.7537\n",
      "Epoch 57: valid loss=0.8537, valid acc=0.7360\n",
      "########: train loss=0.8046, train acc=0.7554\n",
      "Epoch 58: valid loss=0.8467, valid acc=0.7380\n",
      "########: train loss=0.7966, train acc=0.7578\n",
      "Epoch 59: valid loss=0.8396, valid acc=0.7367\n",
      "########: train loss=0.7878, train acc=0.7588\n",
      "Epoch 60: valid loss=0.8335, valid acc=0.7380\n",
      "########: train loss=0.7798, train acc=0.7613\n",
      "Epoch 61: valid loss=0.8276, valid acc=0.7400\n",
      "########: train loss=0.7719, train acc=0.7632\n",
      "Epoch 62: valid loss=0.8218, valid acc=0.7407\n",
      "########: train loss=0.7645, train acc=0.7662\n",
      "Epoch 63: valid loss=0.8160, valid acc=0.7400\n",
      "########: train loss=0.7568, train acc=0.7683\n",
      "Epoch 64: valid loss=0.8110, valid acc=0.7440\n",
      "########: train loss=0.7499, train acc=0.7688\n",
      "Epoch 65: valid loss=0.8061, valid acc=0.7473\n",
      "########: train loss=0.7436, train acc=0.7706\n",
      "Epoch 66: valid loss=0.8014, valid acc=0.7507\n",
      "########: train loss=0.7370, train acc=0.7719\n",
      "Epoch 67: valid loss=0.7970, valid acc=0.7540\n",
      "########: train loss=0.7309, train acc=0.7749\n",
      "Epoch 68: valid loss=0.7923, valid acc=0.7520\n",
      "########: train loss=0.7249, train acc=0.7759\n",
      "Epoch 69: valid loss=0.7875, valid acc=0.7547\n",
      "########: train loss=0.7189, train acc=0.7774\n",
      "Epoch 70: valid loss=0.7832, valid acc=0.7547\n",
      "########: train loss=0.7132, train acc=0.7795\n",
      "Epoch 71: valid loss=0.7789, valid acc=0.7560\n",
      "########: train loss=0.7079, train acc=0.7818\n",
      "Epoch 72: valid loss=0.7746, valid acc=0.7587\n",
      "########: train loss=0.7025, train acc=0.7839\n",
      "Epoch 73: valid loss=0.7706, valid acc=0.7647\n",
      "########: train loss=0.6974, train acc=0.7861\n",
      "Epoch 74: valid loss=0.7667, valid acc=0.7680\n",
      "########: train loss=0.6927, train acc=0.7874\n",
      "Epoch 75: valid loss=0.7625, valid acc=0.7687\n",
      "########: train loss=0.6881, train acc=0.7887\n",
      "Epoch 76: valid loss=0.7586, valid acc=0.7680\n",
      "########: train loss=0.6834, train acc=0.7911\n",
      "Epoch 77: valid loss=0.7549, valid acc=0.7700\n",
      "########: train loss=0.6787, train acc=0.7933\n",
      "Epoch 78: valid loss=0.7512, valid acc=0.7687\n",
      "########: train loss=0.6740, train acc=0.7952\n",
      "Epoch 79: valid loss=0.7473, valid acc=0.7727\n",
      "########: train loss=0.6697, train acc=0.7970\n",
      "Epoch 80: valid loss=0.7440, valid acc=0.7780\n",
      "########: train loss=0.6654, train acc=0.7988\n",
      "Epoch 81: valid loss=0.7418, valid acc=0.7813\n",
      "########: train loss=0.6612, train acc=0.8007\n",
      "Epoch 82: valid loss=0.7391, valid acc=0.7840\n",
      "########: train loss=0.6569, train acc=0.8013\n",
      "Epoch 83: valid loss=0.7363, valid acc=0.7840\n",
      "########: train loss=0.6529, train acc=0.8031\n",
      "Epoch 84: valid loss=0.7336, valid acc=0.7853\n",
      "########: train loss=0.6490, train acc=0.8048\n",
      "Epoch 85: valid loss=0.7310, valid acc=0.7860\n",
      "########: train loss=0.6453, train acc=0.8059\n",
      "Epoch 86: valid loss=0.7281, valid acc=0.7880\n",
      "########: train loss=0.6416, train acc=0.8077\n",
      "Epoch 87: valid loss=0.7252, valid acc=0.7880\n",
      "########: train loss=0.6381, train acc=0.8087\n",
      "Epoch 88: valid loss=0.7224, valid acc=0.7867\n",
      "########: train loss=0.6350, train acc=0.8098\n",
      "Epoch 89: valid loss=0.7201, valid acc=0.7873\n",
      "########: train loss=0.6317, train acc=0.8112\n",
      "Epoch 90: valid loss=0.7178, valid acc=0.7867\n",
      "########: train loss=0.6287, train acc=0.8122\n",
      "Epoch 91: valid loss=0.7152, valid acc=0.7867\n",
      "########: train loss=0.6258, train acc=0.8130\n",
      "Epoch 92: valid loss=0.7124, valid acc=0.7873\n",
      "########: train loss=0.6228, train acc=0.8142\n",
      "Epoch 93: valid loss=0.7100, valid acc=0.7853\n",
      "########: train loss=0.6198, train acc=0.8157\n",
      "Epoch 94: valid loss=0.7076, valid acc=0.7853\n",
      "########: train loss=0.6169, train acc=0.8158\n",
      "Epoch 95: valid loss=0.7050, valid acc=0.7893\n",
      "########: train loss=0.6142, train acc=0.8166\n",
      "Epoch 96: valid loss=0.7023, valid acc=0.7887\n",
      "########: train loss=0.6114, train acc=0.8177\n",
      "Epoch 97: valid loss=0.7004, valid acc=0.7920\n",
      "########: train loss=0.6087, train acc=0.8186\n",
      "Epoch 98: valid loss=0.6984, valid acc=0.7920\n",
      "########: train loss=0.6060, train acc=0.8195\n",
      "Epoch 99: valid loss=0.6959, valid acc=0.7953\n",
      "########: train loss=0.6035, train acc=0.8207\n",
      "Epoch 100: valid loss=0.6939, valid acc=0.7967\n",
      "########: train loss=0.6012, train acc=0.8215\n",
      "---------------------------------------------\n",
      "\n",
      "Test accuracy: 0.7993\n"
     ]
    }
   ],
   "source": [
    "import math\n",
    "batch_size= 32\n",
    "history= []  #used to store train, valid accuracies and losses for showing later\n",
    "num_epoch = 100\n",
    "iter_per_epoch= math.ceil(float(train_size)/batch_size)  #number of iterations per epoch\n",
    "\n",
    "with tf.Session() as sess:\n",
    "    init= tf.global_variables_initializer()\n",
    "    sess.run(init)\n",
    "    for epoch in range(num_epoch):\n",
    "        for idx_start in range(0, X_train.shape[0], batch_size):\n",
    "            idx_end = min(X_train.shape[0], idx_start + batch_size)\n",
    "            X_batch, y_batch = X_train[idx_start:idx_end], y_train[idx_start:idx_end]\n",
    "            sess.run([train_op], feed_dict={X:X_batch, y:y_batch})\n",
    "        #compute accuracies and losses at the end of each epoch\n",
    "        train_summary, train_loss, train_accuracy= sess.run([merged,loss, accuracy], feed_dict={X:X_train, y:y_train})\n",
    "        train_writer.add_summary(train_summary, epoch +1)\n",
    "        train_writer.flush()\n",
    "        \n",
    "        valid_summary,val_loss, val_accuracy= sess.run([merged,loss, accuracy], feed_dict={X:X_valid, y:y_valid})\n",
    "        valid_writer.add_summary(valid_summary, epoch +1)\n",
    "        valid_writer.flush()\n",
    "        print(\"Epoch {}: valid loss={:.4f}, valid acc={:.4f}\".format(epoch+1, val_loss, val_accuracy))\n",
    "        print(\"########: train loss={:.4f}, train acc={:.4f}\".format(train_loss, train_accuracy))\n",
    "        hist_item={\"train_loss\": train_loss, \"train_acc\": train_accuracy, \n",
    "                   \"val_loss\":val_loss, \"val_acc\": val_accuracy}\n",
    "        history.append(hist_item)\n",
    "    print(\"---------------------------------------------\\n\")\n",
    "    test_accuracy= sess.run(accuracy, feed_dict={X:X_test, y:y_test})\n",
    "    print(\"Test accuracy: {:.4f}\".format(test_accuracy))"
   ]
  },
  {
   "cell_type": "markdown",
   "metadata": {},
   "source": [
    "### <span style=\"color:#0b486b\"> Additional Exercises </span> "
   ]
  },
  {
   "cell_type": "markdown",
   "metadata": {},
   "source": [
    "1. Write your own code to save a trained model to the hard disk and restore this model, then use the restored model to output the prediction result on the test set."
   ]
  },
  {
   "cell_type": "markdown",
   "metadata": {},
   "source": [
    "2. Write code to add the plots of `test accuracy` and `loss` to the above line charts with your color of interest."
   ]
  },
  {
   "cell_type": "markdown",
   "metadata": {},
   "source": [
    "3. Insert new code to the above code to enable outputting to TensorBoard the values of `training loss`, `training accuracy`, `valid loss`, and `valid accuracy` at the end of epochs. You can refer to the code [here](https://www.tensorflow.org/guide/summaries_and_tensorboard)."
   ]
  },
  {
   "cell_type": "markdown",
   "metadata": {},
   "source": [
    "4. Write code to do regression on the dataset `cadata` which can be downloaded [here](https://www.csie.ntu.edu.tw/~cjlin/libsvmtools/datasets/regression.html). Note that for a regression problem, you need to use the `L2` loss instead of the `cross-entropy` loss as in a classification problem. "
   ]
  },
  {
   "cell_type": "markdown",
   "metadata": {},
   "source": [
    "---\n",
    "### <span style=\"color:#0b486b\"> <div  style=\"text-align:center\">**THE END**</div> </span>"
   ]
  }
 ],
 "metadata": {
  "kernelspec": {
   "display_name": "Python 3",
   "language": "python",
   "name": "python3"
  },
  "language_info": {
   "codemirror_mode": {
    "name": "ipython",
    "version": 3
   },
   "file_extension": ".py",
   "mimetype": "text/x-python",
   "name": "python",
   "nbconvert_exporter": "python",
   "pygments_lexer": "ipython3",
   "version": "3.7.10"
  }
 },
 "nbformat": 4,
 "nbformat_minor": 4
}
