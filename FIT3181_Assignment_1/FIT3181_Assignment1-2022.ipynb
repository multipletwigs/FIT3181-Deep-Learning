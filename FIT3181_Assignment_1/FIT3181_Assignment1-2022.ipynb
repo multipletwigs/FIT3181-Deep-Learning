{
 "cells": [
  {
   "cell_type": "markdown",
   "metadata": {},
   "source": [
    "# <span style=\"color:#0b486b\">  FIT3181: Deep Learning (2022)</span>\n",
    "***\n",
    "*CE/Lecturer:* Dr **Trung Le** | trunglm@monash.edu <br/>\n",
    "*Head Tutor:* Mr **Thanh Nguyen** | thanh.nguyen4@monash.edu  <br/>\n",
    "<br/>\n",
    "Department of Data Science and AI, Faculty of Information Technology, Monash University, Australia\n",
    "***"
   ]
  },
  {
   "cell_type": "markdown",
   "metadata": {},
   "source": [
    "# <span style=\"color:#0b486b\">  Student Information</span>\n",
    "***\n",
    "Surname: **Khong**  <br/>\n",
    "Firstname: **Lap Hoe**    <br/>\n",
    "Student ID: **32114818**    <br/>\n",
    "Email: **lkho007@student.monash.edu**    <br/>\n",
    "Your tutorial time: **Tuesday 2PM**    <br/>\n",
    "***"
   ]
  },
  {
   "cell_type": "markdown",
   "metadata": {},
   "source": [
    "# <span style=\"color:#0b486b\">Deep Neural Networks</span>\n",
    "### Due: <span style=\"color:red\">11:59pm Sunday, 18 September 2022</span>  (Sunday)\n",
    "\n",
    "#### <span style=\"color:red\">Important note:</span> This is an **individual** assignment. It contributes **20%** to your final mark. Read the assignment instruction carefully."
   ]
  },
  {
   "cell_type": "markdown",
   "metadata": {},
   "source": [
    "## <span style=\"color:#0b486b\">Instruction</span>\n",
    "\n",
    "This notebook has been prepared for your to complete Assignment 1. The theme of this assignment is about practical machine learning knowledge and skills in deep neural networks, including feedforward and convolutional neural networks. Some sections have been partially completed to help you get\n",
    "started. **The total marks for this notebook is 100**.\n",
    "\n",
    "* Before you start, read the entire notebook carefully once to understand what you need to do. <br/>\n",
    "\n",
    "* For each cell marked with **#YOU ARE REQUIRED TO INSERT YOUR CODES IN THIS CELL**, there will be places where you **must** supply your own codes when instructed. <br>\n",
    "\n",
    "This assignment contains **three** parts:\n",
    "\n",
    "* Part 1: Questions on theory and knowledge on machine learning and deep learning **[30 points], 30%**\n",
    "* Part 2: Coding assessment on TensorFlow for Deep Neural Networks (DNN) **[30 points], 30%**\n",
    "* Part 3: Coding assessment on TensorFlow for Convolution Neural Networks (CNN) **[40 points], 40%**\n",
    "\n",
    "**Hint**: This assignment was essentially designed based on the lectures and tutorials sessions covered from Week 1 to Week 6. You are strongly recommended to go through these contents thoroughly which might help you to complete this assignment."
   ]
  },
  {
   "cell_type": "markdown",
   "metadata": {},
   "source": [
    "## <span style=\"color:#0b486b\">What to submit</span>\n",
    "\n",
    "This assignment is to be completed individually and submitted to Moodle unit site. **By the due date, you are required to submit one  <span style=\"color:red; font-weight:bold\">single zip file, named xxx_assignment01_solution.zip</span> where `xxx` is your student ID, to the corresponding Assignment (Dropbox) in Moodle**. "
   ]
  },
  {
   "cell_type": "markdown",
   "metadata": {},
   "source": [
    "***For example, if your student ID is <span style=\"color:red; font-weight:bold\">12356</span>, then gather all of your assignment solution to folder, create a zip file named <span style=\"color:red; font-weight:bold\">123456_assignment01_solution.zip</span> and submit this file.***"
   ]
  },
  {
   "cell_type": "markdown",
   "metadata": {},
   "source": [
    "Within this zip folder, you **must** submit the following files:\n",
    "1.\t**Assignment01_solution.ipynb**:  this is your Python notebook solution source file.\n",
    "1.\t**Assignment01_output.html**: this is the output of your Python notebook solution *exported* in html format.\n",
    "1.\tAny **extra files or folder** needed to complete your assignment (e.g., images used in your answers)."
   ]
  },
  {
   "cell_type": "markdown",
   "metadata": {},
   "source": [
    "Since the notebook is quite big to load and work together, one recommended option is to split solution into three parts and work on them seperately. In that case, replace **Assignment01_solution.ipynb** by three notebooks: **Assignment01_Part1_solution.ipynb**, **Assignment01_Part2_solution.ipynb** and **Assignment01_Part3_solution.ipynb**"
   ]
  },
  {
   "cell_type": "markdown",
   "metadata": {},
   "source": [
    "**You can run your codes on Google Colab. In this case, you need to capture the screenshots of your Google Colab model training and put in corresponding places in your Jupyter notebook. You also need to store your trained models to folder <span style=\"color:red; font-weight:bold\">*./models*</span> with recognizable file names (e.g., Part3_Sec3_2_model.h5).** "
   ]
  },
  {
   "cell_type": "markdown",
   "metadata": {},
   "source": [
    "## <span style=\"color:#0b486b\">Part 1: Theory and Knowledge Questions</span>\n",
    "<div style=\"text-align: right\"><span style=\"color:red; font-weight:bold\">[Total marks for this part: 30 points]<span></div>"
   ]
  },
  {
   "cell_type": "markdown",
   "metadata": {},
   "source": [
    "The first part of this assignment is for you to demonstrate your knowledge in deep learning that you have acquired from the lectures and tutorials materials. Most of the contents in this assignment are drawn from **the lectures and tutorials from weeks 1 to 3**. Going through these materials before attempting this part is highly recommended."
   ]
  },
  {
   "cell_type": "markdown",
   "metadata": {},
   "source": [
    "####  <span style=\"color:red\">**Question 1.1**</span> **Activation function plays an important role in modern Deep NNs. For each of the activation function below, state its output range, find its derivative (show your steps), and plot the activation fuction and its derivative**\n",
    "\n",
    "<span style=\"color:red\">**(a)**</span> Leaky ReLU: $\\text{LeakyReLU}\\left(x\\right)=\\begin{cases}\n",
    "0.01x & \\text{if}\\,x<0\\\\\n",
    "x & \\text{otherwise}\n",
    "\\end{cases}$ \n",
    "<div style=\"text-align: right\"><span style=\"color:red\">[1.5 points]</span></div> \n",
    "\n",
    "<span style=\"color:red\">**(b)**</span> Softplus: $\\text{Softplus}\\left(x\\right)=\\text{ln}\\left(1+e^{x}\\right)$\n",
    "<div style=\"text-align: right\"><span style=\"color:red\">[1.5 points]</span></div> "
   ]
  },
  {
   "cell_type": "markdown",
   "metadata": {},
   "source": [
    "<span style=\"color:#0b486b\"> **Numpy is possibly being used in the following questions. You need to import numpy here.** </span>"
   ]
  },
  {
   "cell_type": "markdown",
   "metadata": {},
   "source": [
    "### Question 1.1 Submission\n",
    "(a)\n",
    "\n",
    "The output range of $\\text{LeakyReLu}$ is $(-\\infty, +\\infty)$.\n",
    "\n",
    "The derivative of $\\text{LeakyReLu}$ is $\\text{LeakyReLu'(x)}$ $\\begin{cases}\n",
    "0.01 & \\text{if}\\,x<0\\\\\n",
    "1 & \\text{otherwise}\n",
    "\\end{cases}$ \n",
    "\n",
    "There's not much derivative steps to show for this simple function, but take the coefficient wrt $x$"
   ]
  },
  {
   "cell_type": "code",
   "execution_count": 6,
   "metadata": {},
   "outputs": [],
   "source": [
    "import matplotlib.pyplot as plt \n",
    "import numpy as np "
   ]
  },
  {
   "cell_type": "code",
   "execution_count": 7,
   "metadata": {},
   "outputs": [
    {
     "data": {
      "image/png": "[encoded data removed]",
      "text/plain": [
       "<Figure size 432x288 with 1 Axes>"
      ]
     },
     "metadata": {
      "needs_background": "light"
     },
     "output_type": "display_data"
    }
   ],
   "source": [
    "# Obtaining values in the rang of -10 to 10\n",
    "x_val = np.linspace(-10, 10, 100) \n",
    "\n",
    "# Activation function\n",
    "LeakyReLU_activation = lambda x: 0.01 * x if x < 0 else x\n",
    "\n",
    "# Derivative function\n",
    "LeakyReLU_derivative = lambda x: 0.01 if x < 0 else 1 \n",
    "\n",
    "# Plots of activation and its derivative\n",
    "plt.plot(x_val, list(map(LeakyReLU_activation, x_val)), linewidth=2)\n",
    "plt.plot(x_val, list(map(LeakyReLU_derivative, x_val)), linewidth=2)\n",
    "plt.title(label=\"LeakyReLU and LeakyReKU' Output Plot\")\n",
    "plt.xlabel(\"x_input\")\n",
    "plt.ylabel(\"y_output\")\n",
    "plt.legend([\"LeakyReLU\", \"LeakyReLU'\"])\n",
    "plt.show()"
   ]
  },
  {
   "cell_type": "markdown",
   "metadata": {},
   "source": [
    "(b)\n",
    "\n",
    "The output range of softplus is $(0, +\\infty)$\n",
    "\n",
    "The derivative of softplus is as follows. \n",
    "\n",
    "$\\text{1. The derivative of softplus is given by }\\frac{d (softplus)}{dx}. \\\\\n",
    "\\text{2. We can use chain rule to solve this problem, given that the softplus is a \\texttt{composite function}}. \\\\\n",
    "\\text{3. Let }(1+e^{x}) \\text{ be y.} \\\\\n",
    "\\text{4. Then solve for the derivative } \\text{through } \\frac{d (softplus)}{dx} = \\frac{d (softplus)}{dy} * \\frac{dy}{dx} \\\\\n",
    "5. \\frac{d (softplus)}{dx} = \\frac{\\ln{(y)}}{dy} * \\frac{d(1+e^{x})}{dx} \\\\\n",
    "6. \\frac{d (softplus)}{dx} = \\frac{1}{y} * e^{x} \\\\\n",
    "7. \\frac{d (softplus)}{dx} = \\frac{e^{x}}{1+e^{x}}$\n"
   ]
  },
  {
   "cell_type": "code",
   "execution_count": 8,
   "metadata": {},
   "outputs": [
    {
     "data": {
      "image/png": "[encoded data removed]",
      "text/plain": [
       "<Figure size 432x288 with 1 Axes>"
      ]
     },
     "metadata": {
      "needs_background": "light"
     },
     "output_type": "display_data"
    }
   ],
   "source": [
    "# Obtaining values in the rang of -10 to 10\n",
    "x_val = np.linspace(-10, 10, 100) \n",
    "\n",
    "# Activation function\n",
    "Softplus_activation = lambda x: np.emath.log(1 + np.exp(x))\n",
    "\n",
    "# Derivative function\n",
    "Softplus_derivative = lambda x: np.divide(np.exp(x), (1 + np.exp(x)))\n",
    "\n",
    "# Plots of activation and its derivative\n",
    "plt.plot(x_val, list(map(Softplus_activation, x_val)), linewidth=2)\n",
    "plt.title(label=\"Softplus Output Plot\")\n",
    "plt.xlabel(\"x_input\")\n",
    "plt.ylabel(\"y_output\")\n",
    "plt.legend([\"Softplus\"])\n",
    "plt.show()"
   ]
  },
  {
   "cell_type": "code",
   "execution_count": 9,
   "metadata": {},
   "outputs": [
    {
     "data": {
      "image/png": "[encoded data removed]",
      "text/plain": [
       "<Figure size 432x288 with 1 Axes>"
      ]
     },
     "metadata": {
      "needs_background": "light"
     },
     "output_type": "display_data"
    }
   ],
   "source": [
    "# Plot derivative \n",
    "plt.plot(x_val, list(map(Softplus_derivative, x_val)), linewidth=2)\n",
    "plt.xlabel(\"x_input\")\n",
    "plt.ylabel(\"y_output\")\n",
    "plt.legend([\"Softplus'\"])\n",
    "plt.show()"
   ]
  },
  {
   "cell_type": "markdown",
   "metadata": {},
   "source": [
    "####  <span style=\"color:red\">**Question 1.2**</span> **Assume that we feed a data point $x$ with a ground-truth label $y=2$ to the feed-forward neural network with the ReLU activation function as shown in the following figure**\n",
    "<img src=\"Figures/Q2_P1.png\" width=\"500\" align=\"center\"/>\n",
    "\n",
    "\n",
    "<span style=\"color:red\">**(a)**</span>  What is the numerical value of the latent presentation $h^1(x)$?\n",
    "<div style=\"text-align: right\"><span style=\"color:red\">[1 point]</span></div> \n",
    "\n",
    "<span style=\"color:red\">**(b)**</span>  What is the numerical value of the latent presentation $h^2(x)$?\n",
    "<div style=\"text-align: right\"><span style=\"color:red\">[1 point]</span></div> \n",
    "\n",
    "<span style=\"color:red\">**(c)**</span>  What is the numerical value of the logit $h^3(x)$?\n",
    "<div style=\"text-align: right\"><span style=\"color:red\">[1 point]</span></div> \n",
    "\n",
    "\n",
    "<span style=\"color:red\">**(d)**</span>  What is the corresonding prediction probabilities $p(x)$?\n",
    "<div style=\"text-align: right\"><span style=\"color:red\">[1 point]</span></div> \n",
    "\n",
    "<span style=\"color:red\">**(e)**</span>  What is the cross-entropy loss caused by the feed-forward neural network at $(x,y)$? Remind that $y=2$.\n",
    "<div style=\"text-align: right\"><span style=\"color:red\">[1 point]</span></div> \n",
    "\n",
    "<span style=\"color:red\">**(e)**</span>  Assume that we are applying the label smoothing technique (i.e.,  [link for main paper](https://papers.nips.cc/paper/2019/file/f1748d6b0fd9d439f71450117eba2725-Paper.pdf) from Goeff Hinton) with $\\alpha = 0.1$. What is the relevant loss caused by the feed-forward neural network at $(x,y)$?\n",
    "<div style=\"text-align: right\"><span style=\"color:red\">[1 point]</span></div> \n",
    "\n",
    "\n",
    "**You need to show both formulas and numerical results for earning full mark. Although it is optional, it is great if you show your numpy code for your computation.**"
   ]
  },
  {
   "cell_type": "code",
   "execution_count": 10,
   "metadata": {},
   "outputs": [],
   "source": [
    "# Question 1.2 GLOBAL VARIABLES\n",
    "import numpy as np\n",
    "import tensorflow as tf \n",
    "X_INP = np.array([1, -1, 1], dtype='float64')\n",
    "X_INP = np.reshape(X_INP, (3, 1))\n",
    "Y_TRUE = 2\n",
    "\n",
    "W1_MAT = np.array([1, -1, 1, 1, -1, -1, 2, -1, 2, -1, -2, 1], dtype='float64')\n",
    "W1_MAT = np.reshape(W1_MAT, (4, 3))\n",
    "\n",
    "B1_MAT = np.array([1, 0, 1, 0], dtype='float64')\n",
    "B1_MAT = np.reshape(B1_MAT, (4, 1))\n",
    "\n",
    "W2_MAT = np.array([1, -1, -1, 2, 1, -1, 1, -1, -1, 2, -1, 2], dtype='float64') \n",
    "W2_MAT = np.reshape(W2_MAT, (3, 4))\n",
    "\n",
    "B2_MAT = np.array([1, 1, 0], dtype='float64')\n",
    "B2_MAT = np.reshape(B2_MAT, (3, 1))\n",
    "\n",
    "W3_MAT = np.array([1, -2, 1, 1, 2, -1, -1, 1, -1], dtype='float64') \n",
    "W3_MAT = np.reshape(W3_MAT, (3, 3))\n",
    "\n",
    "B3_MAT = np.reshape(np.array([0, 0, 0], dtype='float64'), (3, 1))"
   ]
  },
  {
   "cell_type": "code",
   "execution_count": 11,
   "metadata": {},
   "outputs": [
    {
     "data": {
      "text/plain": [
       "array([[4.],\n",
       "       [1.],\n",
       "       [6.],\n",
       "       [2.]])"
      ]
     },
     "execution_count": 11,
     "metadata": {},
     "output_type": "execute_result"
    }
   ],
   "source": [
    "# (a) Latent presentation of h1 is as follows... \n",
    "h1 = np.matmul(W1_MAT, X_INP) + B1_MAT\n",
    "h1"
   ]
  },
  {
   "cell_type": "code",
   "execution_count": 12,
   "metadata": {},
   "outputs": [
    {
     "data": {
      "text/plain": [
       "array([[ 2.],\n",
       "       [ 8.],\n",
       "       [-4.]])"
      ]
     },
     "execution_count": 12,
     "metadata": {},
     "output_type": "execute_result"
    }
   ],
   "source": [
    "# (b) Latent presentation of h2 is as follows... \n",
    "h2 = np.matmul(W2_MAT, h1) + B2_MAT \n",
    "h2"
   ]
  },
  {
   "cell_type": "code",
   "execution_count": 13,
   "metadata": {},
   "outputs": [
    {
     "data": {
      "text/plain": [
       "array([[-18.],\n",
       "       [ 22.],\n",
       "       [ 10.]])"
      ]
     },
     "execution_count": 13,
     "metadata": {},
     "output_type": "execute_result"
    }
   ],
   "source": [
    "# (c)\n",
    "h3 = np.matmul(W3_MAT, h2) + B3_MAT \n",
    "h3"
   ]
  },
  {
   "cell_type": "code",
   "execution_count": 14,
   "metadata": {},
   "outputs": [
    {
     "data": {
      "text/plain": [
       "<tf.Tensor: shape=(3,), dtype=float64, numpy=array([4.24832815e-18, 9.99993856e-01, 6.14417460e-06])>"
      ]
     },
     "execution_count": 14,
     "metadata": {},
     "output_type": "execute_result"
    }
   ],
   "source": [
    "# (d) Apply softmax to get probability\n",
    "tf.nn.softmax(h3.flatten())"
   ]
  },
  {
   "cell_type": "code",
   "execution_count": 15,
   "metadata": {},
   "outputs": [
    {
     "data": {
      "text/plain": [
       "<tf.Tensor: shape=(), dtype=float64, numpy=6.144193477747432e-06>"
      ]
     },
     "execution_count": 15,
     "metadata": {},
     "output_type": "execute_result"
    }
   ],
   "source": [
    "# (e) Cross-entrophy \n",
    "# Since the label is y=2, we can one-hot the label first to y = [0,1,0] \n",
    "CE_loss = tf.nn.softmax_cross_entropy_with_logits(\n",
    "    [0,1,0], h3.flatten(), axis=-1, name=None\n",
    ")\n",
    "CE_loss\n"
   ]
  },
  {
   "cell_type": "code",
   "execution_count": 16,
   "metadata": {},
   "outputs": [
    {
     "data": {
      "text/plain": [
       "<tf.Tensor: shape=(), dtype=float64, numpy=1.7333394775268112>"
      ]
     },
     "execution_count": 16,
     "metadata": {},
     "output_type": "execute_result"
    }
   ],
   "source": [
    "# (f) Label-smoothing method, where there are 3 classes to predict will yield the following. \n",
    "def label_smoothing(y_labels, smoothing_factor, num_classes):\n",
    "    smooth_labels = y_labels * (1 - smoothing_factor) + smoothing_factor / num_classes\n",
    "    return smooth_labels \n",
    "\n",
    "smooth_labels = label_smoothing(np.array([0,1,0]), 0.1, 3) \n",
    "\n",
    "CE_loss = tf.nn.softmax_cross_entropy_with_logits(\n",
    "    smooth_labels, h3.flatten(), axis=-1, name=None\n",
    ")\n",
    "CE_loss"
   ]
  },
  {
   "cell_type": "markdown",
   "metadata": {},
   "source": [
    "####  <span style=\"color:red\">**Question 1.3**</span> **Assume that we are constructing a multilayered feed-forward neural network for a classification problem with three classes where the model parameters will be generated randomly using your student ID. The architecture of this network is ($3 (Input)\\rightarrow4(LeakyReLU)\\rightarrow 3(Output)$) as shown in the following figure. Note that the LeakyReLU has the same formula as the one in Q1.1.**\n",
    "\n",
    "\n",
    "<img src=\"Figures/Q3_P1.png\" width=\"500\" align=\"center\"/>\n",
    "\n",
    "We feed a feature vector $x=\\left[\\begin{array}{ccc}\n",
    "1 & -1 & 1.5\\end{array}\\right]^{T}$ with ground-truth label $y=3$ to the above network. \n"
   ]
  },
  {
   "cell_type": "markdown",
   "metadata": {},
   "source": [
    "**You need to show both formulas, numerical results, and your numpy code for your computation for earning full marks.**"
   ]
  },
  {
   "cell_type": "code",
   "execution_count": 17,
   "metadata": {},
   "outputs": [],
   "source": [
    "#Code to generate random matrices and biases for W1, b1, W2, b2\n",
    "import numpy as np\n",
    "student_id = 32114818    # insert your student id here for example 1234    \n",
    "np.random.seed(student_id)\n",
    "W1 = np.random.rand(4,3)\n",
    "b1 = np.random.rand(4,1)\n",
    "W2 = np.random.rand(3,4)\n",
    "b2 = np.random.rand(3,1)"
   ]
  },
  {
   "cell_type": "markdown",
   "metadata": {},
   "source": [
    "**Forward propagation**\n",
    "\n",
    "<span style=\"color:red\">**(a)**</span>  What is the value of $\\bar{h}^{1}(x)$?\n",
    "<div style=\"text-align: right\"><span style=\"color:red\">[1 point]</span></div>\n"
   ]
  },
  {
   "cell_type": "markdown",
   "metadata": {},
   "source": [
    "*Show your fomular*\n",
    "\n",
    "$\\text{Formula for forward pass}$\n",
    "\n",
    "$\\bar{h}^{1}(x) = W_1x + b_1$\n"
   ]
  },
  {
   "cell_type": "code",
   "execution_count": 37,
   "metadata": {},
   "outputs": [
    {
     "data": {
      "text/plain": [
       "array([[0.56751867],\n",
       "       [1.71830858],\n",
       "       [2.39623   ],\n",
       "       [1.05539234]])"
      ]
     },
     "execution_count": 37,
     "metadata": {},
     "output_type": "execute_result"
    }
   ],
   "source": [
    "# Show your code\n",
    "h1_lin = np.matmul(W1, np.array([[1], [-1], [1.5]])) + b1\n",
    "h1_lin\n"
   ]
  },
  {
   "cell_type": "markdown",
   "metadata": {},
   "source": [
    "<span style=\"color:red\">**(b)**</span>  What is the value of $h^{1}(x)$?\n",
    "<div style=\"text-align: right\"><span style=\"color:red\">[1 point]</span></div>"
   ]
  },
  {
   "cell_type": "markdown",
   "metadata": {},
   "source": [
    "*Show your fomular*\n",
    "\n",
    "$h^1(x) = \\sigma({\\bar{h}^{1}(x)}), \\text{where } \\sigma \\text{ is the LeakyReLu activation function}$\n"
   ]
  },
  {
   "cell_type": "code",
   "execution_count": 36,
   "metadata": {},
   "outputs": [
    {
     "data": {
      "text/plain": [
       "array([[0.56751867],\n",
       "       [1.71830858],\n",
       "       [2.39623   ],\n",
       "       [1.05539234]])"
      ]
     },
     "execution_count": 36,
     "metadata": {},
     "output_type": "execute_result"
    }
   ],
   "source": [
    "#Show your code\n",
    "h1_act = np.array([LeakyReLU_activation(x[0]) for x in h1_lin])\n",
    "h1_act = h1_act.reshape(4,1)\n",
    "h1_act\n"
   ]
  },
  {
   "cell_type": "markdown",
   "metadata": {},
   "source": [
    "<span style=\"color:red\">**(c)**</span>  What is the predicted value $\\hat{y}$?\n",
    "<div style=\"text-align: right\"><span style=\"color:red\">[1 point]</span></div>"
   ]
  },
  {
   "cell_type": "markdown",
   "metadata": {},
   "source": [
    "*Show your fomular*\n",
    "\n"
   ]
  },
  {
   "cell_type": "code",
   "execution_count": 20,
   "metadata": {},
   "outputs": [
    {
     "name": "stdout",
     "output_type": "stream",
     "text": [
      "The predicted value is the 1st item.\n"
     ]
    }
   ],
   "source": [
    "#Show your code\n",
    "h2_lin = np.matmul(W2, h1_act) + b2\n",
    "h2_act = tf.nn.softmax(h2_lin.flatten()) \n",
    "idx = np.argmax(h2_act) # Get index of maximum probability \n",
    "\n",
    "print(f\"The predicted value is the {idx + 1}st item.\")"
   ]
  },
  {
   "cell_type": "markdown",
   "metadata": {},
   "source": [
    "<span style=\"color:red\">**(d)**</span>  Suppose that we use the cross-entropy (CE) loss. What is the value of the CE loss $l$?\n",
    "<div style=\"text-align: right\"><span style=\"color:red\">[1 point]</span></div>"
   ]
  },
  {
   "cell_type": "markdown",
   "metadata": {},
   "source": [
    "*Show your fomular*\n",
    "\n"
   ]
  },
  {
   "cell_type": "code",
   "execution_count": 21,
   "metadata": {},
   "outputs": [
    {
     "data": {
      "text/plain": [
       "<tf.Tensor: shape=(), dtype=float64, numpy=1.234851234610139>"
      ]
     },
     "execution_count": 21,
     "metadata": {},
     "output_type": "execute_result"
    }
   ],
   "source": [
    "#Show your code\n",
    "tf.nn.softmax_cross_entropy_with_logits(\n",
    "    [0,0,1], h2_lin.flatten(), axis=-1, name=None\n",
    ")\n"
   ]
  },
  {
   "cell_type": "markdown",
   "metadata": {},
   "source": [
    "**Backward propagation**\n",
    "\n",
    "<span style=\"color:red\">**(e)**</span> What are the derivatives $\\frac{\\partial l}{\\partial h^{2}},\\frac{\\partial l}{\\partial W^{2}}$, and $\\frac{\\partial l}{\\partial b^{2}}$? \n",
    "<div style=\"text-align: right\"><span style=\"color:red\">[6 points]</span></div>"
   ]
  },
  {
   "cell_type": "markdown",
   "metadata": {},
   "source": [
    "*Show your fomular*\n",
    "\n",
    "$l(labels, pred) = CE_{loss} + H_{labels}$\n",
    "\n",
    "$\\text{Since the labels are in the form of one-hot vectors, and entropy of a distribuition is given by } \\sum\\log{p_i\\frac{1}{p_i}}, \\text{entropy is 0.}$\n",
    "\n",
    "$l(labels, pred) = CE_{loss} + 0$\n",
    "\n",
    "$= \\sum p_i \\log{\\frac{p_i}{q_i}}$\n",
    "\n",
    "$= -\\log {q}$\n",
    "\n",
    "$= -\\log {softmax(h_2)}$\n",
    "\n",
    "$= -\\log {\\frac{\\exp{p_y}}{\\sum \\exp{p_i}}}$\n",
    "\n",
    "$\\text{The above can be simplified to ... }$"
   ]
  },
  {
   "cell_type": "markdown",
   "metadata": {},
   "source": []
  },
  {
   "cell_type": "code",
   "execution_count": 34,
   "metadata": {},
   "outputs": [
    {
     "name": "stdout",
     "output_type": "stream",
     "text": [
      "dl_dh2 has the gradient [[4.06561349 3.37022947 2.57921005]] of shape (1, 3)\n",
      "dl_dw2 has the gradient [[16.52921305 13.70205041 14.55168465]\n",
      " [13.70205041 11.3584467  12.06275919]\n",
      " [10.48607116  8.69252971  9.23153451]] of shape (3, 3)\n",
      "dl_db2 has the gradient [[10.01505301]] of shape (1, 1)\n"
     ]
    }
   ],
   "source": [
    "#Show your code\n",
    "label = [0,0,1]\n",
    "pred = h2_lin.T \n",
    "\n",
    "dl_dh2 = pred - label\n",
    "dl_dw2 = dl_dh2.T @ pred \n",
    "dl_db2 = dl_dh2 @ np.ones(b2.shape)\n",
    "\n",
    "print(f\"dl_dh2 has the gradient {dl_dh2} of shape {dl_dh2.shape}\")\n",
    "print(f\"dl_dw2 has the gradient {dl_dw2} of shape {dl_dw2.shape}\")\n",
    "print(f\"dl_db2 has the gradient {dl_db2} of shape {dl_db2.shape}\")"
   ]
  },
  {
   "cell_type": "markdown",
   "metadata": {},
   "source": [
    "<span style=\"color:red\">**(f)**</span> What are the derivatives $\\frac{\\partial l}{\\partial h^{1}}, \\frac{\\partial l}{\\partial \\bar{h}^{1}},\\frac{\\partial l}{\\partial W^{1}}$, and $\\frac{\\partial l}{\\partial b^{1}}$? \n",
    "<div style=\"text-align: right\"><span style=\"color:red\">[6 points]</span></div>"
   ]
  },
  {
   "cell_type": "markdown",
   "metadata": {},
   "source": [
    "*Show your fomular*\n",
    "\n"
   ]
  },
  {
   "cell_type": "code",
   "execution_count": 35,
   "metadata": {},
   "outputs": [],
   "source": [
    "#Show your code\n",
    "\n",
    "dl_dh1 = dl_dh2 @ W2 \n",
    "\n",
    "dh1_dh_hat_1 = np.array([LeakyReLU_derivative(x[0]) for x in h1_lin])\n",
    "dh1_dh_hat_1 = h1_act.reshape(4,1)\n",
    "dh1_dh_hat_1 = tf.linalg.tensor_diag_part(dh1_dh_hat_1)\n",
    "h1_act"
   ]
  },
  {
   "cell_type": "markdown",
   "metadata": {},
   "source": [
    "**SGD update**\n",
    "\n",
    "<span style=\"color:red\">**(g)**</span> Assume that we use SGD with learning rate $\\eta=0.01$ to update the model parameters. What are the values of $W^2, b^2$ and $W^1, b^1$ after updating?\n",
    "<div style=\"text-align: right\"><span style=\"color:red\">[5 points]</span></div>"
   ]
  },
  {
   "cell_type": "markdown",
   "metadata": {},
   "source": [
    "*Show your fomular*\n",
    "\n"
   ]
  },
  {
   "cell_type": "code",
   "execution_count": null,
   "metadata": {},
   "outputs": [],
   "source": [
    "#Show your code\n",
    "lr = 0.01\n",
    "W2 = W2 - lr * dl_dh2 \n",
    "b2 = b2 - lr * dl_db2 \n",
    "W1 = W1 - lr * dl_dh1 \n",
    "# b1\n"
   ]
  },
  {
   "cell_type": "markdown",
   "metadata": {},
   "source": [
    "## <span style=\"color:#0b486b\">Part 2: Deep Neural Networks (DNN) </span>\n",
    "<div style=\"text-align: right\"><span style=\"color:red; font-weight:bold\">[Total marks for this part: 30 points]<span></div>\n",
    "\n",
    "The first part of this assignment is for you to demonstrate your basis knowledge in deep learning that you have acquired from the lectures and tutorials materials. Most of the contents in this assignment are drawn from **the tutorials covered from weeks 1 to 4**. Going through these materials before attempting this assignment is highly recommended."
   ]
  },
  {
   "cell_type": "markdown",
   "metadata": {},
   "source": [
    "In the first part of this assignment, you are going to work with the **FashionMNIST** dataset for *image recognition task*. It has the exact same format as MNIST (70,000 grayscale images of 28 × 28 pixels each with 10 classes), but the images represent fashion items rather than handwritten digits, so each class is more diverse, and the problem is significantly more challenging than MNIST."
   ]
  },
  {
   "cell_type": "markdown",
   "metadata": {},
   "source": [
    "####  <span style=\"color:red\">**Question 2.1**</span>. Load the Fashion MNIST using Keras datasets\n",
    "\n",
    "<div style=\"text-align: right\"> <span style=\"color:red\">[5 points]</span> </div>\n",
    "\n",
    "We first use keras incoporated in TensorFlow 2.x for loading the training and testing sets."
   ]
  },
  {
   "cell_type": "code",
   "execution_count": 1,
   "metadata": {},
   "outputs": [],
   "source": [
    "import tensorflow as tf\n",
    "from tensorflow import keras "
   ]
  },
  {
   "cell_type": "code",
   "execution_count": 2,
   "metadata": {},
   "outputs": [],
   "source": [
    "tf.random.set_seed(1234)"
   ]
  },
  {
   "cell_type": "markdown",
   "metadata": {},
   "source": [
    "We first use keras datasets in TF 2.x to load Fashion MNIST dataset."
   ]
  },
  {
   "cell_type": "code",
   "execution_count": null,
   "metadata": {},
   "outputs": [],
   "source": [
    "fashion_mnist = keras.datasets.fashion_mnist\n",
    "(X_train_full_img, y_train_full), (X_test_img, y_test) = fashion_mnist.load_data()\n"
   ]
  },
  {
   "cell_type": "markdown",
   "metadata": {},
   "source": [
    "The shape of X_train_full_img is $(60000, 28, 28 )$ and that of X_test_img is $(10000, 28, 28)$. We next convert them to matrices of vectors and store in X_train_full and X_test."
   ]
  },
  {
   "cell_type": "code",
   "execution_count": null,
   "metadata": {},
   "outputs": [],
   "source": [
    "num_train = X_train_full_img.shape[0]\n",
    "num_test = X_test_img.shape[0]\n",
    "X_train_full = X_train_full_img.reshape(num_train, -1)\n",
    "X_test = X_test_img.reshape(num_test, -1)\n",
    "\n",
    "# One-hot encode our data for label smoothing in the following section \n",
    "y_train_full_onehot = keras.utils.to_categorical(y_train_full)\n",
    "y_test_onehot = keras.utils.to_categorical(y_test)\n",
    "\n",
    "print(\"--BEFORE ONEHOT--\")\n",
    "print(f\"Training shape: {X_train_full.shape}, Training label shape: {y_train_full.shape}\")\n",
    "print(f\"Testing shape: {X_test.shape}, Testing label shape: {y_test.shape}\")\n",
    "\n",
    "print(\"--AFTER ONEHOT--\")\n",
    "print(f\"Training shape: {X_train_full.shape}, Training label shape: {y_train_full_onehot.shape}\")\n",
    "print(f\"Testing shape: {X_test.shape}, Testing label shape: {y_test_onehot.shape}\")"
   ]
  },
  {
   "cell_type": "markdown",
   "metadata": {},
   "source": [
    "####  <span style=\"color:red\">**Question 2.2**</span>. Preprocess the dataset and split into training, validation, and testing datasets\n",
    "\n",
    "<div style=\"text-align: right\"> <span style=\"color:red\">[5 points]</span> </div>\n",
    "\n",
    "You need to write the code to address the following requirements:\n",
    "- Print out the dimensions of X_train_full and X_test\n",
    "- Use $10 \\%$ of X_train_full for validation and the rest of X_train_full for training. This splits X_train_full and y_train_full into X_train, y_train ($90 \\%$) and X_valid, y_valid ($10 \\%$).\n",
    "- Finally, scale the pixels of X_train, X_valid, and X_test to $[0,1]$) (i.e., $X = X/255.0$).\n",
    "\n",
    "You have now the separate training, validation, and testing sets for training your model.\n",
    "\n"
   ]
  },
  {
   "cell_type": "code",
   "execution_count": null,
   "metadata": {},
   "outputs": [],
   "source": [
    "import math\n",
    "N = X_train_full.shape[0]\n",
    "i = math.floor(0.9*N)\n",
    "\n",
    "X_train, y_train = X_train_full[:i], y_train_full_onehot[:i]\n",
    "X_valid, y_valid = X_train_full[i:], y_train_full_onehot[i:]\n",
    "X_train, X_valid, X_test = X_train / 255.0, X_valid / 255.0, X_test / 255.0"
   ]
  },
  {
   "cell_type": "markdown",
   "metadata": {},
   "source": [
    "####  <span style=\"color:red\">**Question 2.3**</span>. Visualize some images in the training set with labels\n",
    "\n",
    "<div style=\"text-align: right\"> <span style=\"color:red\">[5 points]</span> </div>\n",
    "\n",
    "You are required to write the code to show **random** $36$ images in X_train_full_img (which is an array of images) with labels as in the following figure. Note that the class names of Fashion MNIST are as follows \n",
    "- \"1:T-shirt/top\", \"2:Trouser\", \"3:Pullover\", \"4:Dress\", \"5:Coat\", \"6:Sandal\", \"7:Shirt\", \"8:Sneaker\", \"9:Bag\", \"10:Ankle boot\"\n",
    "\n",
    "<img src=\"Figures/Fashion_MNIST.png\" width=\"450\" align=\"center\"/>"
   ]
  },
  {
   "cell_type": "code",
   "execution_count": null,
   "metadata": {},
   "outputs": [],
   "source": [
    "import matplotlib.pyplot as plt\n",
    "%matplotlib inline"
   ]
  },
  {
   "cell_type": "code",
   "execution_count": null,
   "metadata": {},
   "outputs": [],
   "source": [
    "# YOU ARE REQUIRED TO INSERT YOUR CODES IN THIS CELL\n",
    "LABEL_DICT = {\"0\":\"T-shirt/top\", \"1\":\"Trouser\", \"2\":\"Pullover\", \"3\":\"Dress\", \"4\":\"Coat\", \"5\":\"Sandal\", \"6\":\"Shirt\", \"7\":\"Sneaker\", \"8\":\"Bag\", \"9\":\"Ankle boot\"}\n",
    "\n",
    "def display_image(images, label, num2display):\n",
    "    fig = plt.figure(figsize=(15,15))\n",
    "    for i in range(num2display):\n",
    "        p = fig.add_subplot(6,6,i+1,xticks=[],yticks=[])\n",
    "        p.imshow(images[i], cmap=\"Greys\")\n",
    "        p.set_title(f\"{i} - {LABEL_DICT[str(label[i])]}\",y=0, pad=-15)\n",
    "\n",
    "display_image(X_train_full_img, y_train_full, 36)"
   ]
  },
  {
   "cell_type": "markdown",
   "metadata": {},
   "source": [
    "####  <span style=\"color:red\">**Question 2.4**</span>. Write code for the feed-forward neural net using TF 2.x\n",
    "\n",
    "<div style=\"text-align: right\"> <span style=\"color:red\">[5 points]</span> </div>"
   ]
  },
  {
   "cell_type": "markdown",
   "metadata": {},
   "source": [
    "We now develop a feed-forward neural network with the architecture $784 \\rightarrow 20(ReLU) \\rightarrow 40(ReLU) \\rightarrow 10(softmax)$. You can choose your own way to implement your network and an optimizer of interest. You should train model in $20$ epochs and evaluate the trained model on the test set."
   ]
  },
  {
   "cell_type": "code",
   "execution_count": null,
   "metadata": {},
   "outputs": [],
   "source": [
    "#Insert your code here and you can add more cells if necessary\n",
    "class FASHION_MNIST_DNN(tf.keras.Model):\n",
    "    def __init__(self, n_classes=10, *args, **kwargs) -> None:\n",
    "        super(FASHION_MNIST_DNN, self).__init__(*args, **kwargs)\n",
    "        self.n_classes = n_classes\n",
    "        self.layer1 = tf.keras.layers.Dense(units=20, activation='relu', name=\"q2.4l1\", kernel_initializer=\"lecun_uniform\")\n",
    "        self.layer2 = tf.keras.layers.Dense(units=40, activation='relu',name=\"q2.4l2\",kernel_initializer=\"lecun_uniform\")\n",
    "        self.layer3= tf.keras.layers.Dense(units=n_classes, activation=\"softmax\",name=\"q2.4ol\",kernel_initializer=\"lecun_uniform\")\n",
    "    \n",
    "    def call(self, X):\n",
    "        h = self.layer1(X)\n",
    "        h = self.layer2(h)\n",
    "        h = self.layer3(h)\n",
    "        \n",
    "        return h \n",
    "\n",
    "dnn_model = FASHION_MNIST_DNN(n_classes=10, name=\"fashin_dnn_model\")\n",
    "dnn_model.compile(optimizer=keras.optimizers.Adam(learning_rate=0.001), loss='categorical_crossentropy', metrics=['accuracy'])\n",
    "dnn_model.fit(x=X_train, y=y_train, epochs=20, validation_data=(X_valid, y_valid))"
   ]
  },
  {
   "cell_type": "code",
   "execution_count": null,
   "metadata": {},
   "outputs": [],
   "source": [
    "# Evaluating the trained model on the test set \n",
    "dnn_model.evaluate(x=X_test, y=y_test_onehot)"
   ]
  },
  {
   "cell_type": "markdown",
   "metadata": {},
   "source": [
    "####  <span style=\"color:red\">**Question 2.5**</span>. Tuning hyper-parameters with grid search\n",
    "<div style=\"text-align: right\"> <span style=\"color:red\">[5 points]</span> </div>\n",
    "\n",
    "Assume that you need to tune the number of neurons on the first and second hidden layers $n_1 \\in \\{20, 40\\}$, $n_2 \\in \\{20, 40\\}$  and the used activation function  $act \\in \\{sigmoid, tanh, relu\\}$. The network has the architecture pattern $784 \\rightarrow n_1 (act) \\rightarrow n_2(act) \\rightarrow 10(softmax)$ where $n_1, n_2$, and $act$ are in their grides. Write the code to tune the hyper-parameters $n_1, n_2$, and $act$. Note that you can freely choose the optimizer and learning rate of interest for this task."
   ]
  },
  {
   "cell_type": "code",
   "execution_count": null,
   "metadata": {},
   "outputs": [],
   "source": [
    "#Insert your code here. You can add more cells if necessary\n",
    "from typing import List\n",
    "import sklearn.model_selection as sk\n",
    "\n",
    "def generate_model(neurons: List[int], activation: str) -> tf.keras.models: \n",
    "    model = tf.keras.Sequential()\n",
    "    for neuron in neurons: \n",
    "        model.add(tf.keras.layers.Dense(units=neuron, activation=activation))\n",
    "    model.add(tf.keras.layers.Dense(units=10, activation=\"softmax\"))\n",
    "    model.compile(optimizer=keras.optimizers.Adam(learning_rate=0.01), loss='categorical_crossentropy', metrics=['accuracy'])\n",
    "    \n",
    "    desc = f\"{neurons}{activation}\"\n",
    "    \n",
    "    return model, desc\n",
    "\n",
    "def model_generator(generate_model, **kwargs): \n",
    "    all_models = [] \n",
    "    for neuron in kwargs.get('neurons'):\n",
    "        for activation in kwargs.get('activations'):\n",
    "            dnn_model, desc = generate_model(neuron, activation)\n",
    "            dnn_model.compile(optimizer=keras.optimizers.Adam(learning_rate=0.01), loss='categorical_crossentropy', metrics=['accuracy'])\n",
    "            all_models.append((dnn_model, desc))    \n",
    "    return all_models     "
   ]
  },
  {
   "cell_type": "code",
   "execution_count": 39,
   "metadata": {},
   "outputs": [],
   "source": [
    "class GridSearchDNN: \n",
    "    def __init__(self, model_generator, generate_model, training, valid, testing, **kwargs) -> None:\n",
    "        self.test_models = model_generator(generate_model, **kwargs)\n",
    "        self.X_train, self.y_train = training\n",
    "        self.valid = valid\n",
    "        self.X_test, self.y_test = testing\n",
    "        self.best_model = None \n",
    "        self.best_acc = None \n",
    "        self.best_desc = None\n",
    "    \n",
    "    def test_iterator(self, save_progress=False, epochs=5, save_dir=\"\", verbose=True): \n",
    "        best_model, best_acc, best_desc = None, None, None\n",
    "        for model, desc in self.test_models:\n",
    "            print(f\"--NOW TESTING {desc}--\")\n",
    "            history = model.fit(self.X_train, self.y_train, validation_data=self.valid, epochs=epochs, verbose=verbose)\n",
    "            if best_acc == None or history.history['accuracy'][-1] > best_acc:\n",
    "                best_model = model \n",
    "                best_acc = history.history['accuracy'][-1]\n",
    "                best_desc = desc \n",
    "            if save_progress:\n",
    "                model.save(f\"models/{save_dir}/{desc}\")\n",
    "            print(f\"--END TESTING {desc}--\")\n",
    "        \n",
    "        self.best_model = best_model\n",
    "        self.best_acc = best_acc\n",
    "        self.best_desc = best_desc\n",
    "                \n",
    "        return best_model, best_acc, best_desc \n",
    "    "
   ]
  },
  {
   "cell_type": "code",
   "execution_count": null,
   "metadata": {},
   "outputs": [],
   "source": [
    "grid = GridSearchDNN(model_generator, generate_model, (X_train, y_train), (X_valid, y_valid), (X_test, y_test), neurons=[[x,y]for x in [20, 40] for y in [20,40]], activations=['tanh', 'sigmoid', 'relu'])\n",
    "grid.test_iterator(save_progress=True, epochs=20, save_dir=\"q2.5models\")\n",
    "\n",
    "# The final best model is 40, 40 sigmoid. "
   ]
  },
  {
   "cell_type": "markdown",
   "metadata": {},
   "source": [
    "####  <span style=\"color:red\">**Question 2.6**</span>. Experimenting with **the label smoothing** technique\n",
    "<div style=\"text-align: right\"> <span style=\"color:red\">[5 points]</span> </div>\n",
    "\n",
    "Implement the label smoothing technique (i.e., [link for main paper](https://papers.nips.cc/paper/2019/file/f1748d6b0fd9d439f71450117eba2725-Paper.pdf) from Goeff Hinton) by yourself. Note that you cannot use the built-in label-smoothing loss function in TF2.x. Try the label smoothing technique with $\\alpha =0.1, 0.15, 0.2$ and report the performances. You need to examine the label smoothing technique with the best architecture obtained in **Question 2.5**."
   ]
  },
  {
   "cell_type": "code",
   "execution_count": null,
   "metadata": {},
   "outputs": [],
   "source": [
    "#Insert your code here. You can add more cells if necessary\n",
    "\n",
    "def label_smoothing(y_labels, smoothing_factor, num_classes):\n",
    "    smooth_labels = y_labels * (1 - smoothing_factor) + smoothing_factor / num_classes\n",
    "    return smooth_labels \n",
    "\n",
    "alphas = [0.1, 0.15, 0.2]\n",
    "\n",
    "for alpha in alphas: \n",
    "    model, _ = generate_model(neurons=[40,40], activation='sigmoid')\n",
    "    print(f\"--TESTING {alpha}--\")\n",
    "    model.fit(X_train, label_smoothing(y_train, alpha, 10), epochs=20, verbose=0)\n",
    "    model.evaluate(X_test, label_smoothing(y_test_onehot, alpha, 10))\n",
    "    "
   ]
  },
  {
   "cell_type": "markdown",
   "metadata": {},
   "source": [
    "## <span style=\"color:#0b486b\">Part 3: Convolutional Neural Networks and Image Classification</span>\n",
    "\n",
    "**<div style=\"text-align: right\"><span style=\"color:red\">[Total marks for this part: 40 points]</span></div>**"
   ]
  },
  {
   "cell_type": "markdown",
   "metadata": {},
   "source": [
    "**This part of the asssignment is designed to assess your knowledge and coding skill with Tensorflow as well as hands-on experience with training Convolutional Neural Network (CNN).**"
   ]
  },
  {
   "cell_type": "markdown",
   "metadata": {},
   "source": [
    "**The dataset we use for this part is a small animal dataset consisting of $5,000$ images of cats, dogs, fishes, lions, chickens, elephants, butterflies, cows, spiders, and horses, each of which has 500 images. You can download the dataset at [download here](https://drive.google.com/file/d/1bEwEx72lLrjY_Idj_FgV22atIdjtCV66/view?usp=sharing) and then decompress to the folder `datasets\\Animals` in your assignment folder.**\n",
    "\n",
    "**Your task is to build a CNN model using *TF 2.x* to classify these animals. You're provided with the module <span style=\"color:red\">models.py</span>, which you can find in the assignment folder, with some of the following classes:**"
   ]
  },
  {
   "cell_type": "markdown",
   "metadata": {},
   "source": [
    "1. `AnimalsDatasetManager`: Support with loading and spliting the dataset into the train-val-test sets. It also supports generating next batches for training. `AnimalsDatasetManager` will be passed to CNN model for training and testing.\n",
    "2. `DefaultModel`: A base class for the CNN model.\n",
    "3. `YourModel`: The class you'll need to implement for building your CNN model. It inherits some useful attributes and functions from the base class `DefaultModel`"
   ]
  },
  {
   "cell_type": "markdown",
   "metadata": {},
   "source": [
    "Firstly, we need to run the following cells to load and preprocess the Animal dataset."
   ]
  },
  {
   "cell_type": "code",
   "execution_count": 44,
   "metadata": {},
   "outputs": [],
   "source": [
    "%load_ext autoreload\n",
    "%autoreload 2"
   ]
  },
  {
   "cell_type": "markdown",
   "metadata": {},
   "source": [
    "Install the package `imutils` if you have not installed yet"
   ]
  },
  {
   "cell_type": "code",
   "execution_count": null,
   "metadata": {},
   "outputs": [],
   "source": [
    "! pip install imutils"
   ]
  },
  {
   "cell_type": "code",
   "execution_count": 3,
   "metadata": {},
   "outputs": [],
   "source": [
    "import os\n",
    "import matplotlib.pyplot as plt\n",
    "plt.style.use('ggplot')\n",
    "%matplotlib inline\n",
    "import models\n",
    "from models import SimplePreprocessor, AnimalsDatasetManager, DefaultModel"
   ]
  },
  {
   "cell_type": "code",
   "execution_count": 4,
   "metadata": {},
   "outputs": [],
   "source": [
    "def create_label_folder_dict(adir):\n",
    "    sub_folders= [folder for folder in os.listdir(adir)\n",
    "                  if os.path.isdir(os.path.join(adir, folder))]\n",
    "    label_folder_dict= dict()\n",
    "    for folder in sub_folders:\n",
    "        item= {folder: os.path.abspath(os.path.join(adir, folder))}\n",
    "        label_folder_dict.update(item)\n",
    "    return label_folder_dict"
   ]
  },
  {
   "cell_type": "code",
   "execution_count": 5,
   "metadata": {},
   "outputs": [],
   "source": [
    "label_folder_dict= create_label_folder_dict(\"./datasets/Animals\")"
   ]
  },
  {
   "cell_type": "markdown",
   "metadata": {},
   "source": [
    "The below code helps to create a data manager that contains all relevant methods used to manage and process the experimental data. "
   ]
  },
  {
   "cell_type": "code",
   "execution_count": 6,
   "metadata": {},
   "outputs": [
    {
     "name": "stdout",
     "output_type": "stream",
     "text": [
      "butterfiles 500\n",
      "Processed 100/500\n",
      "Processed 200/500\n",
      "Processed 300/500\n",
      "Processed 400/500\n",
      "Processed 500/500\n",
      "cats 501\n",
      "Processed 100/500\n",
      "Processed 200/500\n",
      "Processed 300/500\n",
      "Processed 400/500\n",
      "Processed 500/500\n",
      "chickens 500\n",
      "Processed 100/500\n",
      "Processed 200/500\n",
      "Processed 300/500\n",
      "Processed 400/500\n",
      "Processed 500/500\n",
      "cows 500\n",
      "Processed 100/500\n",
      "Processed 200/500\n",
      "Processed 300/500\n",
      "Processed 400/500\n",
      "Processed 500/500\n",
      "dogs 501\n",
      "Processed 100/500\n",
      "Processed 200/500\n",
      "Processed 300/500\n",
      "Processed 400/500\n",
      "Processed 500/500\n",
      "elephants 500\n",
      "Processed 100/500\n",
      "Processed 200/500\n",
      "Processed 300/500\n",
      "Processed 400/500\n",
      "Processed 500/500\n",
      "fishes 500\n",
      "Processed 100/500\n",
      "Processed 200/500\n",
      "Processed 300/500\n",
      "Processed 400/500\n",
      "Processed 500/500\n",
      "horses 500\n",
      "Processed 100/500\n",
      "Processed 200/500\n",
      "Processed 300/500\n",
      "Processed 400/500\n",
      "Processed 500/500\n",
      "lions 500\n",
      "Processed 100/500\n",
      "Processed 200/500\n",
      "Processed 300/500\n",
      "Processed 400/500\n",
      "Processed 500/500\n",
      "spiders 500\n",
      "Processed 100/500\n",
      "Processed 200/500\n",
      "Processed 300/500\n",
      "Processed 400/500\n",
      "Processed 500/500\n"
     ]
    }
   ],
   "source": [
    "sp = SimplePreprocessor(width=32, height=32)\n",
    "data_manager = AnimalsDatasetManager([sp])\n",
    "data_manager.load(label_folder_dict, verbose=100)"
   ]
  },
  {
   "cell_type": "markdown",
   "metadata": {},
   "source": [
    "Note that the object `data_manager` has the attributes relating to *the training, validation, and testing sets* as shown belows. You can use them in training your developped models in the sequel."
   ]
  },
  {
   "cell_type": "code",
   "execution_count": 7,
   "metadata": {},
   "outputs": [],
   "source": [
    "data_manager.process_data_label()\n",
    "data_manager.train_valid_test_split()"
   ]
  },
  {
   "cell_type": "code",
   "execution_count": 8,
   "metadata": {},
   "outputs": [
    {
     "name": "stdout",
     "output_type": "stream",
     "text": [
      "(4000, 32, 32, 3) (4000,)\n",
      "(500, 32, 32, 3) (500,)\n",
      "(500, 32, 32, 3) (500,)\n",
      "['butterfiles' 'cats' 'chickens' 'cows' 'dogs' 'elephants' 'fishes'\n",
      " 'horses' 'lions' 'spiders']\n"
     ]
    }
   ],
   "source": [
    "print(data_manager.X_train.shape, data_manager.y_train.shape)\n",
    "print(data_manager.X_valid.shape, data_manager.y_valid.shape)\n",
    "print(data_manager.X_test.shape, data_manager.y_test.shape)\n",
    "print(data_manager.classes)"
   ]
  },
  {
   "cell_type": "markdown",
   "metadata": {},
   "source": [
    "We now run the **default model** built in the **models.py** file which serves as a basic baseline to start the investigation. Follow the following steps to realize how to run a model and know the built-in methods associated to a model developped in the DefaultModel class."
   ]
  },
  {
   "cell_type": "markdown",
   "metadata": {},
   "source": [
    "We first initialize a default model from the DefaultModel class. Basically, we can define the relevant parameters of training a model including `num_classes`, `optimizer`, `learning_rate`, `batch_size`, and `num_epochs`."
   ]
  },
  {
   "cell_type": "code",
   "execution_count": 9,
   "metadata": {},
   "outputs": [],
   "source": [
    "network1 = DefaultModel(name='network1',\n",
    "                       num_classes=len(data_manager.classes),\n",
    "                       optimizer='sgd',\n",
    "                       batch_size= 128,\n",
    "                       num_epochs = 20,\n",
    "                       learning_rate=0.5)"
   ]
  },
  {
   "cell_type": "markdown",
   "metadata": {},
   "source": [
    "The method `build_cnn()` assists us in building your convolutional neural network. You can view the code (in the **models.py** file) of the model behind a default model to realize how simple it is. Additionally, the method `summary()` shows the architecture of a model."
   ]
  },
  {
   "cell_type": "code",
   "execution_count": 10,
   "metadata": {},
   "outputs": [
    {
     "name": "stdout",
     "output_type": "stream",
     "text": [
      "Model: \"sequential_1\"\n",
      "_________________________________________________________________\n",
      " Layer (type)                Output Shape              Param #   \n",
      "=================================================================\n",
      " conv2d (Conv2D)             (None, 32, 32, 32)        896       \n",
      "                                                                 \n",
      " conv2d_1 (Conv2D)           (None, 32, 32, 32)        9248      \n",
      "                                                                 \n",
      " average_pooling2d (AverageP  (None, 16, 16, 32)       0         \n",
      " ooling2D)                                                       \n",
      "                                                                 \n",
      " conv2d_2 (Conv2D)           (None, 16, 16, 64)        18496     \n",
      "                                                                 \n",
      " conv2d_3 (Conv2D)           (None, 16, 16, 64)        36928     \n",
      "                                                                 \n",
      " average_pooling2d_1 (Averag  (None, 8, 8, 64)         0         \n",
      " ePooling2D)                                                     \n",
      "                                                                 \n",
      " flatten (Flatten)           (None, 4096)              0         \n",
      "                                                                 \n",
      " dense (Dense)               (None, 10)                40970     \n",
      "                                                                 \n",
      "=================================================================\n",
      "Total params: 106,538\n",
      "Trainable params: 106,538\n",
      "Non-trainable params: 0\n",
      "_________________________________________________________________\n",
      "None\n"
     ]
    }
   ],
   "source": [
    "network1.build_cnn()\n",
    "network1.summary()"
   ]
  },
  {
   "cell_type": "markdown",
   "metadata": {},
   "source": [
    "To train a model regarding to the datasets stored in `data_manager`, you can invoke the method `fit()` for which you can specify the batch size and number of epochs for your training. "
   ]
  },
  {
   "cell_type": "code",
   "execution_count": 11,
   "metadata": {},
   "outputs": [
    {
     "name": "stdout",
     "output_type": "stream",
     "text": [
      "Epoch 1/20\n",
      "63/63 [==============================] - 8s 115ms/step - loss: 2.2992 - accuracy: 0.1170 - val_loss: 2.3031 - val_accuracy: 0.1020\n",
      "Epoch 2/20\n",
      "63/63 [==============================] - 7s 112ms/step - loss: 2.2998 - accuracy: 0.0997 - val_loss: 2.3103 - val_accuracy: 0.0920\n",
      "Epoch 3/20\n",
      "63/63 [==============================] - 7s 114ms/step - loss: 2.3093 - accuracy: 0.1035 - val_loss: 2.3044 - val_accuracy: 0.1040\n",
      "Epoch 4/20\n",
      "63/63 [==============================] - 7s 110ms/step - loss: 2.3053 - accuracy: 0.0903 - val_loss: 2.3052 - val_accuracy: 0.0840\n",
      "Epoch 5/20\n",
      "63/63 [==============================] - 7s 111ms/step - loss: 2.3052 - accuracy: 0.0995 - val_loss: 2.3044 - val_accuracy: 0.1020\n",
      "Epoch 6/20\n",
      "63/63 [==============================] - 7s 107ms/step - loss: 2.3051 - accuracy: 0.0965 - val_loss: 2.3024 - val_accuracy: 0.1020\n",
      "Epoch 7/20\n",
      "63/63 [==============================] - 7s 107ms/step - loss: 2.3051 - accuracy: 0.0975 - val_loss: 2.3038 - val_accuracy: 0.1020\n",
      "Epoch 8/20\n",
      "63/63 [==============================] - 7s 107ms/step - loss: 2.3052 - accuracy: 0.0960 - val_loss: 2.3037 - val_accuracy: 0.1020\n",
      "Epoch 9/20\n",
      "63/63 [==============================] - 7s 108ms/step - loss: 2.3044 - accuracy: 0.1055 - val_loss: 2.3072 - val_accuracy: 0.0920\n",
      "Epoch 10/20\n",
      "63/63 [==============================] - 7s 108ms/step - loss: 2.3055 - accuracy: 0.0935 - val_loss: 2.3046 - val_accuracy: 0.1040\n",
      "Epoch 11/20\n",
      "63/63 [==============================] - 7s 106ms/step - loss: 2.3054 - accuracy: 0.0850 - val_loss: 2.3052 - val_accuracy: 0.0840\n",
      "Epoch 12/20\n",
      "63/63 [==============================] - 7s 107ms/step - loss: 2.3051 - accuracy: 0.1000 - val_loss: 2.3073 - val_accuracy: 0.0840\n",
      "Epoch 13/20\n",
      "63/63 [==============================] - 7s 111ms/step - loss: 2.3053 - accuracy: 0.0962 - val_loss: 2.3053 - val_accuracy: 0.0920\n",
      "Epoch 14/20\n",
      "63/63 [==============================] - 7s 107ms/step - loss: 2.3048 - accuracy: 0.0985 - val_loss: 2.3073 - val_accuracy: 0.0920\n",
      "Epoch 15/20\n",
      "63/63 [==============================] - 7s 107ms/step - loss: 2.3054 - accuracy: 0.0943 - val_loss: 2.3054 - val_accuracy: 0.0840\n",
      "Epoch 16/20\n",
      "63/63 [==============================] - 7s 107ms/step - loss: 2.3048 - accuracy: 0.0935 - val_loss: 2.3052 - val_accuracy: 0.0960\n",
      "Epoch 17/20\n",
      "63/63 [==============================] - 7s 109ms/step - loss: 2.3044 - accuracy: 0.0972 - val_loss: 2.3041 - val_accuracy: 0.1020\n",
      "Epoch 18/20\n",
      "63/63 [==============================] - 7s 107ms/step - loss: 2.3048 - accuracy: 0.0972 - val_loss: 2.3055 - val_accuracy: 0.1040\n",
      "Epoch 19/20\n",
      "63/63 [==============================] - 7s 106ms/step - loss: 2.3054 - accuracy: 0.0975 - val_loss: 2.3047 - val_accuracy: 0.1000\n",
      "Epoch 20/20\n",
      "63/63 [==============================] - 7s 110ms/step - loss: 2.3053 - accuracy: 0.0913 - val_loss: 2.3034 - val_accuracy: 0.1060\n"
     ]
    }
   ],
   "source": [
    "network1.fit(data_manager, batch_size = 64, num_epochs = 20)"
   ]
  },
  {
   "cell_type": "markdown",
   "metadata": {},
   "source": [
    "Here you can compute the accuracy of your trained model with respect to a separate testing set."
   ]
  },
  {
   "cell_type": "code",
   "execution_count": 12,
   "metadata": {},
   "outputs": [
    {
     "name": "stdout",
     "output_type": "stream",
     "text": [
      "8/8 [==============================] - 0s 13ms/step - loss: 2.3036 - accuracy: 0.1120\n"
     ]
    },
    {
     "data": {
      "text/plain": [
       "0.1120000034570694"
      ]
     },
     "execution_count": 12,
     "metadata": {},
     "output_type": "execute_result"
    }
   ],
   "source": [
    "network1.compute_accuracy(data_manager.X_test, data_manager.y_test)"
   ]
  },
  {
   "cell_type": "markdown",
   "metadata": {},
   "source": [
    "Below shows how you can inspect the training progress."
   ]
  },
  {
   "cell_type": "code",
   "execution_count": 13,
   "metadata": {},
   "outputs": [
    {
     "data": {
      "image/png": "[encoded data removed]",
      "text/plain": [
       "<Figure size 432x288 with 2 Axes>"
      ]
     },
     "metadata": {},
     "output_type": "display_data"
    }
   ],
   "source": [
    "network1.plot_progress()"
   ]
  },
  {
   "cell_type": "markdown",
   "metadata": {},
   "source": [
    "You can use the method `predict()` to predict labels for data examples in a test set."
   ]
  },
  {
   "cell_type": "code",
   "execution_count": 14,
   "metadata": {},
   "outputs": [
    {
     "name": "stdout",
     "output_type": "stream",
     "text": [
      "1/1 [==============================] - 0s 66ms/step\n"
     ]
    },
    {
     "data": {
      "text/plain": [
       "array([1, 1, 1, 1, 1, 1, 1, 1, 1, 1], dtype=int64)"
      ]
     },
     "execution_count": 14,
     "metadata": {},
     "output_type": "execute_result"
    }
   ],
   "source": [
    "network1.predict(data_manager.X_test[0:10])"
   ]
  },
  {
   "cell_type": "markdown",
   "metadata": {},
   "source": [
    "Finally, the method `plot_prediction()` visualizes the predictions for a test set in which several images are chosen to show the predictions."
   ]
  },
  {
   "cell_type": "code",
   "execution_count": 15,
   "metadata": {},
   "outputs": [
    {
     "name": "stdout",
     "output_type": "stream",
     "text": [
      "16/16 [==============================] - 0s 7ms/step\n"
     ]
    },
    {
     "data": {
      "text/plain": [
       "<Figure size 432x288 with 0 Axes>"
      ]
     },
     "metadata": {},
     "output_type": "display_data"
    },
    {
     "data": {
      "image/png": "[encoded data removed]",
      "text/plain": [
       "<Figure size 900x900 with 25 Axes>"
      ]
     },
     "metadata": {},
     "output_type": "display_data"
    }
   ],
   "source": [
    "network1.plot_prediction(data_manager.X_test, data_manager.y_test, data_manager.classes)"
   ]
  },
  {
   "cell_type": "markdown",
   "metadata": {},
   "source": [
    "<span style=\"color:red\">**Question 3.1**</span> **After running the above cells to train the default model and observe the learning curve. Report your observation (i.e. did the model learn well? if not, what is the problem? What would you do to improve it?). Write your answer below.**\n",
    "\n",
    "<div style=\"text-align: right\"> <span style=\"color:red\">[4 points]</span> </div>"
   ]
  },
  {
   "cell_type": "markdown",
   "metadata": {},
   "source": [
    "According to my observation, the model did not learn well. This can be seen by the low accuracy even with the training set and the decreasing accuracy for the validation set at each epoch. The performance is not good on the test set too based on the accuracy metric. The problem might be due to the lack of hyperparameter tuning, and we could perform a Grid Search to use different values of hyperparamters such as optimizers, learning rate, epoch number and so on. However, the main problem here is with the optimizer used along with its learning rate. \n",
    ".....\n",
    "\n"
   ]
  },
  {
   "cell_type": "markdown",
   "metadata": {},
   "source": [
    "**For questions 3.2 to 3.9, you'll need to write your own model in a way that makes it easy for you to experiment with different architectures and parameters. The goal is to be able to pass the parameters to initialize a new instance of `YourModel` to build different network architectures with different parameters. Below are descriptions of some parameters for `YourModel`, which you can find in function `__init__()` for the class `DefaultModel`:**"
   ]
  },
  {
   "cell_type": "markdown",
   "metadata": {},
   "source": [
    "1. `num_blocks`: an integer specifying the number of blocks in our network. Each block has the pattern `[conv, batch norm, activation, conv, batch norm, activation, mean pool, dropout]`. All convolutional layers have filter size $(3, 3)$, strides $(1, 1)$ and 'SAME' padding, and all mean pool layers have strides $(2, 2)$ and 'SAME' padding. The network will consists of a few blocks before applying a linear layer to output the logits for the softmax layer.\n",
    "\n",
    "2. `feature_maps`: the number of feature maps in the first block of the network. The number of feature_maps will double in each of the following block. To make it convenient for you, we already calculated the number of feature maps for each block for you in line $106$\n",
    "3. `drop_rate`: the keep probability for dropout. Setting `drop_rate` to $0.0$ means not using dropout. \n",
    "4. `batch_norm`: the batch normalization function is used or not. Setting `batch_norm` to `None` means not using batch normalization. \n",
    "5. The `skip connection` is added to the output of the second `batch norm`. Additionally, your class has a boolean property (i.e., instance variable) named `use_skip`. If `use_skip=True`, the skip connectnion is enable. Otherwise, if `use_skip=False`, the skip connectnion is disable.\n",
    "\n",
    "Below is the architecture of one block:\n",
    "\n",
    "<img src=\"Figures/OneBlock.png\" width=\"350\" align=\"center\"/>\n",
    "\n",
    "Below is the architecture of the entire deep net with `two blocks`:\n",
    "\n",
    "<img src=\"Figures/NetworkArchitecture.png\" width=\"1200\" align=\"center\"/>"
   ]
  },
  {
   "cell_type": "markdown",
   "metadata": {},
   "source": [
    "Here we assume that the first block has `feature_maps = feature_maps[0] = 32`. Note that the initial number of feature maps of the first block is declared in the instance variable `feature_maps` and is multiplied by $2$ in each follpwing block. "
   ]
  },
  {
   "cell_type": "code",
   "execution_count": 16,
   "metadata": {},
   "outputs": [],
   "source": [
    "import tensorflow as tf\n",
    "from tensorflow import keras\n",
    "from tensorflow.keras import layers, models"
   ]
  },
  {
   "cell_type": "code",
   "execution_count": 17,
   "metadata": {},
   "outputs": [],
   "source": [
    "tf.random.set_seed(1234)"
   ]
  },
  {
   "cell_type": "markdown",
   "metadata": {},
   "source": [
    "<span style=\"color:red\">**Question 3.2**</span> **Write the code of the `YourModel` class here. Note that this class will inherit from the `DefaultModel` class. You'll only need to re-write the code for the `build_cnn` method in the `YourModel` class from the cell below. Note that the `YourModel` class   is inherited from the `DefaultModel` class.**\n",
    "\n",
    "<div style=\"text-align: right\"> <span style=\"color:red\">[4 points]</span> </div>"
   ]
  },
  {
   "cell_type": "code",
   "execution_count": 35,
   "metadata": {},
   "outputs": [],
   "source": [
    "class YourModel(DefaultModel):\n",
    "    def __init__(self,\n",
    "                 name='network1',\n",
    "                 width=32, height=32, depth=3,\n",
    "                 num_blocks=2,\n",
    "                 feature_maps=32,\n",
    "                 num_classes=4, \n",
    "                 drop_rate=0.2,\n",
    "                 batch_norm = None,\n",
    "                 is_augmentation = False,\n",
    "                 activation_func='relu',\n",
    "                 use_skip = True,\n",
    "                 optimizer='adam',\n",
    "                 batch_size=10,\n",
    "                 num_epochs= 20,\n",
    "                 learning_rate=0.0001,\n",
    "                 verbose= True):\n",
    "        super(YourModel, self).__init__(name, width, height, depth, num_blocks, feature_maps, num_classes, drop_rate, batch_norm, is_augmentation, \n",
    "                                        activation_func, use_skip, optimizer, batch_size, num_epochs, learning_rate, verbose)\n",
    "        \n",
    "    def build_block_func(self, feature_map, input_tens):\n",
    "        CONV = layers.Conv2D(feature_map, (3,3), padding='same', strides=1)(input_tens)\n",
    "        h = layers.BatchNormalization()(CONV)\n",
    "        h = layers.Activation(self.activation_func)(h)\n",
    "        h = layers.Conv2D(feature_map, (3,3), padding='same', strides=1)(h)\n",
    "        h = layers.BatchNormalization()(h)\n",
    "        \n",
    "        if self.use_skip:\n",
    "            h = layers.Add()([h, CONV]) \n",
    "        \n",
    "        h = layers.AveragePooling2D(pool_size=(2,2), padding='same')(h)\n",
    "        h = layers.Dropout(rate=self.drop_rate)(h)\n",
    "        \n",
    "        return h\n",
    "         \n",
    "    \n",
    "    def build_cnn(self):\n",
    "        X = tf.keras.layers.Input(shape=(32,32,3))\n",
    "        block_output = X\n",
    "        for feature_map in self.feature_maps:\n",
    "            block_output = self.build_block_func(feature_map, block_output)\n",
    "        block_output = layers.Flatten()(block_output)\n",
    "        block_output = layers.Dense(self.num_classes, activation=\"softmax\")(block_output)\n",
    "        \n",
    "        self.model = tf.keras.Model(inputs=X, outputs=block_output)\n",
    "        self.model.compile(optimizer=self.optimizer, loss='sparse_categorical_crossentropy', metrics=['accuracy'])"
   ]
  },
  {
   "cell_type": "markdown",
   "metadata": {},
   "source": [
    "<span style=\"color:red\">**Question 3.3**</span> **Once writing your own model, you need to compare two cases: (i) *using the skip connection* and (ii) *not using the skip connection*. You should set the instance variable `use_skip` to either `True` or `False`. For your runs, report which case is better and if you confront overfitting in training.**\n",
    "    \n",
    "<div style=\"text-align: right\"> <span style=\"color:red\">[6 points]</span> </div>"
   ]
  },
  {
   "cell_type": "markdown",
   "metadata": {},
   "source": [
    "#*Write your report and observation here*\n",
    "\n",
    ".....\n",
    "\n",
    "\n"
   ]
  },
  {
   "cell_type": "code",
   "execution_count": 20,
   "metadata": {},
   "outputs": [
    {
     "name": "stdout",
     "output_type": "stream",
     "text": [
      "Model: \"model\"\n",
      "__________________________________________________________________________________________________\n",
      " Layer (type)                   Output Shape         Param #     Connected to                     \n",
      "==================================================================================================\n",
      " input_1 (InputLayer)           [(None, 32, 32, 3)]  0           []                               \n",
      "                                                                                                  \n",
      " conv2d_4 (Conv2D)              (None, 32, 32, 32)   896         ['input_1[0][0]']                \n",
      "                                                                                                  \n",
      " batch_normalization (BatchNorm  (None, 32, 32, 32)  128         ['conv2d_4[0][0]']               \n",
      " alization)                                                                                       \n",
      "                                                                                                  \n",
      " activation (Activation)        (None, 32, 32, 32)   0           ['batch_normalization[0][0]']    \n",
      "                                                                                                  \n",
      " conv2d_5 (Conv2D)              (None, 32, 32, 32)   9248        ['activation[0][0]']             \n",
      "                                                                                                  \n",
      " batch_normalization_1 (BatchNo  (None, 32, 32, 32)  128         ['conv2d_5[0][0]']               \n",
      " rmalization)                                                                                     \n",
      "                                                                                                  \n",
      " add (Add)                      (None, 32, 32, 32)   0           ['batch_normalization_1[0][0]',  \n",
      "                                                                  'conv2d_4[0][0]']               \n",
      "                                                                                                  \n",
      " average_pooling2d_2 (AveragePo  (None, 16, 16, 32)  0           ['add[0][0]']                    \n",
      " oling2D)                                                                                         \n",
      "                                                                                                  \n",
      " dropout (Dropout)              (None, 16, 16, 32)   0           ['average_pooling2d_2[0][0]']    \n",
      "                                                                                                  \n",
      " conv2d_6 (Conv2D)              (None, 16, 16, 64)   18496       ['dropout[0][0]']                \n",
      "                                                                                                  \n",
      " batch_normalization_2 (BatchNo  (None, 16, 16, 64)  256         ['conv2d_6[0][0]']               \n",
      " rmalization)                                                                                     \n",
      "                                                                                                  \n",
      " activation_1 (Activation)      (None, 16, 16, 64)   0           ['batch_normalization_2[0][0]']  \n",
      "                                                                                                  \n",
      " conv2d_7 (Conv2D)              (None, 16, 16, 64)   36928       ['activation_1[0][0]']           \n",
      "                                                                                                  \n",
      " batch_normalization_3 (BatchNo  (None, 16, 16, 64)  256         ['conv2d_7[0][0]']               \n",
      " rmalization)                                                                                     \n",
      "                                                                                                  \n",
      " add_1 (Add)                    (None, 16, 16, 64)   0           ['batch_normalization_3[0][0]',  \n",
      "                                                                  'conv2d_6[0][0]']               \n",
      "                                                                                                  \n",
      " average_pooling2d_3 (AveragePo  (None, 8, 8, 64)    0           ['add_1[0][0]']                  \n",
      " oling2D)                                                                                         \n",
      "                                                                                                  \n",
      " dropout_1 (Dropout)            (None, 8, 8, 64)     0           ['average_pooling2d_3[0][0]']    \n",
      "                                                                                                  \n",
      " conv2d_8 (Conv2D)              (None, 8, 8, 128)    73856       ['dropout_1[0][0]']              \n",
      "                                                                                                  \n",
      " batch_normalization_4 (BatchNo  (None, 8, 8, 128)   512         ['conv2d_8[0][0]']               \n",
      " rmalization)                                                                                     \n",
      "                                                                                                  \n",
      " activation_2 (Activation)      (None, 8, 8, 128)    0           ['batch_normalization_4[0][0]']  \n",
      "                                                                                                  \n",
      " conv2d_9 (Conv2D)              (None, 8, 8, 128)    147584      ['activation_2[0][0]']           \n",
      "                                                                                                  \n",
      " batch_normalization_5 (BatchNo  (None, 8, 8, 128)   512         ['conv2d_9[0][0]']               \n",
      " rmalization)                                                                                     \n",
      "                                                                                                  \n",
      " add_2 (Add)                    (None, 8, 8, 128)    0           ['batch_normalization_5[0][0]',  \n",
      "                                                                  'conv2d_8[0][0]']               \n",
      "                                                                                                  \n",
      " average_pooling2d_4 (AveragePo  (None, 4, 4, 128)   0           ['add_2[0][0]']                  \n",
      " oling2D)                                                                                         \n",
      "                                                                                                  \n",
      " dropout_2 (Dropout)            (None, 4, 4, 128)    0           ['average_pooling2d_4[0][0]']    \n",
      "                                                                                                  \n",
      " flatten_1 (Flatten)            (None, 2048)         0           ['dropout_2[0][0]']              \n",
      "                                                                                                  \n",
      " dense_1 (Dense)                (None, 10)           20490       ['flatten_1[0][0]']              \n",
      "                                                                                                  \n",
      "==================================================================================================\n",
      "Total params: 309,290\n",
      "Trainable params: 308,394\n",
      "Non-trainable params: 896\n",
      "__________________________________________________________________________________________________\n",
      "None\n"
     ]
    }
   ],
   "source": [
    "our_network_skip = YourModel(name='network1',\n",
    "                     feature_maps=32,\n",
    "                     num_classes=len(data_manager.classes),\n",
    "                     num_blocks=3,\n",
    "                     drop_rate= 0.0, \n",
    "                     batch_norm=True, \n",
    "                     use_skip = True,\n",
    "                     optimizer='adam',\n",
    "                     learning_rate= 0.001)\n",
    "our_network_skip.build_cnn()\n",
    "our_network_skip.summary()"
   ]
  },
  {
   "cell_type": "code",
   "execution_count": 21,
   "metadata": {},
   "outputs": [
    {
     "name": "stdout",
     "output_type": "stream",
     "text": [
      "Epoch 1/20\n",
      "125/125 [==============================] - 12s 94ms/step - loss: 2.1985 - accuracy: 0.3615 - val_loss: 2.3609 - val_accuracy: 0.1660\n",
      "Epoch 2/20\n",
      "125/125 [==============================] - 11s 92ms/step - loss: 1.5291 - accuracy: 0.4992 - val_loss: 1.9703 - val_accuracy: 0.3400\n",
      "Epoch 3/20\n",
      "125/125 [==============================] - 11s 92ms/step - loss: 1.2958 - accuracy: 0.5638 - val_loss: 1.7039 - val_accuracy: 0.4140\n",
      "Epoch 4/20\n",
      "125/125 [==============================] - 11s 91ms/step - loss: 1.1269 - accuracy: 0.6235 - val_loss: 1.5950 - val_accuracy: 0.4900\n",
      "Epoch 5/20\n",
      "125/125 [==============================] - 12s 93ms/step - loss: 0.9646 - accuracy: 0.6770 - val_loss: 1.5325 - val_accuracy: 0.5560\n",
      "Epoch 6/20\n",
      "125/125 [==============================] - 12s 92ms/step - loss: 0.8260 - accuracy: 0.7215 - val_loss: 1.7596 - val_accuracy: 0.4900\n",
      "Epoch 7/20\n",
      "125/125 [==============================] - 11s 91ms/step - loss: 0.7462 - accuracy: 0.7502 - val_loss: 1.6788 - val_accuracy: 0.5300\n",
      "Epoch 8/20\n",
      "125/125 [==============================] - 11s 91ms/step - loss: 0.5982 - accuracy: 0.7958 - val_loss: 1.8903 - val_accuracy: 0.5260\n",
      "Epoch 9/20\n",
      "125/125 [==============================] - 11s 91ms/step - loss: 0.4780 - accuracy: 0.8413 - val_loss: 2.1161 - val_accuracy: 0.5020\n",
      "Epoch 10/20\n",
      "125/125 [==============================] - 12s 92ms/step - loss: 0.3272 - accuracy: 0.8935 - val_loss: 1.8326 - val_accuracy: 0.5160\n",
      "Epoch 11/20\n",
      "125/125 [==============================] - 11s 90ms/step - loss: 0.3091 - accuracy: 0.8935 - val_loss: 2.4625 - val_accuracy: 0.5080\n",
      "Epoch 12/20\n",
      "125/125 [==============================] - 12s 92ms/step - loss: 0.2567 - accuracy: 0.9162 - val_loss: 2.9101 - val_accuracy: 0.5240\n",
      "Epoch 13/20\n",
      "125/125 [==============================] - 11s 90ms/step - loss: 0.2178 - accuracy: 0.9280 - val_loss: 2.2978 - val_accuracy: 0.5620\n",
      "Epoch 14/20\n",
      "125/125 [==============================] - 11s 89ms/step - loss: 0.1405 - accuracy: 0.9515 - val_loss: 1.9853 - val_accuracy: 0.5700\n",
      "Epoch 15/20\n",
      "125/125 [==============================] - 11s 90ms/step - loss: 0.0913 - accuracy: 0.9760 - val_loss: 2.2535 - val_accuracy: 0.5600\n",
      "Epoch 16/20\n",
      "125/125 [==============================] - 11s 89ms/step - loss: 0.1129 - accuracy: 0.9615 - val_loss: 2.7828 - val_accuracy: 0.5380\n",
      "Epoch 17/20\n",
      "125/125 [==============================] - 12s 95ms/step - loss: 0.1628 - accuracy: 0.9460 - val_loss: 2.3101 - val_accuracy: 0.5540\n",
      "Epoch 18/20\n",
      "125/125 [==============================] - 12s 93ms/step - loss: 0.2008 - accuracy: 0.9308 - val_loss: 2.6913 - val_accuracy: 0.5220\n",
      "Epoch 19/20\n",
      "125/125 [==============================] - 11s 86ms/step - loss: 0.1785 - accuracy: 0.9388 - val_loss: 2.6712 - val_accuracy: 0.5120\n",
      "Epoch 20/20\n",
      "125/125 [==============================] - 11s 87ms/step - loss: 0.1451 - accuracy: 0.9530 - val_loss: 2.9544 - val_accuracy: 0.5500\n"
     ]
    }
   ],
   "source": [
    "our_network_skip.fit(data_manager, batch_size=32, num_epochs=20)"
   ]
  },
  {
   "cell_type": "code",
   "execution_count": 22,
   "metadata": {},
   "outputs": [
    {
     "data": {
      "image/png": "[encoded data removed]",
      "text/plain": [
       "<Figure size 432x288 with 2 Axes>"
      ]
     },
     "metadata": {},
     "output_type": "display_data"
    }
   ],
   "source": [
    "our_network_skip.plot_progress()"
   ]
  },
  {
   "cell_type": "code",
   "execution_count": 23,
   "metadata": {},
   "outputs": [
    {
     "name": "stderr",
     "output_type": "stream",
     "text": [
      "WARNING:absl:Found untraced functions such as _jit_compiled_convolution_op, _jit_compiled_convolution_op, _jit_compiled_convolution_op, _jit_compiled_convolution_op, _jit_compiled_convolution_op while saving (showing 5 of 6). These functions will not be directly callable after loading.\n"
     ]
    },
    {
     "name": "stdout",
     "output_type": "stream",
     "text": [
      "INFO:tensorflow:Assets written to: models/q3.3models/skip\\assets\n"
     ]
    },
    {
     "name": "stderr",
     "output_type": "stream",
     "text": [
      "INFO:tensorflow:Assets written to: models/q3.3models/skip\\assets\n"
     ]
    }
   ],
   "source": [
    "our_network_skip.model.save(\"models/q3.3models/skip\")"
   ]
  },
  {
   "cell_type": "code",
   "execution_count": 24,
   "metadata": {},
   "outputs": [
    {
     "name": "stdout",
     "output_type": "stream",
     "text": [
      "16/16 [==============================] - 0s 16ms/step - loss: 2.8676 - accuracy: 0.5300\n"
     ]
    },
    {
     "data": {
      "text/plain": [
       "[2.8676061630249023, 0.5299999713897705]"
      ]
     },
     "execution_count": 24,
     "metadata": {},
     "output_type": "execute_result"
    }
   ],
   "source": [
    "our_network_skip.model.evaluate(x=data_manager.X_test, y=data_manager.y_test)"
   ]
  },
  {
   "cell_type": "code",
   "execution_count": 26,
   "metadata": {},
   "outputs": [
    {
     "name": "stdout",
     "output_type": "stream",
     "text": [
      "Model: \"model_2\"\n",
      "_________________________________________________________________\n",
      " Layer (type)                Output Shape              Param #   \n",
      "=================================================================\n",
      " input_3 (InputLayer)        [(None, 32, 32, 3)]       0         \n",
      "                                                                 \n",
      " conv2d_16 (Conv2D)          (None, 32, 32, 32)        896       \n",
      "                                                                 \n",
      " batch_normalization_12 (Bat  (None, 32, 32, 32)       128       \n",
      " chNormalization)                                                \n",
      "                                                                 \n",
      " activation_6 (Activation)   (None, 32, 32, 32)        0         \n",
      "                                                                 \n",
      " conv2d_17 (Conv2D)          (None, 32, 32, 32)        9248      \n",
      "                                                                 \n",
      " batch_normalization_13 (Bat  (None, 32, 32, 32)       128       \n",
      " chNormalization)                                                \n",
      "                                                                 \n",
      " average_pooling2d_8 (Averag  (None, 16, 16, 32)       0         \n",
      " ePooling2D)                                                     \n",
      "                                                                 \n",
      " dropout_6 (Dropout)         (None, 16, 16, 32)        0         \n",
      "                                                                 \n",
      " conv2d_18 (Conv2D)          (None, 16, 16, 64)        18496     \n",
      "                                                                 \n",
      " batch_normalization_14 (Bat  (None, 16, 16, 64)       256       \n",
      " chNormalization)                                                \n",
      "                                                                 \n",
      " activation_7 (Activation)   (None, 16, 16, 64)        0         \n",
      "                                                                 \n",
      " conv2d_19 (Conv2D)          (None, 16, 16, 64)        36928     \n",
      "                                                                 \n",
      " batch_normalization_15 (Bat  (None, 16, 16, 64)       256       \n",
      " chNormalization)                                                \n",
      "                                                                 \n",
      " average_pooling2d_9 (Averag  (None, 8, 8, 64)         0         \n",
      " ePooling2D)                                                     \n",
      "                                                                 \n",
      " dropout_7 (Dropout)         (None, 8, 8, 64)          0         \n",
      "                                                                 \n",
      " conv2d_20 (Conv2D)          (None, 8, 8, 128)         73856     \n",
      "                                                                 \n",
      " batch_normalization_16 (Bat  (None, 8, 8, 128)        512       \n",
      " chNormalization)                                                \n",
      "                                                                 \n",
      " activation_8 (Activation)   (None, 8, 8, 128)         0         \n",
      "                                                                 \n",
      " conv2d_21 (Conv2D)          (None, 8, 8, 128)         147584    \n",
      "                                                                 \n",
      " batch_normalization_17 (Bat  (None, 8, 8, 128)        512       \n",
      " chNormalization)                                                \n",
      "                                                                 \n",
      " average_pooling2d_10 (Avera  (None, 4, 4, 128)        0         \n",
      " gePooling2D)                                                    \n",
      "                                                                 \n",
      " dropout_8 (Dropout)         (None, 4, 4, 128)         0         \n",
      "                                                                 \n",
      " flatten_3 (Flatten)         (None, 2048)              0         \n",
      "                                                                 \n",
      " dense_3 (Dense)             (None, 10)                20490     \n",
      "                                                                 \n",
      "=================================================================\n",
      "Total params: 309,290\n",
      "Trainable params: 308,394\n",
      "Non-trainable params: 896\n",
      "_________________________________________________________________\n",
      "None\n"
     ]
    }
   ],
   "source": [
    "our_network_no_skip = YourModel(name='network1',\n",
    "                     feature_maps=32,\n",
    "                     num_classes=len(data_manager.classes),\n",
    "                     num_blocks=3,\n",
    "                     drop_rate= 0.0, \n",
    "                     batch_norm=True, \n",
    "                     use_skip = False,\n",
    "                     optimizer='adam',\n",
    "                     learning_rate= 0.001)\n",
    "our_network_no_skip.build_cnn()\n",
    "our_network_no_skip.summary()"
   ]
  },
  {
   "cell_type": "code",
   "execution_count": 27,
   "metadata": {},
   "outputs": [
    {
     "name": "stdout",
     "output_type": "stream",
     "text": [
      "Epoch 1/20\n",
      "125/125 [==============================] - 12s 92ms/step - loss: 1.9875 - accuracy: 0.3655 - val_loss: 2.6450 - val_accuracy: 0.1560\n",
      "Epoch 2/20\n",
      "125/125 [==============================] - 10s 84ms/step - loss: 1.6239 - accuracy: 0.4663 - val_loss: 2.0720 - val_accuracy: 0.3080\n",
      "Epoch 3/20\n",
      "125/125 [==============================] - 10s 82ms/step - loss: 1.3765 - accuracy: 0.5435 - val_loss: 1.9460 - val_accuracy: 0.4280\n",
      "Epoch 4/20\n",
      "125/125 [==============================] - 11s 84ms/step - loss: 1.2208 - accuracy: 0.5857 - val_loss: 2.0707 - val_accuracy: 0.4160\n",
      "Epoch 5/20\n",
      "125/125 [==============================] - 10s 82ms/step - loss: 1.0596 - accuracy: 0.6440 - val_loss: 1.7603 - val_accuracy: 0.5200\n",
      "Epoch 6/20\n",
      "125/125 [==============================] - 10s 82ms/step - loss: 0.9462 - accuracy: 0.6850 - val_loss: 1.6808 - val_accuracy: 0.5400\n",
      "Epoch 7/20\n",
      "125/125 [==============================] - 10s 82ms/step - loss: 0.8807 - accuracy: 0.7000 - val_loss: 1.3997 - val_accuracy: 0.5780\n",
      "Epoch 8/20\n",
      "125/125 [==============================] - 10s 82ms/step - loss: 0.7562 - accuracy: 0.7415 - val_loss: 1.6797 - val_accuracy: 0.5280\n",
      "Epoch 9/20\n",
      "125/125 [==============================] - 10s 82ms/step - loss: 0.6355 - accuracy: 0.7800 - val_loss: 1.5539 - val_accuracy: 0.5820\n",
      "Epoch 10/20\n",
      "125/125 [==============================] - 10s 81ms/step - loss: 0.5310 - accuracy: 0.8158 - val_loss: 1.4464 - val_accuracy: 0.6020\n",
      "Epoch 11/20\n",
      "125/125 [==============================] - 10s 81ms/step - loss: 0.4645 - accuracy: 0.8457 - val_loss: 1.6557 - val_accuracy: 0.5540\n",
      "Epoch 12/20\n",
      "125/125 [==============================] - 10s 81ms/step - loss: 0.3907 - accuracy: 0.8680 - val_loss: 1.8778 - val_accuracy: 0.5920\n",
      "Epoch 13/20\n",
      "125/125 [==============================] - 10s 81ms/step - loss: 0.3084 - accuracy: 0.8920 - val_loss: 2.1293 - val_accuracy: 0.5280\n",
      "Epoch 14/20\n",
      "125/125 [==============================] - 10s 81ms/step - loss: 0.2623 - accuracy: 0.9093 - val_loss: 1.6619 - val_accuracy: 0.5920\n",
      "Epoch 15/20\n",
      "125/125 [==============================] - 10s 82ms/step - loss: 0.2045 - accuracy: 0.9365 - val_loss: 1.7346 - val_accuracy: 0.6140\n",
      "Epoch 16/20\n",
      "125/125 [==============================] - 10s 81ms/step - loss: 0.1407 - accuracy: 0.9590 - val_loss: 1.8245 - val_accuracy: 0.6240\n",
      "Epoch 17/20\n",
      "125/125 [==============================] - 10s 82ms/step - loss: 0.1134 - accuracy: 0.9690 - val_loss: 1.9799 - val_accuracy: 0.5880\n",
      "Epoch 18/20\n",
      "125/125 [==============================] - 10s 82ms/step - loss: 0.1049 - accuracy: 0.9703 - val_loss: 2.0363 - val_accuracy: 0.6140\n",
      "Epoch 19/20\n",
      "125/125 [==============================] - 10s 82ms/step - loss: 0.1667 - accuracy: 0.9417 - val_loss: 2.7534 - val_accuracy: 0.5300\n",
      "Epoch 20/20\n",
      "125/125 [==============================] - 10s 82ms/step - loss: 0.1844 - accuracy: 0.9367 - val_loss: 2.4308 - val_accuracy: 0.5540\n"
     ]
    }
   ],
   "source": [
    "our_network_no_skip.fit(data_manager, batch_size=32, num_epochs=20)"
   ]
  },
  {
   "cell_type": "code",
   "execution_count": 28,
   "metadata": {},
   "outputs": [
    {
     "data": {
      "image/png": "[encoded data removed]",
      "text/plain": [
       "<Figure size 432x288 with 2 Axes>"
      ]
     },
     "metadata": {},
     "output_type": "display_data"
    }
   ],
   "source": [
    "our_network_no_skip.plot_progress()"
   ]
  },
  {
   "cell_type": "code",
   "execution_count": 29,
   "metadata": {},
   "outputs": [
    {
     "name": "stderr",
     "output_type": "stream",
     "text": [
      "WARNING:absl:Found untraced functions such as _jit_compiled_convolution_op, _jit_compiled_convolution_op, _jit_compiled_convolution_op, _jit_compiled_convolution_op, _jit_compiled_convolution_op while saving (showing 5 of 6). These functions will not be directly callable after loading.\n"
     ]
    },
    {
     "name": "stdout",
     "output_type": "stream",
     "text": [
      "INFO:tensorflow:Assets written to: models/q3.3models/noskip\\assets\n"
     ]
    },
    {
     "name": "stderr",
     "output_type": "stream",
     "text": [
      "INFO:tensorflow:Assets written to: models/q3.3models/noskip\\assets\n"
     ]
    }
   ],
   "source": [
    "our_network_no_skip.model.save(\"models/q3.3models/noskip\")"
   ]
  },
  {
   "cell_type": "code",
   "execution_count": 30,
   "metadata": {},
   "outputs": [
    {
     "name": "stdout",
     "output_type": "stream",
     "text": [
      "16/16 [==============================] - 0s 13ms/step - loss: 2.2752 - accuracy: 0.5600\n"
     ]
    },
    {
     "data": {
      "text/plain": [
       "[2.275221347808838, 0.5600000023841858]"
      ]
     },
     "execution_count": 30,
     "metadata": {},
     "output_type": "execute_result"
    }
   ],
   "source": [
    "our_network_no_skip.model.evaluate(x=data_manager.X_test, y=data_manager.y_test)"
   ]
  },
  {
   "cell_type": "markdown",
   "metadata": {},
   "source": [
    "<span style=\"color:red\">**Question 3.4**</span> **Now, let us tune the $num\\_blocks \\in \\{2,3,4\\}$, $use\\_skip \\in \\{True, False\\}$, and $learning\\_rate \\in \\{0.001, 0.0001\\}$. Write your code for this tuning and report the result of the best model on the testing set. Note that you need to show your code for tuning and evaluating on the test set to earn the full marks. During tuning, you can set the instance variable `verbose` of your model to `False` for not showing the training details of each epoch.**\n",
    " \n",
    "<div style=\"text-align: right\"> <span style=\"color:red\">[4 points]</span> </div>"
   ]
  },
  {
   "cell_type": "markdown",
   "metadata": {},
   "source": [
    "#*Report the best parameters and the testing accuracy here*\n",
    "\n",
    "....."
   ]
  },
  {
   "cell_type": "code",
   "execution_count": 40,
   "metadata": {},
   "outputs": [
    {
     "name": "stdout",
     "output_type": "stream",
     "text": [
      "--NOW TESTING 2b-skipTrue-lr0.001--\n"
     ]
    },
    {
     "name": "stderr",
     "output_type": "stream",
     "text": [
      "WARNING:absl:Found untraced functions such as _jit_compiled_convolution_op, _jit_compiled_convolution_op, _jit_compiled_convolution_op, _jit_compiled_convolution_op while saving (showing 4 of 4). These functions will not be directly callable after loading.\n"
     ]
    },
    {
     "name": "stdout",
     "output_type": "stream",
     "text": [
      "INFO:tensorflow:Assets written to: models/models/q3.4/2b-skipTrue-lr0.001\\assets\n"
     ]
    },
    {
     "name": "stderr",
     "output_type": "stream",
     "text": [
      "INFO:tensorflow:Assets written to: models/models/q3.4/2b-skipTrue-lr0.001\\assets\n"
     ]
    },
    {
     "name": "stdout",
     "output_type": "stream",
     "text": [
      "--END TESTING 2b-skipTrue-lr0.001--\n",
      "--NOW TESTING 2b-skipTrue-lr0.0001--\n"
     ]
    },
    {
     "name": "stderr",
     "output_type": "stream",
     "text": [
      "WARNING:absl:Found untraced functions such as _jit_compiled_convolution_op, _jit_compiled_convolution_op, _jit_compiled_convolution_op, _jit_compiled_convolution_op while saving (showing 4 of 4). These functions will not be directly callable after loading.\n"
     ]
    },
    {
     "name": "stdout",
     "output_type": "stream",
     "text": [
      "INFO:tensorflow:Assets written to: models/models/q3.4/2b-skipTrue-lr0.0001\\assets\n"
     ]
    },
    {
     "name": "stderr",
     "output_type": "stream",
     "text": [
      "INFO:tensorflow:Assets written to: models/models/q3.4/2b-skipTrue-lr0.0001\\assets\n"
     ]
    },
    {
     "name": "stdout",
     "output_type": "stream",
     "text": [
      "--END TESTING 2b-skipTrue-lr0.0001--\n",
      "--NOW TESTING 2b-skipFalse-lr0.001--\n"
     ]
    },
    {
     "name": "stderr",
     "output_type": "stream",
     "text": [
      "WARNING:absl:Found untraced functions such as _jit_compiled_convolution_op, _jit_compiled_convolution_op, _jit_compiled_convolution_op, _jit_compiled_convolution_op while saving (showing 4 of 4). These functions will not be directly callable after loading.\n"
     ]
    },
    {
     "name": "stdout",
     "output_type": "stream",
     "text": [
      "INFO:tensorflow:Assets written to: models/models/q3.4/2b-skipFalse-lr0.001\\assets\n"
     ]
    },
    {
     "name": "stderr",
     "output_type": "stream",
     "text": [
      "INFO:tensorflow:Assets written to: models/models/q3.4/2b-skipFalse-lr0.001\\assets\n"
     ]
    },
    {
     "name": "stdout",
     "output_type": "stream",
     "text": [
      "--END TESTING 2b-skipFalse-lr0.001--\n",
      "--NOW TESTING 2b-skipFalse-lr0.0001--\n"
     ]
    },
    {
     "name": "stderr",
     "output_type": "stream",
     "text": [
      "WARNING:absl:Found untraced functions such as _jit_compiled_convolution_op, _jit_compiled_convolution_op, _jit_compiled_convolution_op, _jit_compiled_convolution_op while saving (showing 4 of 4). These functions will not be directly callable after loading.\n"
     ]
    },
    {
     "name": "stdout",
     "output_type": "stream",
     "text": [
      "INFO:tensorflow:Assets written to: models/models/q3.4/2b-skipFalse-lr0.0001\\assets\n"
     ]
    },
    {
     "name": "stderr",
     "output_type": "stream",
     "text": [
      "INFO:tensorflow:Assets written to: models/models/q3.4/2b-skipFalse-lr0.0001\\assets\n"
     ]
    },
    {
     "name": "stdout",
     "output_type": "stream",
     "text": [
      "--END TESTING 2b-skipFalse-lr0.0001--\n",
      "--NOW TESTING 3b-skipTrue-lr0.001--\n"
     ]
    },
    {
     "name": "stderr",
     "output_type": "stream",
     "text": [
      "WARNING:absl:Found untraced functions such as _jit_compiled_convolution_op, _jit_compiled_convolution_op, _jit_compiled_convolution_op, _jit_compiled_convolution_op, _jit_compiled_convolution_op while saving (showing 5 of 6). These functions will not be directly callable after loading.\n"
     ]
    },
    {
     "name": "stdout",
     "output_type": "stream",
     "text": [
      "INFO:tensorflow:Assets written to: models/models/q3.4/3b-skipTrue-lr0.001\\assets\n"
     ]
    },
    {
     "name": "stderr",
     "output_type": "stream",
     "text": [
      "INFO:tensorflow:Assets written to: models/models/q3.4/3b-skipTrue-lr0.001\\assets\n"
     ]
    },
    {
     "name": "stdout",
     "output_type": "stream",
     "text": [
      "--END TESTING 3b-skipTrue-lr0.001--\n",
      "--NOW TESTING 3b-skipTrue-lr0.0001--\n"
     ]
    },
    {
     "name": "stderr",
     "output_type": "stream",
     "text": [
      "WARNING:absl:Found untraced functions such as _jit_compiled_convolution_op, _jit_compiled_convolution_op, _jit_compiled_convolution_op, _jit_compiled_convolution_op, _jit_compiled_convolution_op while saving (showing 5 of 6). These functions will not be directly callable after loading.\n"
     ]
    },
    {
     "name": "stdout",
     "output_type": "stream",
     "text": [
      "INFO:tensorflow:Assets written to: models/models/q3.4/3b-skipTrue-lr0.0001\\assets\n"
     ]
    },
    {
     "name": "stderr",
     "output_type": "stream",
     "text": [
      "INFO:tensorflow:Assets written to: models/models/q3.4/3b-skipTrue-lr0.0001\\assets\n"
     ]
    },
    {
     "name": "stdout",
     "output_type": "stream",
     "text": [
      "--END TESTING 3b-skipTrue-lr0.0001--\n",
      "--NOW TESTING 3b-skipFalse-lr0.001--\n"
     ]
    },
    {
     "name": "stderr",
     "output_type": "stream",
     "text": [
      "WARNING:absl:Found untraced functions such as _jit_compiled_convolution_op, _jit_compiled_convolution_op, _jit_compiled_convolution_op, _jit_compiled_convolution_op, _jit_compiled_convolution_op while saving (showing 5 of 6). These functions will not be directly callable after loading.\n"
     ]
    },
    {
     "name": "stdout",
     "output_type": "stream",
     "text": [
      "INFO:tensorflow:Assets written to: models/models/q3.4/3b-skipFalse-lr0.001\\assets\n"
     ]
    },
    {
     "name": "stderr",
     "output_type": "stream",
     "text": [
      "INFO:tensorflow:Assets written to: models/models/q3.4/3b-skipFalse-lr0.001\\assets\n"
     ]
    },
    {
     "name": "stdout",
     "output_type": "stream",
     "text": [
      "--END TESTING 3b-skipFalse-lr0.001--\n",
      "--NOW TESTING 3b-skipFalse-lr0.0001--\n"
     ]
    },
    {
     "name": "stderr",
     "output_type": "stream",
     "text": [
      "WARNING:absl:Found untraced functions such as _jit_compiled_convolution_op, _jit_compiled_convolution_op, _jit_compiled_convolution_op, _jit_compiled_convolution_op, _jit_compiled_convolution_op while saving (showing 5 of 6). These functions will not be directly callable after loading.\n"
     ]
    },
    {
     "name": "stdout",
     "output_type": "stream",
     "text": [
      "INFO:tensorflow:Assets written to: models/models/q3.4/3b-skipFalse-lr0.0001\\assets\n"
     ]
    },
    {
     "name": "stderr",
     "output_type": "stream",
     "text": [
      "INFO:tensorflow:Assets written to: models/models/q3.4/3b-skipFalse-lr0.0001\\assets\n"
     ]
    },
    {
     "name": "stdout",
     "output_type": "stream",
     "text": [
      "--END TESTING 3b-skipFalse-lr0.0001--\n",
      "--NOW TESTING 4b-skipTrue-lr0.001--\n"
     ]
    },
    {
     "name": "stderr",
     "output_type": "stream",
     "text": [
      "WARNING:absl:Found untraced functions such as _jit_compiled_convolution_op, _jit_compiled_convolution_op, _jit_compiled_convolution_op, _jit_compiled_convolution_op, _jit_compiled_convolution_op while saving (showing 5 of 8). These functions will not be directly callable after loading.\n"
     ]
    },
    {
     "name": "stdout",
     "output_type": "stream",
     "text": [
      "INFO:tensorflow:Assets written to: models/models/q3.4/4b-skipTrue-lr0.001\\assets\n"
     ]
    },
    {
     "name": "stderr",
     "output_type": "stream",
     "text": [
      "INFO:tensorflow:Assets written to: models/models/q3.4/4b-skipTrue-lr0.001\\assets\n"
     ]
    },
    {
     "name": "stdout",
     "output_type": "stream",
     "text": [
      "--END TESTING 4b-skipTrue-lr0.001--\n",
      "--NOW TESTING 4b-skipTrue-lr0.0001--\n"
     ]
    },
    {
     "name": "stderr",
     "output_type": "stream",
     "text": [
      "WARNING:absl:Found untraced functions such as _jit_compiled_convolution_op, _jit_compiled_convolution_op, _jit_compiled_convolution_op, _jit_compiled_convolution_op, _jit_compiled_convolution_op while saving (showing 5 of 8). These functions will not be directly callable after loading.\n"
     ]
    },
    {
     "name": "stdout",
     "output_type": "stream",
     "text": [
      "INFO:tensorflow:Assets written to: models/models/q3.4/4b-skipTrue-lr0.0001\\assets\n"
     ]
    },
    {
     "name": "stderr",
     "output_type": "stream",
     "text": [
      "INFO:tensorflow:Assets written to: models/models/q3.4/4b-skipTrue-lr0.0001\\assets\n"
     ]
    },
    {
     "name": "stdout",
     "output_type": "stream",
     "text": [
      "--END TESTING 4b-skipTrue-lr0.0001--\n",
      "--NOW TESTING 4b-skipFalse-lr0.001--\n"
     ]
    },
    {
     "name": "stderr",
     "output_type": "stream",
     "text": [
      "WARNING:absl:Found untraced functions such as _jit_compiled_convolution_op, _jit_compiled_convolution_op, _jit_compiled_convolution_op, _jit_compiled_convolution_op, _jit_compiled_convolution_op while saving (showing 5 of 8). These functions will not be directly callable after loading.\n"
     ]
    },
    {
     "name": "stdout",
     "output_type": "stream",
     "text": [
      "INFO:tensorflow:Assets written to: models/models/q3.4/4b-skipFalse-lr0.001\\assets\n"
     ]
    },
    {
     "name": "stderr",
     "output_type": "stream",
     "text": [
      "INFO:tensorflow:Assets written to: models/models/q3.4/4b-skipFalse-lr0.001\\assets\n"
     ]
    },
    {
     "name": "stdout",
     "output_type": "stream",
     "text": [
      "--END TESTING 4b-skipFalse-lr0.001--\n",
      "--NOW TESTING 4b-skipFalse-lr0.0001--\n"
     ]
    },
    {
     "name": "stderr",
     "output_type": "stream",
     "text": [
      "WARNING:absl:Found untraced functions such as _jit_compiled_convolution_op, _jit_compiled_convolution_op, _jit_compiled_convolution_op, _jit_compiled_convolution_op, _jit_compiled_convolution_op while saving (showing 5 of 8). These functions will not be directly callable after loading.\n"
     ]
    },
    {
     "name": "stdout",
     "output_type": "stream",
     "text": [
      "INFO:tensorflow:Assets written to: models/models/q3.4/4b-skipFalse-lr0.0001\\assets\n"
     ]
    },
    {
     "name": "stderr",
     "output_type": "stream",
     "text": [
      "INFO:tensorflow:Assets written to: models/models/q3.4/4b-skipFalse-lr0.0001\\assets\n"
     ]
    },
    {
     "name": "stdout",
     "output_type": "stream",
     "text": [
      "--END TESTING 4b-skipFalse-lr0.0001--\n"
     ]
    },
    {
     "data": {
      "text/plain": [
       "(<keras.engine.functional.Functional at 0x231d99e25e0>,\n",
       " 0.9992499947547913,\n",
       " '4b-skipTrue-lr0.0001')"
      ]
     },
     "execution_count": 40,
     "metadata": {},
     "output_type": "execute_result"
    }
   ],
   "source": [
    "#Insert your code here. You can add more cells if necessary\n",
    "def generate_model(num_blocks, use_skip, learning_rate) -> tf.keras.models: \n",
    "    your_model = YourModel(name='network1',\n",
    "                feature_maps=32,\n",
    "                num_classes=len(data_manager.classes),\n",
    "                num_blocks=num_blocks,\n",
    "                drop_rate= 0.0, \n",
    "                batch_norm=True, \n",
    "                use_skip = use_skip,\n",
    "                optimizer='adam',\n",
    "                learning_rate= learning_rate)\n",
    "    your_model.build_cnn()\n",
    "    \n",
    "    desc = f\"{num_blocks}b-skip{use_skip}-lr{str(learning_rate)}\"\n",
    "    \n",
    "    return your_model.model, desc\n",
    "\n",
    "def model_generator(generate_model, **kwargs): \n",
    "    all_models = [] \n",
    "    for num_block in kwargs.get('num_blocks'):\n",
    "        for skip in kwargs.get('use_skip'):\n",
    "            for lr in kwargs.get('lrs'):\n",
    "                your_model, desc = generate_model(num_block, skip, lr)\n",
    "                all_models.append((your_model, desc))    \n",
    "    return all_models    \n",
    "\n",
    "grid_search = GridSearchDNN(\n",
    "    model_generator, \n",
    "    generate_model, \n",
    "    (data_manager.X_train, data_manager.y_train), \n",
    "    (data_manager.X_valid, data_manager.y_valid), \n",
    "    (data_manager.X_test, data_manager.y_test), num_blocks=[2,3,4], use_skip=[True, False], lrs=[0.001, 0.0001]) \n",
    "\n",
    "grid_search.test_iterator(save_progress=True, save_dir=\"models/q3.4\", epochs=20, verbose=False)"
   ]
  },
  {
   "cell_type": "markdown",
   "metadata": {},
   "source": [
    "<span style=\"color:red\">**Question 3.5**</span> **We now try to apply data augmentation to improve the performance. Extend the code of the class `YourModel` so that if the attribute `is_augmentation` is set to `True`, we apply the data augmentation. Also you need to incorporate early stopping to your training process. Specifically, you early stop the training if the valid accuracy cannot increase in three consecutive epochs.**\n",
    "   \n",
    "<div style=\"text-align: right\"> <span style=\"color:red\">[4 points]</span> </div>"
   ]
  },
  {
   "cell_type": "code",
   "execution_count": null,
   "metadata": {},
   "outputs": [],
   "source": [
    "from tensorflow.keras.preprocessing.image import ImageDataGenerator"
   ]
  },
  {
   "cell_type": "markdown",
   "metadata": {},
   "source": [
    "Wtire your code in the cell below. Hint that you can rewrite the code of the `fit` method to apply the data augmentation. In addition, you can copy the code of `build_cnn` method above to reuse here."
   ]
  },
  {
   "cell_type": "code",
   "execution_count": null,
   "metadata": {},
   "outputs": [],
   "source": [
    "class YourModel(DefaultModel):\n",
    "    def __init__(self,\n",
    "                 name='network1',\n",
    "                 width=32, height=32, depth=3,\n",
    "                 num_blocks=2,\n",
    "                 feature_maps=32,\n",
    "                 num_classes=4, \n",
    "                 drop_rate=0.2,\n",
    "                 batch_norm = None,\n",
    "                 is_augmentation = False,\n",
    "                 activation_func='relu',\n",
    "                 use_skip = True,\n",
    "                 optimizer='adam',\n",
    "                 batch_size=10,\n",
    "                 num_epochs= 20,\n",
    "                 learning_rate=0.0001):\n",
    "        super(YourModel, self).__init__(name, width, height, depth, num_blocks, feature_maps, num_classes, drop_rate, batch_norm, is_augmentation, \n",
    "                                        activation_func, use_skip, optimizer, batch_size, num_epochs, learning_rate)\n",
    "    \n",
    "    def build_block_func(self, feature_map, input_tens):\n",
    "        CONV = layers.Conv2D(feature_map, (3,3), padding='same', strides=1)(input_tens)\n",
    "        h = layers.BatchNormalization()(CONV)\n",
    "        h = layers.Activation(self.activation_func)(h)\n",
    "        h = layers.Conv2D(feature_map, (3,3), padding='same', strides=1)(h)\n",
    "        h = layers.BatchNormalization()(h)\n",
    "        \n",
    "        if self.use_skip:\n",
    "            h = layers.Add()([h, CONV]) \n",
    "        \n",
    "        h = layers.AveragePooling2D(pool_size=(2,2), padding='same')(h)\n",
    "        h = layers.Dropout(rate=self.drop_rate)(h)\n",
    "        \n",
    "        return h\n",
    "         \n",
    "    \n",
    "    def build_cnn(self):\n",
    "        X = tf.keras.layers.Input(shape=(32,32,3))\n",
    "        block_output = X\n",
    "        for feature_map in self.feature_maps:\n",
    "            block_output = self.build_block_func(feature_map, block_output)\n",
    "        block_output = layers.Flatten()(block_output)\n",
    "        block_output = layers.Dense(self.num_classes, activation=\"softmax\")(block_output)\n",
    "        \n",
    "        self.model = tf.keras.Model(inputs=X, outputs=block_output)\n",
    "        self.model.compile(optimizer=self.optimizer, loss='sparse_categorical_crossentropy', metrics=['accuracy'])\n",
    "    \n",
    "    def fit(self, data_manager, batch_size=None, num_epochs=None):\n",
    "        \n",
    "        # Perform some image augmentation that flips the images and zoom it randomly\n",
    "        if self.is_augmentation:\n",
    "            datagen = ImageDataGenerator(horizontal_flip=True, fill_mode=\"nearest\", zoom_range=0.1)\n",
    "            datagen.fit(data_manager.X_train) \n",
    "            it = datagen.flow(data_manager.X_train, data_manager.y_train, batch_size=32) \n",
    "            \n",
    "            early_stopping = tf.keras.callbacks.EarlyStopping(\n",
    "                monitor=\"val_acc\",\n",
    "                patience=3, \n",
    "                mode=\"max\"\n",
    "            )\n",
    "    \n",
    "            self.model.fit(it, batch_size=self.batch_size, num_epochs=self.num_epochs, callbacks=[early_stopping])\n",
    "        else:\n",
    "            self.model.fit(data_manager, batch_size=self.batch_size, num_epochs=self.num_epochs)\n",
    "        "
   ]
  },
  {
   "cell_type": "markdown",
   "metadata": {},
   "source": [
    "<span style=\"color:red\">**Question 3.6**</span> **Leverage your best model with the data augmentation and try to observe the difference in performance between using data augmentation and non-using it.**\n",
    "   \n",
    "<div style=\"text-align: right\"> <span style=\"color:red\">[4 points]</span> </div>"
   ]
  },
  {
   "cell_type": "markdown",
   "metadata": {},
   "source": [
    "#*Write your answer and observation here*\n",
    "\n",
    "....."
   ]
  },
  {
   "cell_type": "code",
   "execution_count": null,
   "metadata": {},
   "outputs": [],
   "source": [
    "#Insert your code here. You can add more cells if necessary\n"
   ]
  },
  {
   "cell_type": "markdown",
   "metadata": {},
   "source": [
    "<span style=\"color:red\">**Question 3.7**</span> **Exploring Data Mixup Technique for Improving Generalization Ability.**\n",
    "   \n",
    "<div style=\"text-align: right\"> <span style=\"color:red\">[4 points]</span> </div>\n",
    "\n",
    "Data mixup is another super-simple technique used to boost the generalization ability of deep learning models. You need to incoroporate data mixup technique to the above deep learning model and experiment its performance. There are some papers and documents for data mixup as follows:\n",
    "- Main paper for data mixup [link for main paper](https://openreview.net/pdf?id=r1Ddp1-Rb) and a good article [article link](https://www.inference.vc/mixup-data-dependent-data-augmentation/).\n",
    "\n",
    "You need to extend your model developed above, train a model using data mixup, and write your observations and comments about the result."
   ]
  },
  {
   "cell_type": "markdown",
   "metadata": {},
   "source": [
    "#*Write your answer and observation here*\n",
    "\n",
    ".....\n"
   ]
  },
  {
   "cell_type": "code",
   "execution_count": null,
   "metadata": {},
   "outputs": [],
   "source": [
    "#Insert your code here. You can add more cells if necessary\n",
    "\n"
   ]
  },
  {
   "cell_type": "markdown",
   "metadata": {},
   "source": [
    "<span style=\"color:red\">**Question 3.8**</span> **Attack your best obtained model with PGD, MIM, and FGSM attacks with $\\epsilon= 0.0313, k=20, \\eta= 0.002$ on the testing set. Write the code for the attacks and report the robust accuracies. Also choose a random set of 20 clean images in the testing set and visualize the original and attacked images.**\n",
    "   \n",
    "<div style=\"text-align: right\"> <span style=\"color:red\">[5 points]</span> </div>"
   ]
  },
  {
   "cell_type": "code",
   "execution_count": null,
   "metadata": {},
   "outputs": [],
   "source": [
    "#Insert your code here. You can add more cells if necessary\n",
    "\n"
   ]
  },
  {
   "cell_type": "markdown",
   "metadata": {},
   "source": [
    "<span style=\"color:red\">**Question 3.9**</span> **Train a robust model using adversarial training with PGD ${\\epsilon= 0.0313, k=10, \\eta= 0.002}$. Write the code for the adversarial training and report the robust accuracies. After finishing the training, you need to store your best robust model in the folder `./models` and load the model to evaluate the robust accuracies for PGD, MIM, and FGSM attacks with $\\epsilon= 0.0313, k=20, \\eta= 0.002$ on the testing set.**\n",
    "   \n",
    "<div style=\"text-align: right\"> <span style=\"color:red\">[5 points]</span> </div>"
   ]
  },
  {
   "cell_type": "code",
   "execution_count": null,
   "metadata": {},
   "outputs": [],
   "source": [
    "#Insert your code here. You can add more cells if necessary\n",
    "\n"
   ]
  },
  {
   "cell_type": "markdown",
   "metadata": {},
   "source": [
    "The following is an exploring question with bonus points. It is great if you try to do this question, but it is **totally optional**. In this question, we will investigate a recent SOTA technique to improve the generalization ability of deep nets named *Sharpness-Aware Minimization (SAM)* ([link to the main paper](https://openreview.net/pdf?id=6Tm1mposlrM)).  Furthermore, SAM is simple and efficient technique, but roughly doubles the training time due to its required computation. If you have an idea to improve SAM, it would be a great paper to top-tier venues in machine learning and computer vision. Highly recommend to give it a try. "
   ]
  },
  {
   "cell_type": "markdown",
   "metadata": {},
   "source": [
    "<span style=\"color:red\">**Question 3.10**</span> (**additionally exploring question**) Read the SAM paper ([link to the main paper](https://openreview.net/pdf?id=6Tm1mposlrM)). Try to apply this techique to the best obtained model and report the results. For the purpose of implementating SAM, we can flexibly add more cells and extensions to the `model.py` file.\n",
    "\n",
    "<div style=\"text-align: right\"> <span style=\"color:red\">[5 points]</span> </div>"
   ]
  },
  {
   "cell_type": "code",
   "execution_count": null,
   "metadata": {},
   "outputs": [],
   "source": [
    "#Insert your code here. You can add more cells if necessary\n",
    "\n",
    "\n"
   ]
  },
  {
   "cell_type": "markdown",
   "metadata": {},
   "source": [
    "--- \n",
    "**<div style=\"text-align: center\"> <span style=\"color:black\">END OF ASSIGNMENT</span> </div>**\n",
    "**<div style=\"text-align: center\"> <span style=\"color:black\">GOOD LUCK WITH YOUR ASSIGNMENT 1!</span> </div>**"
   ]
  }
 ],
 "metadata": {
  "kernelspec": {
   "display_name": "Python 3.9.9 64-bit",
   "language": "python",
   "name": "python3"
  },
  "language_info": {
   "codemirror_mode": {
    "name": "ipython",
    "version": 3
   },
   "file_extension": ".py",
   "mimetype": "text/x-python",
   "name": "python",
   "nbconvert_exporter": "python",
   "pygments_lexer": "ipython3",
   "version": "3.9.9"
  },
  "vscode": {
   "interpreter": {
    "hash": "b916ba2c14536b214077dfec6c206136f3cd9dd298193f9fd8924ac064eebdc3"
   }
  }
 },
 "nbformat": 4,
 "nbformat_minor": 4
}
