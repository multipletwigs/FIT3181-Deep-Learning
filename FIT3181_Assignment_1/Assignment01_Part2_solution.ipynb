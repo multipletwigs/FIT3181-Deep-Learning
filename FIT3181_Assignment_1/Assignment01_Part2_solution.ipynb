{
 "cells": [
  {
   "cell_type": "markdown",
   "metadata": {},
   "source": [
    "# <span style=\"color:#0b486b\">  FIT3181: Deep Learning (2022)</span>\n",
    "***\n",
    "*CE/Lecturer:* Dr **Trung Le** | trunglm@monash.edu <br/>\n",
    "*Head Tutor:* Mr **Thanh Nguyen** | thanh.nguyen4@monash.edu  <br/>\n",
    "<br/>\n",
    "Department of Data Science and AI, Faculty of Information Technology, Monash University, Australia\n",
    "***"
   ]
  },
  {
   "cell_type": "markdown",
   "metadata": {},
   "source": [
    "# <span style=\"color:#0b486b\">  Student Information</span>\n",
    "***\n",
    "Surname: **Khong**  <br/>\n",
    "Firstname: **Lap Hoe**    <br/>\n",
    "Student ID: **32114818**    <br/>\n",
    "Email: **lkho0007@student.monash.edu**    <br/>\n",
    "Your tutorial time: **Tuesday 2PM**    <br/>\n",
    "***"
   ]
  },
  {
   "cell_type": "markdown",
   "metadata": {},
   "source": [
    "## <span style=\"color:#0b486b\">Instruction</span>\n",
    "\n",
    "This assignment contains **one** parts:\n",
    "\n",
    "* Part 2: Coding assessment on TensorFlow for Deep Neural Networks (DNN) **[30 points], 30%**"
   ]
  },
  {
   "cell_type": "markdown",
   "metadata": {},
   "source": [
    "The first part of this assignment is for you to demonstrate your knowledge in deep learning that you have acquired from the lectures and tutorials materials. Most of the contents in this assignment are drawn from **the lectures and tutorials from weeks 1 to 3**. Going through these materials before attempting this part is highly recommended."
   ]
  },
  {
   "cell_type": "markdown",
   "metadata": {},
   "source": [
    "## <span style=\"color:#0b486b\">Part 2: Deep Neural Networks (DNN) </span>\n",
    "<div style=\"text-align: right\"><span style=\"color:red; font-weight:bold\">[Total marks for this part: 30 points]<span></div>\n",
    "\n",
    "The first part of this assignment is for you to demonstrate your basis knowledge in deep learning that you have acquired from the lectures and tutorials materials. Most of the contents in this assignment are drawn from **the tutorials covered from weeks 1 to 4**. Going through these materials before attempting this assignment is highly recommended."
   ]
  },
  {
   "cell_type": "markdown",
   "metadata": {},
   "source": [
    "In the first part of this assignment, you are going to work with the **FashionMNIST** dataset for *image recognition task*. It has the exact same format as MNIST (70,000 grayscale images of 28 × 28 pixels each with 10 classes), but the images represent fashion items rather than handwritten digits, so each class is more diverse, and the problem is significantly more challenging than MNIST."
   ]
  },
  {
   "cell_type": "markdown",
   "metadata": {},
   "source": [
    "####  <span style=\"color:red\">**Question 2.1**</span>. Load the Fashion MNIST using Keras datasets\n",
    "\n",
    "<div style=\"text-align: right\"> <span style=\"color:red\">[5 points]</span> </div>\n",
    "\n",
    "We first use keras incoporated in TensorFlow 2.x for loading the training and testing sets."
   ]
  },
  {
   "cell_type": "code",
   "execution_count": 11,
   "metadata": {},
   "outputs": [],
   "source": [
    "import tensorflow as tf\n",
    "from tensorflow import keras "
   ]
  },
  {
   "cell_type": "code",
   "execution_count": 12,
   "metadata": {},
   "outputs": [],
   "source": [
    "tf.random.set_seed(1234)"
   ]
  },
  {
   "cell_type": "markdown",
   "metadata": {},
   "source": [
    "We first use keras datasets in TF 2.x to load Fashion MNIST dataset.\n"
   ]
  },
  {
   "cell_type": "code",
   "execution_count": 13,
   "metadata": {},
   "outputs": [],
   "source": [
    "fashion_mnist = keras.datasets.fashion_mnist\n",
    "(X_train_full_img, y_train_full), (X_test_img, y_test) = fashion_mnist.load_data()\n"
   ]
  },
  {
   "cell_type": "markdown",
   "metadata": {},
   "source": [
    "The shape of X_train_full_img is $(60000, 28, 28 )$ and that of X_test_img is $(10000, 28, 28)$. We next convert them to matrices of vectors and store in X_train_full and X_test."
   ]
  },
  {
   "cell_type": "code",
   "execution_count": 14,
   "metadata": {},
   "outputs": [
    {
     "name": "stdout",
     "output_type": "stream",
     "text": [
      "--BEFORE ONEHOT--\n",
      "Training shape: (60000, 784), Training label shape: (60000,)\n",
      "Testing shape: (10000, 784), Testing label shape: (10000,)\n",
      "--AFTER ONEHOT--\n",
      "Training shape: (60000, 784), Training label shape: (60000, 10)\n",
      "Testing shape: (10000, 784), Testing label shape: (10000, 10)\n"
     ]
    }
   ],
   "source": [
    "num_train = X_train_full_img.shape[0]\n",
    "num_test = X_test_img.shape[0]\n",
    "X_train_full = X_train_full_img.reshape(num_train, -1)\n",
    "X_test = X_test_img.reshape(num_test, -1)\n",
    "\n",
    "# One-hot encode our data for label smoothing in the following section \n",
    "y_train_full_onehot = keras.utils.to_categorical(y_train_full)\n",
    "y_test_onehot = keras.utils.to_categorical(y_test)\n",
    "\n",
    "print(\"--BEFORE ONEHOT--\")\n",
    "print(f\"Training shape: {X_train_full.shape}, Training label shape: {y_train_full.shape}\")\n",
    "print(f\"Testing shape: {X_test.shape}, Testing label shape: {y_test.shape}\")\n",
    "\n",
    "print(\"--AFTER ONEHOT--\")\n",
    "print(f\"Training shape: {X_train_full.shape}, Training label shape: {y_train_full_onehot.shape}\")\n",
    "print(f\"Testing shape: {X_test.shape}, Testing label shape: {y_test_onehot.shape}\")"
   ]
  },
  {
   "cell_type": "markdown",
   "metadata": {},
   "source": [
    "####  <span style=\"color:red\">**Question 2.2**</span>. Preprocess the dataset and split into training, validation, and testing datasets\n",
    "\n",
    "<div style=\"text-align: right\"> <span style=\"color:red\">[5 points]</span> </div>\n",
    "\n",
    "You need to write the code to address the following requirements:\n",
    "- Print out the dimensions of X_train_full and X_test\n",
    "- Use $10 \\%$ of X_train_full for validation and the rest of X_train_full for training. This splits X_train_full and y_train_full into X_train, y_train ($90 \\%$) and X_valid, y_valid ($10 \\%$).\n",
    "- Finally, scale the pixels of X_train, X_valid, and X_test to $[0,1]$) (i.e., $X = X/255.0$).\n",
    "\n",
    "You have now the separate training, validation, and testing sets for training your model.\n",
    "\n"
   ]
  },
  {
   "cell_type": "code",
   "execution_count": 15,
   "metadata": {},
   "outputs": [
    {
     "name": "stdout",
     "output_type": "stream",
     "text": [
      "X_train_full: (60000, 784)\n",
      "X_test: (10000, 784)\n"
     ]
    }
   ],
   "source": [
    "import math\n",
    "N = X_train_full.shape[0]\n",
    "i = math.floor(0.9*N)\n",
    "\n",
    "# Print out the dimensions of X_train_full and X_test \n",
    "print(f\"X_train_full: {X_train_full.shape}\")\n",
    "print(f\"X_test: {X_test.shape}\")\n",
    "\n",
    "# Use 10% of X_train_full for validation and 90% for training\n",
    "X_train, y_train = X_train_full[:i], y_train_full_onehot[:i] # training\n",
    "X_valid, y_valid = X_train_full[i:], y_train_full_onehot[i:] # validation\n",
    "\n",
    "# Scale pixels within [0, 1]\n",
    "X_train, X_valid, X_test = X_train / 255.0, X_valid / 255.0, X_test / 255.0"
   ]
  },
  {
   "cell_type": "markdown",
   "metadata": {},
   "source": [
    "####  <span style=\"color:red\">**Question 2.3**</span>. Visualize some images in the training set with labels\n",
    "\n",
    "<div style=\"text-align: right\"> <span style=\"color:red\">[5 points]</span> </div>\n",
    "\n",
    "You are required to write the code to show **random** $36$ images in X_train_full_img (which is an array of images) with labels as in the following figure. Note that the class names of Fashion MNIST are as follows \n",
    "- \"1:T-shirt/top\", \"2:Trouser\", \"3:Pullover\", \"4:Dress\", \"5:Coat\", \"6:Sandal\", \"7:Shirt\", \"8:Sneaker\", \"9:Bag\", \"10:Ankle boot\"\n",
    "\n",
    "<img src=\"Figures/Fashion_MNIST.png\" width=\"450\" align=\"center\"/>"
   ]
  },
  {
   "cell_type": "code",
   "execution_count": 16,
   "metadata": {},
   "outputs": [],
   "source": [
    "import matplotlib.pyplot as plt\n",
    "%matplotlib inline"
   ]
  },
  {
   "cell_type": "code",
   "execution_count": 17,
   "metadata": {},
   "outputs": [
    {
     "data": {
      "image/png": "[encoded data removed]",
      "text/plain": [
       "<Figure size 1080x1080 with 36 Axes>"
      ]
     },
     "metadata": {},
     "output_type": "display_data"
    }
   ],
   "source": [
    "# Label mapping for each of the labels\n",
    "LABEL_DICT = {\"0\":\"T-shirt/top\", \"1\":\"Trouser\", \"2\":\"Pullover\", \"3\":\"Dress\", \"4\":\"Coat\", \"5\":\"Sandal\", \"6\":\"Shirt\", \"7\":\"Sneaker\", \"8\":\"Bag\", \"9\":\"Ankle boot\"}\n",
    "\n",
    "def random_idx(minval, maxval):\n",
    "    return tf.random.uniform(shape=(), minval=minval, maxval=maxval, dtype=tf.int32)\n",
    "\n",
    "# Display num2display images from an image dataset \n",
    "def display_image(images, label, num2display):\n",
    "    fig = plt.figure(figsize=(15,15))\n",
    "    for i in range(num2display):\n",
    "        \n",
    "        # Generate random index\n",
    "        random_val = random_idx(0, maxval=images.shape[0])\n",
    "        \n",
    "        p = fig.add_subplot(6,6,i+1,xticks=[],yticks=[])\n",
    "        p.imshow(images[random_val], cmap=\"Greys\") # To match output cmap\n",
    "        p.set_title(f\"{i} - {LABEL_DICT[str(label[random_val])]}\",y=0, pad=-15)\n",
    "\n",
    "# Showing 36 of the X_train_full img\n",
    "display_image(X_train_full_img, y_train_full, 36)"
   ]
  },
  {
   "cell_type": "markdown",
   "metadata": {},
   "source": [
    "####  <span style=\"color:red\">**Question 2.4**</span>. Write code for the feed-forward neural net using TF 2.x\n",
    "\n",
    "<div style=\"text-align: right\"> <span style=\"color:red\">[5 points]</span> </div>"
   ]
  },
  {
   "cell_type": "markdown",
   "metadata": {},
   "source": [
    "We now develop a feed-forward neural network with the architecture $784 \\rightarrow 20(ReLU) \\rightarrow 40(ReLU) \\rightarrow 10(softmax)$. You can choose your own way to implement your network and an optimizer of interest. You should train model in $20$ epochs and evaluate the trained model on the test set."
   ]
  },
  {
   "cell_type": "code",
   "execution_count": 18,
   "metadata": {},
   "outputs": [
    {
     "name": "stdout",
     "output_type": "stream",
     "text": [
      "Epoch 1/20\n",
      "1688/1688 [==============================] - 2s 742us/step - loss: 0.5707 - accuracy: 0.8009 - val_loss: 0.4588 - val_accuracy: 0.8378\n",
      "Epoch 2/20\n",
      "1688/1688 [==============================] - 1s 681us/step - loss: 0.4195 - accuracy: 0.8513 - val_loss: 0.3927 - val_accuracy: 0.8598\n",
      "Epoch 3/20\n",
      "1688/1688 [==============================] - 1s 678us/step - loss: 0.3858 - accuracy: 0.8604 - val_loss: 0.3813 - val_accuracy: 0.8588\n",
      "Epoch 4/20\n",
      "1688/1688 [==============================] - 1s 673us/step - loss: 0.3650 - accuracy: 0.8677 - val_loss: 0.3739 - val_accuracy: 0.8632\n",
      "Epoch 5/20\n",
      "1688/1688 [==============================] - 1s 676us/step - loss: 0.3494 - accuracy: 0.8727 - val_loss: 0.3717 - val_accuracy: 0.8673\n",
      "Epoch 6/20\n",
      "1688/1688 [==============================] - 1s 672us/step - loss: 0.3371 - accuracy: 0.8770 - val_loss: 0.3700 - val_accuracy: 0.8673\n",
      "Epoch 7/20\n",
      "1688/1688 [==============================] - 1s 682us/step - loss: 0.3261 - accuracy: 0.8812 - val_loss: 0.3651 - val_accuracy: 0.8690\n",
      "Epoch 8/20\n",
      "1688/1688 [==============================] - 1s 689us/step - loss: 0.3169 - accuracy: 0.8834 - val_loss: 0.3641 - val_accuracy: 0.8670\n",
      "Epoch 9/20\n",
      "1688/1688 [==============================] - 1s 680us/step - loss: 0.3120 - accuracy: 0.8862 - val_loss: 0.3613 - val_accuracy: 0.8688\n",
      "Epoch 10/20\n",
      "1688/1688 [==============================] - 1s 713us/step - loss: 0.3044 - accuracy: 0.8877 - val_loss: 0.3444 - val_accuracy: 0.8765\n",
      "Epoch 11/20\n",
      "1688/1688 [==============================] - 1s 685us/step - loss: 0.2990 - accuracy: 0.8890 - val_loss: 0.3998 - val_accuracy: 0.8608\n",
      "Epoch 12/20\n",
      "1688/1688 [==============================] - 1s 697us/step - loss: 0.2936 - accuracy: 0.8909 - val_loss: 0.3594 - val_accuracy: 0.8672\n",
      "Epoch 13/20\n",
      "1688/1688 [==============================] - 1s 670us/step - loss: 0.2888 - accuracy: 0.8930 - val_loss: 0.3637 - val_accuracy: 0.8717\n",
      "Epoch 14/20\n",
      "1688/1688 [==============================] - 1s 683us/step - loss: 0.2850 - accuracy: 0.8947 - val_loss: 0.3486 - val_accuracy: 0.8768\n",
      "Epoch 15/20\n",
      "1688/1688 [==============================] - 1s 693us/step - loss: 0.2795 - accuracy: 0.8961 - val_loss: 0.3594 - val_accuracy: 0.8725\n",
      "Epoch 16/20\n",
      "1688/1688 [==============================] - 1s 720us/step - loss: 0.2774 - accuracy: 0.8970 - val_loss: 0.3529 - val_accuracy: 0.8747\n",
      "Epoch 17/20\n",
      "1688/1688 [==============================] - 1s 689us/step - loss: 0.2729 - accuracy: 0.8994 - val_loss: 0.3488 - val_accuracy: 0.8782\n",
      "Epoch 18/20\n",
      "1688/1688 [==============================] - 1s 678us/step - loss: 0.2710 - accuracy: 0.8991 - val_loss: 0.3478 - val_accuracy: 0.8788\n",
      "Epoch 19/20\n",
      "1688/1688 [==============================] - 1s 700us/step - loss: 0.2663 - accuracy: 0.8999 - val_loss: 0.3499 - val_accuracy: 0.8727\n",
      "Epoch 20/20\n",
      "1688/1688 [==============================] - 1s 682us/step - loss: 0.2631 - accuracy: 0.9020 - val_loss: 0.3594 - val_accuracy: 0.8758\n"
     ]
    },
    {
     "data": {
      "text/plain": [
       "<keras.callbacks.History at 0x22c25dc6310>"
      ]
     },
     "execution_count": 18,
     "metadata": {},
     "output_type": "execute_result"
    }
   ],
   "source": [
    "# Feed-forward neural network\n",
    "class FASHION_MNIST_DNN(tf.keras.Model):\n",
    "    def __init__(self, n_classes=10, *args, **kwargs) -> None:\n",
    "        super(FASHION_MNIST_DNN, self).__init__(*args, **kwargs)\n",
    "        self.n_classes = n_classes \n",
    "        self.layer1 = tf.keras.layers.Dense(units=20, activation='relu', name=\"q2.4l1\", kernel_initializer=\"lecun_uniform\") # 20(ReLU)\n",
    "        self.layer2 = tf.keras.layers.Dense(units=40, activation='relu',name=\"q2.4l2\",kernel_initializer=\"lecun_uniform\") # 40(ReLU)\n",
    "        self.layer3= tf.keras.layers.Dense(units=n_classes, activation=\"softmax\",name=\"q2.4ol\",kernel_initializer=\"lecun_uniform\") # 10(softmax)\n",
    "    \n",
    "    def call(self, X):\n",
    "        h = self.layer1(X)\n",
    "        h = self.layer2(h)\n",
    "        h = self.layer3(h)\n",
    "        \n",
    "        return h \n",
    "\n",
    "dnn_model = FASHION_MNIST_DNN(n_classes=10, name=\"fashin_dnn_model\")\n",
    "dnn_model.compile(optimizer=keras.optimizers.Adam(learning_rate=0.001), loss='categorical_crossentropy', metrics=['accuracy'])\n",
    "dnn_model.fit(x=X_train, y=y_train, epochs=20, validation_data=(X_valid, y_valid))"
   ]
  },
  {
   "cell_type": "code",
   "execution_count": 21,
   "metadata": {},
   "outputs": [
    {
     "name": "stdout",
     "output_type": "stream",
     "text": [
      "313/313 [==============================] - 0s 574us/step - loss: 0.3751 - accuracy: 0.8701\n",
      "The accuracy for this DNN Model is 0.8701000213623047\n"
     ]
    }
   ],
   "source": [
    "# Evaluating the trained model on the test set \n",
    "loss, acc = dnn_model.evaluate(x=X_test, y=y_test_onehot)\n",
    "print(f\"The accuracy for this DNN Model is {acc}\")"
   ]
  },
  {
   "cell_type": "markdown",
   "metadata": {},
   "source": [
    "####  <span style=\"color:red\">**Question 2.5**</span>. Tuning hyper-parameters with grid search\n",
    "<div style=\"text-align: right\"> <span style=\"color:red\">[5 points]</span> </div>\n",
    "\n",
    "Assume that you need to tune the number of neurons on the first and second hidden layers $n_1 \\in \\{20, 40\\}$, $n_2 \\in \\{20, 40\\}$  and the used activation function  $act \\in \\{sigmoid, tanh, relu\\}$. The network has the architecture pattern $784 \\rightarrow n_1 (act) \\rightarrow n_2(act) \\rightarrow 10(softmax)$ where $n_1, n_2$, and $act$ are in their grides. Write the code to tune the hyper-parameters $n_1, n_2$, and $act$. Note that you can freely choose the optimizer and learning rate of interest for this task."
   ]
  },
  {
   "cell_type": "code",
   "execution_count": 29,
   "metadata": {},
   "outputs": [],
   "source": [
    "\"\"\"GridSeachDNN\n",
    "This class is a helper class that can allow me to perform hyper-parameter tuning easily.\n",
    "\n",
    "model_generator: A function that generates compiled models based on a set of parameters\n",
    "generate_model: A function that generates different models with different parameters\n",
    "training: The training set to perform tuning on\n",
    "valid: The validation set to perform tuning on\n",
    "testing: The testing set to perform tuning on\n",
    "\n",
    "**kwargs: Pass in the collection of parameters that is used in the tuning process\n",
    "\"\"\"\n",
    "class GridSearchDNN: \n",
    "    def __init__(self, model_generator, generate_model, training, valid, testing, **kwargs) -> None:\n",
    "        self.test_models = model_generator(generate_model, **kwargs)\n",
    "        self.X_train, self.y_train = training\n",
    "        self.valid = valid\n",
    "        self.X_test, self.y_test = testing\n",
    "        self.best_model = None \n",
    "        self.best_acc = None \n",
    "        self.best_desc = None\n",
    "    \n",
    "    \"\"\" test_iterator \n",
    "    This function iteratively trains all generated models. \n",
    "    save_progress: Control the saving of each generated model's results \n",
    "    save_dir: Directory to save the model to\n",
    "    verbose: Controls the verbosity of each training iteration \n",
    "    \n",
    "    returns: Returns the best model with the best accuracy on the testing set, and also returns a description of the model. \n",
    "    \"\"\"\n",
    "    def test_iterator(self, save_progress=False, epochs=5, save_dir=\"\", verbose=True): \n",
    "        best_model, best_acc, best_desc = None, None, None\n",
    "        for model, desc in self.test_models:\n",
    "            print(f\"--NOW TESTING {desc}--\\n\")\n",
    "            history = model.fit(self.X_train, self.y_train, validation_data=self.valid, epochs=epochs, verbose=verbose)\n",
    "            test_loss, test_acc = model.evaluate(self.X_test, self.y_test)\n",
    "            \n",
    "            # Finds the best evaluation on the test dataset\n",
    "            if best_acc == None or test_acc > best_acc:\n",
    "                best_model = model \n",
    "                best_acc = test_acc\n",
    "                best_desc = desc \n",
    "            if save_progress:\n",
    "                model.save(f\"models/{save_dir}/{desc}\")\n",
    "            print(f\"\\n--END TESTING {desc} with test accuracy {test_acc}--\")\n",
    "        \n",
    "        self.best_model = best_model\n",
    "        self.best_acc = best_acc\n",
    "        self.best_desc = best_desc\n",
    "                \n",
    "        return best_model, best_acc, best_desc \n",
    "    "
   ]
  },
  {
   "cell_type": "code",
   "execution_count": 26,
   "metadata": {},
   "outputs": [],
   "source": [
    "from typing import List # Type checking\n",
    "\n",
    "def generate_model(neurons: List[int], activation: str) -> tf.keras.models: \n",
    "    model = tf.keras.Sequential()\n",
    "    for neuron in neurons: \n",
    "        model.add(tf.keras.layers.Dense(units=neuron, activation=activation))\n",
    "    model.add(tf.keras.layers.Dense(units=10, activation=\"softmax\"))\n",
    "    model.compile(optimizer=keras.optimizers.Adam(learning_rate=0.01), loss='categorical_crossentropy', metrics=['accuracy'])\n",
    "    \n",
    "    desc = f\"{neurons}{activation}\"\n",
    "    \n",
    "    return model, desc\n",
    "\n",
    "def model_generator(generate_model, **kwargs): \n",
    "    all_models = [] \n",
    "    for neuron in kwargs.get('neurons'):\n",
    "        for activation in kwargs.get('activations'):\n",
    "            dnn_model, desc = generate_model(neuron, activation)\n",
    "            dnn_model.compile(optimizer=keras.optimizers.Adam(learning_rate=0.01), loss='categorical_crossentropy', metrics=['accuracy'])\n",
    "            all_models.append((dnn_model, desc))    \n",
    "    return all_models     "
   ]
  },
  {
   "cell_type": "code",
   "execution_count": 30,
   "metadata": {},
   "outputs": [
    {
     "name": "stdout",
     "output_type": "stream",
     "text": [
      "--NOW TESTING [20, 20]tanh--\n",
      "\n",
      "313/313 [==============================] - 0s 506us/step - loss: 0.5609 - accuracy: 0.7948\n",
      "INFO:tensorflow:Assets written to: models/q2.5models/[20, 20]tanh\\assets\n",
      "\n",
      "--END TESTING [20, 20]tanh with test accuracy 0.7947999835014343--\n",
      "--NOW TESTING [20, 20]sigmoid--\n",
      "\n",
      "313/313 [==============================] - 0s 532us/step - loss: 0.4618 - accuracy: 0.8295\n",
      "INFO:tensorflow:Assets written to: models/q2.5models/[20, 20]sigmoid\\assets\n",
      "\n",
      "--END TESTING [20, 20]sigmoid with test accuracy 0.8295000195503235--\n",
      "--NOW TESTING [20, 20]relu--\n",
      "\n",
      "313/313 [==============================] - 0s 510us/step - loss: 0.5135 - accuracy: 0.8324\n",
      "INFO:tensorflow:Assets written to: models/q2.5models/[20, 20]relu\\assets\n",
      "\n",
      "--END TESTING [20, 20]relu with test accuracy 0.8324000239372253--\n",
      "--NOW TESTING [20, 40]tanh--\n",
      "\n",
      "313/313 [==============================] - 0s 529us/step - loss: 0.5450 - accuracy: 0.8067\n",
      "INFO:tensorflow:Assets written to: models/q2.5models/[20, 40]tanh\\assets\n",
      "\n",
      "--END TESTING [20, 40]tanh with test accuracy 0.8066999912261963--\n",
      "--NOW TESTING [20, 40]sigmoid--\n",
      "\n",
      "313/313 [==============================] - 0s 522us/step - loss: 0.4307 - accuracy: 0.8510\n",
      "INFO:tensorflow:Assets written to: models/q2.5models/[20, 40]sigmoid\\assets\n",
      "\n",
      "--END TESTING [20, 40]sigmoid with test accuracy 0.8510000109672546--\n",
      "--NOW TESTING [20, 40]relu--\n",
      "\n",
      "313/313 [==============================] - 0s 506us/step - loss: 0.4684 - accuracy: 0.8395\n",
      "INFO:tensorflow:Assets written to: models/q2.5models/[20, 40]relu\\assets\n",
      "\n",
      "--END TESTING [20, 40]relu with test accuracy 0.8395000100135803--\n",
      "--NOW TESTING [40, 20]tanh--\n",
      "\n",
      "313/313 [==============================] - 0s 548us/step - loss: 0.5799 - accuracy: 0.8031\n",
      "INFO:tensorflow:Assets written to: models/q2.5models/[40, 20]tanh\\assets\n",
      "\n",
      "--END TESTING [40, 20]tanh with test accuracy 0.8030999898910522--\n",
      "--NOW TESTING [40, 20]sigmoid--\n",
      "\n",
      "313/313 [==============================] - 0s 535us/step - loss: 0.4474 - accuracy: 0.8487\n",
      "INFO:tensorflow:Assets written to: models/q2.5models/[40, 20]sigmoid\\assets\n",
      "\n",
      "--END TESTING [40, 20]sigmoid with test accuracy 0.8486999869346619--\n",
      "--NOW TESTING [40, 20]relu--\n",
      "\n",
      "313/313 [==============================] - 0s 545us/step - loss: 0.5108 - accuracy: 0.8430\n",
      "INFO:tensorflow:Assets written to: models/q2.5models/[40, 20]relu\\assets\n",
      "\n",
      "--END TESTING [40, 20]relu with test accuracy 0.8429999947547913--\n",
      "--NOW TESTING [40, 40]tanh--\n",
      "\n",
      "313/313 [==============================] - 0s 564us/step - loss: 0.5314 - accuracy: 0.8163\n",
      "INFO:tensorflow:Assets written to: models/q2.5models/[40, 40]tanh\\assets\n",
      "\n",
      "--END TESTING [40, 40]tanh with test accuracy 0.8162999749183655--\n",
      "--NOW TESTING [40, 40]sigmoid--\n",
      "\n",
      "313/313 [==============================] - 0s 535us/step - loss: 0.4533 - accuracy: 0.8448\n",
      "INFO:tensorflow:Assets written to: models/q2.5models/[40, 40]sigmoid\\assets\n",
      "\n",
      "--END TESTING [40, 40]sigmoid with test accuracy 0.8447999954223633--\n",
      "--NOW TESTING [40, 40]relu--\n",
      "\n",
      "313/313 [==============================] - 0s 548us/step - loss: 0.4542 - accuracy: 0.8529\n",
      "INFO:tensorflow:Assets written to: models/q2.5models/[40, 40]relu\\assets\n",
      "\n",
      "--END TESTING [40, 40]relu with test accuracy 0.8529000282287598--\n"
     ]
    },
    {
     "data": {
      "text/plain": [
       "(<keras.engine.sequential.Sequential at 0x22c2283cc10>,\n",
       " 0.8529000282287598,\n",
       " '[40, 40]relu')"
      ]
     },
     "execution_count": 30,
     "metadata": {},
     "output_type": "execute_result"
    }
   ],
   "source": [
    "grid = GridSearchDNN(model_generator, generate_model, (X_train, y_train), (X_valid, y_valid), (X_test, y_test_onehot), neurons=[[x,y]for x in [20, 40] for y in [20,40]], activations=['tanh', 'sigmoid', 'relu'])\n",
    "grid.test_iterator(save_progress=True, epochs=20, save_dir=\"q2.5models\", verbose=False)\n",
    "\n",
    "# [40,40 ReLu] is the best model"
   ]
  },
  {
   "cell_type": "markdown",
   "metadata": {},
   "source": [
    "####  <span style=\"color:red\">**Question 2.6**</span>. Experimenting with **the label smoothing** technique\n",
    "<div style=\"text-align: right\"> <span style=\"color:red\">[5 points]</span> </div>\n",
    "\n",
    "Implement the label smoothing technique (i.e., [link for main paper](https://papers.nips.cc/paper/2019/file/f1748d6b0fd9d439f71450117eba2725-Paper.pdf) from Goeff Hinton) by yourself. Note that you cannot use the built-in label-smoothing loss function in TF2.x. Try the label smoothing technique with $\\alpha =0.1, 0.15, 0.2$ and report the performances. You need to examine the label smoothing technique with the best architecture obtained in **Question 2.5**."
   ]
  },
  {
   "cell_type": "code",
   "execution_count": 33,
   "metadata": {},
   "outputs": [
    {
     "name": "stdout",
     "output_type": "stream",
     "text": [
      "--TESTING 0.1--\n",
      "313/313 [==============================] - 0s 526us/step - loss: 0.5294 - accuracy: 0.8450\n",
      "--END 0.1 with test accuracy of 0.8450000286102295\n",
      "\n",
      "--TESTING 0.15--\n",
      "313/313 [==============================] - 1s 622us/step - loss: 0.5266 - accuracy: 0.8553\n",
      "--END 0.15 with test accuracy of 0.8553000092506409\n",
      "\n",
      "--TESTING 0.2--\n",
      "313/313 [==============================] - 0s 612us/step - loss: 0.5881 - accuracy: 0.8456\n",
      "--END 0.2 with test accuracy of 0.8456000089645386\n",
      "\n",
      "The best alpha smoothing value on labels is 0.15, with a reported test accuracy of 0.8553000092506409\n"
     ]
    }
   ],
   "source": [
    "# Label smoothing on one_hot labels.\n",
    "def label_smoothing(y_labels, smoothing_factor, num_classes):\n",
    "    smooth_labels = y_labels * (1 - smoothing_factor) + smoothing_factor / num_classes\n",
    "    return smooth_labels \n",
    "\n",
    "alphas = [0.1, 0.15, 0.2]\n",
    "best_acc, best_alpha = None, None\n",
    "\n",
    "for alpha in alphas: \n",
    "    print(f\"--TESTING {alpha}--\") \n",
    "    \n",
    "    # Generating a model from previous function\n",
    "    model, _ = generate_model(neurons=[40,40], activation='relu')\n",
    "    \n",
    "    # Training model with label smoothing\n",
    "    model.fit(X_train, label_smoothing(y_train, alpha, 10), epochs=20, verbose=0)\n",
    "    \n",
    "    # Evaluating the model after training \n",
    "    loss, test_acc = model.evaluate(X_test, y_test_onehot)\n",
    "    \n",
    "    if best_acc is None or test_acc > best_acc:\n",
    "        best_acc = test_acc \n",
    "        best_alpha = alpha\n",
    "    \n",
    "    print(f\"--END {alpha} with test accuracy of {test_acc}\\n\")\n",
    "    \n",
    "print(f\"The best alpha smoothing value on labels is {best_alpha}, with a reported test accuracy of {best_acc}\")\n",
    "    "
   ]
  }
 ],
 "metadata": {
  "kernelspec": {
   "display_name": "Python 3 (ipykernel)",
   "language": "python",
   "name": "python3"
  },
  "language_info": {
   "codemirror_mode": {
    "name": "ipython",
    "version": 3
   },
   "file_extension": ".py",
   "mimetype": "text/x-python",
   "name": "python",
   "nbconvert_exporter": "python",
   "pygments_lexer": "ipython3",
   "version": "3.9.9"
  },
  "vscode": {
   "interpreter": {
    "hash": "b916ba2c14536b214077dfec6c206136f3cd9dd298193f9fd8924ac064eebdc3"
   }
  }
 },
 "nbformat": 4,
 "nbformat_minor": 2
}
