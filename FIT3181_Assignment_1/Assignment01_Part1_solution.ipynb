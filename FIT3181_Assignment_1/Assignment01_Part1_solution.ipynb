{
 "cells": [
  {
   "cell_type": "markdown",
   "metadata": {},
   "source": [
    "# <span style=\"color:#0b486b\">  FIT3181: Deep Learning (2022)</span>\n",
    "***\n",
    "*CE/Lecturer:* Dr **Trung Le** | trunglm@monash.edu <br/>\n",
    "*Head Tutor:* Mr **Thanh Nguyen** | thanh.nguyen4@monash.edu  <br/>\n",
    "<br/>\n",
    "Department of Data Science and AI, Faculty of Information Technology, Monash University, Australia\n",
    "***"
   ]
  },
  {
   "cell_type": "markdown",
   "metadata": {},
   "source": [
    "# <span style=\"color:#0b486b\">  Student Information</span>\n",
    "***\n",
    "Surname: **Khong**  <br/>\n",
    "Firstname: **Lap Hoe**    <br/>\n",
    "Student ID: **32114818**    <br/>\n",
    "Email: **lkho007@student.monash.edu**    <br/>\n",
    "Your tutorial time: **Tuesday 2PM**    <br/>\n",
    "***"
   ]
  },
  {
   "cell_type": "markdown",
   "metadata": {},
   "source": [
    "## <span style=\"color:#0b486b\">Instruction</span>\n",
    "\n",
    "This assignment contains **one** parts:\n",
    "\n",
    "* Part 1: Questions on theory and knowledge on machine learning and deep learning **[30 points], 30%**"
   ]
  },
  {
   "cell_type": "markdown",
   "metadata": {},
   "source": [
    "The first part of this assignment is for you to demonstrate your knowledge in deep learning that you have acquired from the lectures and tutorials materials. Most of the contents in this assignment are drawn from **the lectures and tutorials from weeks 1 to 3**. Going through these materials before attempting this part is highly recommended."
   ]
  },
  {
   "cell_type": "markdown",
   "metadata": {},
   "source": [
    "####  <span style=\"color:red\">**Question 1.1**</span> **Activation function plays an important role in modern Deep NNs. For each of the activation function below, state its output range, find its derivative (show your steps), and plot the activation fuction and its derivative**\n",
    "\n",
    "<span style=\"color:red\">**(a)**</span> Leaky ReLU: $\\text{LeakyReLU}\\left(x\\right)=\\begin{cases}\n",
    "0.01x & \\text{if}\\,x<0\\\\\n",
    "x & \\text{otherwise}\n",
    "\\end{cases}$ \n",
    "<div style=\"text-align: right\"><span style=\"color:red\">[1.5 points]</span></div> \n",
    "\n",
    "<span style=\"color:red\">**(b)**</span> Softplus: $\\text{Softplus}\\left(x\\right)=\\text{ln}\\left(1+e^{x}\\right)$\n",
    "<div style=\"text-align: right\"><span style=\"color:red\">[1.5 points]</span></div> "
   ]
  },
  {
   "cell_type": "markdown",
   "metadata": {},
   "source": [
    "<span style=\"color:#0b486b\"> **Numpy is possibly being used in the following questions. You need to import numpy here.** </span>"
   ]
  },
  {
   "cell_type": "markdown",
   "metadata": {},
   "source": [
    "### Question 1.1 Submission\n",
    "(a)\n",
    "\n",
    "The output range of $\\text{LeakyReLu}$ is $(-\\infty, +\\infty)$.\n",
    "\n",
    "The derivative of $\\text{LeakyReLu}$ is $\\text{LeakyReLu'(x)}$ $\\begin{cases}\n",
    "0.01 & \\text{if}\\,x<0\\\\\n",
    "1 & \\text{otherwise}\n",
    "\\end{cases}$ \n",
    "\n",
    "There's not much derivative steps to show for this simple function, but take the coefficient wrt $x$"
   ]
  },
  {
   "cell_type": "code",
   "execution_count": 2,
   "metadata": {},
   "outputs": [],
   "source": [
    "import matplotlib.pyplot as plt \n",
    "import tensorflow as tf\n",
    "import numpy as np "
   ]
  },
  {
   "cell_type": "code",
   "execution_count": 3,
   "metadata": {},
   "outputs": [
    {
     "data": {
      "image/png": "[encoded data removed]",
      "text/plain": [
       "<Figure size 432x288 with 1 Axes>"
      ]
     },
     "metadata": {
      "needs_background": "light"
     },
     "output_type": "display_data"
    }
   ],
   "source": [
    "# Obtaining values in the rang of -10 to 10\n",
    "x_val = np.linspace(-10, 10, 100) \n",
    "\n",
    "# Activation function\n",
    "LeakyReLU_activation = lambda x: 0.01 * x if x < 0 else x\n",
    "\n",
    "# Derivative function\n",
    "LeakyReLU_derivative = lambda x: 0.01 if x < 0 else 1 \n",
    "\n",
    "# Plots of activation and its derivative\n",
    "plt.plot(x_val, list(map(LeakyReLU_activation, x_val)), linewidth=2)\n",
    "plt.plot(x_val, list(map(LeakyReLU_derivative, x_val)), linewidth=2)\n",
    "plt.title(label=\"LeakyReLU and LeakyReKU' Output Plot\")\n",
    "plt.xlabel(\"x_input\")\n",
    "plt.ylabel(\"y_output\")\n",
    "plt.legend([\"LeakyReLU\", \"LeakyReLU'\"])\n",
    "plt.show()"
   ]
  },
  {
   "cell_type": "markdown",
   "metadata": {},
   "source": [
    "(b)\n",
    "\n",
    "The output range of softplus is $(0, +\\infty)$\n",
    "\n",
    "The derivative of softplus is as follows. \n",
    "\n",
    "$\\text{1. The derivative of softplus is given by }\\frac{d (softplus)}{dx}. \\\\\n",
    "\\text{2. We can use chain rule to solve this problem, given that the softplus is a \\texttt{composite function}}. \\\\\n",
    "\\text{3. Let }(1+e^{x}) \\text{ be y.} \\\\\n",
    "\\text{4. Then solve for the derivative } \\text{through } \\frac{d (softplus)}{dx} = \\frac{d (softplus)}{dy} * \\frac{dy}{dx} \\\\\n",
    "5. \\frac{d (softplus)}{dx} = \\frac{\\ln{(y)}}{dy} * \\frac{d(1+e^{x})}{dx} \\\\\n",
    "6. \\frac{d (softplus)}{dx} = \\frac{1}{y} * e^{x} \\\\\n",
    "7. \\frac{d (softplus)}{dx} = \\frac{e^{x}}{1+e^{x}}$\n"
   ]
  },
  {
   "cell_type": "code",
   "execution_count": 4,
   "metadata": {},
   "outputs": [
    {
     "data": {
      "image/png": "[encoded data removed]",
      "text/plain": [
       "<Figure size 432x288 with 1 Axes>"
      ]
     },
     "metadata": {
      "needs_background": "light"
     },
     "output_type": "display_data"
    }
   ],
   "source": [
    "# Obtaining values in the rang of -10 to 10\n",
    "x_val = np.linspace(-10, 10, 100) \n",
    "\n",
    "# Activation function\n",
    "Softplus_activation = lambda x: np.emath.log(1 + np.exp(x))\n",
    "\n",
    "# Derivative function\n",
    "Softplus_derivative = lambda x: np.divide(np.exp(x), (1 + np.exp(x)))\n",
    "\n",
    "# Plots of activation and its derivative\n",
    "plt.plot(x_val, list(map(Softplus_activation, x_val)), linewidth=2)\n",
    "plt.title(label=\"Softplus Output Plot\")\n",
    "plt.xlabel(\"x_input\")\n",
    "plt.ylabel(\"y_output\")\n",
    "plt.legend([\"Softplus\"])\n",
    "plt.show()"
   ]
  },
  {
   "cell_type": "code",
   "execution_count": 5,
   "metadata": {},
   "outputs": [
    {
     "data": {
      "image/png": "[encoded data removed]",
      "text/plain": [
       "<Figure size 432x288 with 1 Axes>"
      ]
     },
     "metadata": {
      "needs_background": "light"
     },
     "output_type": "display_data"
    }
   ],
   "source": [
    "# Plot derivative \n",
    "plt.plot(x_val, list(map(Softplus_derivative, x_val)), linewidth=2)\n",
    "plt.xlabel(\"x_input\")\n",
    "plt.ylabel(\"y_output\")\n",
    "plt.legend([\"Softplus'\"])\n",
    "plt.show()"
   ]
  },
  {
   "cell_type": "markdown",
   "metadata": {},
   "source": [
    "####  <span style=\"color:red\">**Question 1.2**</span> **Assume that we feed a data point $x$ with a ground-truth label $y=2$ to the feed-forward neural network with the ReLU activation function as shown in the following figure**\n",
    "<img src=\"Figures/Q2_P1.png\" width=\"500\" align=\"center\"/>\n",
    "\n",
    "\n",
    "<span style=\"color:red\">**(a)**</span>  What is the numerical value of the latent presentation $h^1(x)$?\n",
    "<div style=\"text-align: right\"><span style=\"color:red\">[1 point]</span></div> \n",
    "\n",
    "<span style=\"color:red\">**(b)**</span>  What is the numerical value of the latent presentation $h^2(x)$?\n",
    "<div style=\"text-align: right\"><span style=\"color:red\">[1 point]</span></div> \n",
    "\n",
    "<span style=\"color:red\">**(c)**</span>  What is the numerical value of the logit $h^3(x)$?\n",
    "<div style=\"text-align: right\"><span style=\"color:red\">[1 point]</span></div> \n",
    "\n",
    "\n",
    "<span style=\"color:red\">**(d)**</span>  What is the corresonding prediction probabilities $p(x)$?\n",
    "<div style=\"text-align: right\"><span style=\"color:red\">[1 point]</span></div> \n",
    "\n",
    "<span style=\"color:red\">**(e)**</span>  What is the cross-entropy loss caused by the feed-forward neural network at $(x,y)$? Remind that $y=2$.\n",
    "<div style=\"text-align: right\"><span style=\"color:red\">[1 point]</span></div> \n",
    "\n",
    "<span style=\"color:red\">**(e)**</span>  Assume that we are applying the label smoothing technique (i.e.,  [link for main paper](https://papers.nips.cc/paper/2019/file/f1748d6b0fd9d439f71450117eba2725-Paper.pdf) from Goeff Hinton) with $\\alpha = 0.1$. What is the relevant loss caused by the feed-forward neural network at $(x,y)$?\n",
    "<div style=\"text-align: right\"><span style=\"color:red\">[1 point]</span></div> \n",
    "\n",
    "\n",
    "**You need to show both formulas and numerical results for earning full mark. Although it is optional, it is great if you show your numpy code for your computation.**"
   ]
  },
  {
   "cell_type": "code",
   "execution_count": 127,
   "metadata": {},
   "outputs": [],
   "source": [
    "# Question 1.2 GLOBAL VARIABLES\n",
    "import numpy as np\n",
    "import tensorflow as tf \n",
    "X_INP = np.array([1, -1, 1], dtype='float64')\n",
    "X_INP = np.reshape(X_INP, (3, 1))\n",
    "Y_TRUE = 2\n",
    "\n",
    "# These values are coded according to the matrix values \n",
    "W1_MAT = np.array([1, -1, 1, 1, -1, -1, 2, -1, 2, -1, -2, 1], dtype='float64')\n",
    "W1_MAT = np.reshape(W1_MAT, (4, 3))\n",
    "\n",
    "B1_MAT = np.array([1, 0, 1, 0], dtype='float64')\n",
    "B1_MAT = np.reshape(B1_MAT, (4, 1))\n",
    "\n",
    "W2_MAT = np.array([1, -1, -1, 2, 1, -1, 1, -1, -1, 2, -1, 2], dtype='float64') \n",
    "W2_MAT = np.reshape(W2_MAT, (3, 4))\n",
    "\n",
    "B2_MAT = np.array([1, 1, 0], dtype='float64')\n",
    "B2_MAT = np.reshape(B2_MAT, (3, 1))\n",
    "\n",
    "W3_MAT = np.array([1, -2, 1, 1, 2, -1, -1, 1, -1], dtype='float64') \n",
    "W3_MAT = np.reshape(W3_MAT, (3, 3))\n",
    "\n",
    "B3_MAT = np.reshape(np.array([0, 0, 0], dtype='float64'), (3, 1))"
   ]
  },
  {
   "cell_type": "code",
   "execution_count": 128,
   "metadata": {},
   "outputs": [],
   "source": [
    "def ReLU_act(x):\n",
    "    return np.maximum(x, 0)"
   ]
  },
  {
   "cell_type": "markdown",
   "metadata": {},
   "source": [
    "$h_1 = W_1X_{inp} + b_1$"
   ]
  },
  {
   "cell_type": "code",
   "execution_count": 129,
   "metadata": {},
   "outputs": [
    {
     "data": {
      "text/plain": [
       "array([[4.],\n",
       "       [1.],\n",
       "       [6.],\n",
       "       [2.]])"
      ]
     },
     "execution_count": 129,
     "metadata": {},
     "output_type": "execute_result"
    }
   ],
   "source": [
    "# (a) Latent presentation of h1 is as follows... \n",
    "h1 = ReLU_act(np.matmul(W1_MAT, X_INP) + B1_MAT)\n",
    "h1"
   ]
  },
  {
   "cell_type": "markdown",
   "metadata": {},
   "source": [
    "$h_2 = W_2h_1 + b_2$"
   ]
  },
  {
   "cell_type": "code",
   "execution_count": 130,
   "metadata": {},
   "outputs": [
    {
     "data": {
      "text/plain": [
       "array([[2.],\n",
       "       [8.],\n",
       "       [0.]])"
      ]
     },
     "execution_count": 130,
     "metadata": {},
     "output_type": "execute_result"
    }
   ],
   "source": [
    "# (b) Latent presentation of h2 is as follows... \n",
    "h2 = ReLU_act(np.matmul(W2_MAT, h1) + B2_MAT) \n",
    "h2"
   ]
  },
  {
   "cell_type": "markdown",
   "metadata": {},
   "source": [
    "$h_3 = W_1X_{inp} + b_1$"
   ]
  },
  {
   "cell_type": "code",
   "execution_count": 131,
   "metadata": {},
   "outputs": [
    {
     "data": {
      "text/plain": [
       "array([[-14.],\n",
       "       [ 18.],\n",
       "       [  6.]])"
      ]
     },
     "execution_count": 131,
     "metadata": {},
     "output_type": "execute_result"
    }
   ],
   "source": [
    "# (c)\n",
    "h3 = np.matmul(W3_MAT, h2) + B3_MAT\n",
    "h3"
   ]
  },
  {
   "cell_type": "markdown",
   "metadata": {},
   "source": [
    "$y_{pred} = softmax(h3), \\text{obtaining predictions from logits}$"
   ]
  },
  {
   "cell_type": "code",
   "execution_count": 139,
   "metadata": {},
   "outputs": [
    {
     "data": {
      "text/plain": [
       "[<tf.Tensor: shape=(), dtype=float64, numpy=1.266408773824969e-14>,\n",
       " <tf.Tensor: shape=(), dtype=float64, numpy=0.9999938558253851>,\n",
       " <tf.Tensor: shape=(), dtype=float64, numpy=6.14417460221464e-06>]"
      ]
     },
     "execution_count": 139,
     "metadata": {},
     "output_type": "execute_result"
    }
   ],
   "source": [
    "# (d) Apply softmax to get probability\n",
    "y_pred = tf.nn.softmax(h3.flatten())\n",
    "list(y_pred)"
   ]
  },
  {
   "cell_type": "markdown",
   "metadata": {},
   "source": [
    "$CE_{loss}(y_{pred}, label) = KL-divergence(y_{pred}, label) + entropy(label)$\n",
    "\n",
    "$CE_{loss}(y_{pred}, label) = KL-divergence(y_{pred}, label) + 0$\n",
    "\n",
    "$\\text{The entropy of any unsmoothed label is 0.}$"
   ]
  },
  {
   "cell_type": "code",
   "execution_count": 140,
   "metadata": {},
   "outputs": [
    {
     "data": {
      "text/plain": [
       "<tf.Tensor: shape=(), dtype=float64, numpy=6.144193490403898e-06>"
      ]
     },
     "execution_count": 140,
     "metadata": {},
     "output_type": "execute_result"
    }
   ],
   "source": [
    "# (e) Cross-entrophy \n",
    "# Since the label is y=2, we can one-hot the label first to y = [0,1,0] \n",
    "# The formula from above can be calculated from the softmax_cross_entropy_with_logits function, because we obtain logits from h3. \n",
    "CE_loss = tf.nn.softmax_cross_entropy_with_logits(\n",
    "    [0,1,0], h3.flatten(), axis=-1, name=None\n",
    ")\n",
    "CE_loss"
   ]
  },
  {
   "cell_type": "code",
   "execution_count": 147,
   "metadata": {},
   "outputs": [
    {
     "name": "stdout",
     "output_type": "stream",
     "text": [
      "The smoothed labels are \n",
      " [0.03333333 0.93333333 0.03333333]\n"
     ]
    }
   ],
   "source": [
    "# (f) Label smoothing \n",
    "def label_smoothing(y_labels, smoothing_factor, num_classes):\n",
    "    smooth_labels = y_labels * (1 - smoothing_factor) + smoothing_factor / num_classes\n",
    "    return smooth_labels \n",
    "\n",
    "smooth_labels = label_smoothing(np.array([0,1,0]), 0.1, 3)\n",
    "print(f\"The smoothed labels are \\n {smooth_labels}\")"
   ]
  },
  {
   "cell_type": "code",
   "execution_count": 149,
   "metadata": {},
   "outputs": [
    {
     "name": "stdout",
     "output_type": "stream",
     "text": [
      "The CE loss for smoothed labels with h3 is 1.4666728108601572\n"
     ]
    },
    {
     "data": {
      "text/plain": [
       "1.4666728108601572"
      ]
     },
     "execution_count": 149,
     "metadata": {},
     "output_type": "execute_result"
    }
   ],
   "source": [
    "# (f) Loss from label smoothing\n",
    "CE_loss = -np.sum(smooth_labels * np.log(y_pred))\n",
    "print(f\"The CE loss for smoothed labels with h3 is {CE_loss}\")\n",
    "CE_loss"
   ]
  },
  {
   "cell_type": "markdown",
   "metadata": {},
   "source": [
    "####  <span style=\"color:red\">**Question 1.3**</span> **Assume that we are constructing a multilayered feed-forward neural network for a classification problem with three classes where the model parameters will be generated randomly using your student ID. The architecture of this network is ($3 (Input)\\rightarrow4(LeakyReLU)\\rightarrow 3(Output)$) as shown in the following figure. Note that the LeakyReLU has the same formula as the one in Q1.1.**\n",
    "\n",
    "\n",
    "<img src=\"Figures/Q3_P1.png\" width=\"500\" align=\"center\"/>\n",
    "\n",
    "We feed a feature vector $x=\\left[\\begin{array}{ccc}\n",
    "1 & -1 & 1.5\\end{array}\\right]^{T}$ with ground-truth label $y=3$ to the above network. \n"
   ]
  },
  {
   "cell_type": "markdown",
   "metadata": {},
   "source": [
    "**You need to show both formulas, numerical results, and your numpy code for your computation for earning full marks.**"
   ]
  },
  {
   "cell_type": "code",
   "execution_count": 167,
   "metadata": {},
   "outputs": [],
   "source": [
    "#Code to generate random matrices and biases for W1, b1, W2, b2\n",
    "import numpy as np\n",
    "student_id = 32114818          \n",
    "np.random.seed(student_id)\n",
    "W1 = np.random.rand(4,3)\n",
    "b1 = np.random.rand(4,1)\n",
    "W2 = np.random.rand(3,4)\n",
    "b2 = np.random.rand(3,1)"
   ]
  },
  {
   "cell_type": "markdown",
   "metadata": {},
   "source": [
    "**Forward propagation**\n",
    "\n",
    "<span style=\"color:red\">**(a)**</span>  What is the value of $\\bar{h}^{1}(x)$?\n",
    "<div style=\"text-align: right\"><span style=\"color:red\">[1 point]</span></div>\n"
   ]
  },
  {
   "cell_type": "markdown",
   "metadata": {},
   "source": [
    "$\\text{Formula for forward pass}$\n",
    "\n",
    "$\\bar{h}^{1}(x) = W_1x + b_1$\n"
   ]
  },
  {
   "cell_type": "code",
   "execution_count": 168,
   "metadata": {},
   "outputs": [
    {
     "data": {
      "text/plain": [
       "array([[0.56751867],\n",
       "       [1.71830858],\n",
       "       [2.39623   ],\n",
       "       [1.05539234]])"
      ]
     },
     "execution_count": 168,
     "metadata": {},
     "output_type": "execute_result"
    }
   ],
   "source": [
    "# Show your code\n",
    "x = np.array([[1], [-1], [1.5]])\n",
    "h1_lin = np.matmul(W1, x) + b1\n",
    "h1_lin\n"
   ]
  },
  {
   "cell_type": "markdown",
   "metadata": {},
   "source": [
    "<span style=\"color:red\">**(b)**</span>  What is the value of $h^{1}(x)$?\n",
    "<div style=\"text-align: right\"><span style=\"color:red\">[1 point]</span></div>"
   ]
  },
  {
   "cell_type": "markdown",
   "metadata": {},
   "source": [
    "$h^1(x) = \\sigma({\\bar{h}^{1}(x)}), \\text{where } \\sigma \\text{ is the LeakyReLu activation function}$\n"
   ]
  },
  {
   "cell_type": "code",
   "execution_count": 169,
   "metadata": {},
   "outputs": [
    {
     "data": {
      "text/plain": [
       "array([[0.56751867],\n",
       "       [1.71830858],\n",
       "       [2.39623   ],\n",
       "       [1.05539234]])"
      ]
     },
     "execution_count": 169,
     "metadata": {},
     "output_type": "execute_result"
    }
   ],
   "source": [
    "#Show your code\n",
    "h1_act = np.array([LeakyReLU_activation(x[0]) for x in h1_lin])\n",
    "h1_act = h1_act.reshape(4,1)\n",
    "h1_act\n"
   ]
  },
  {
   "cell_type": "markdown",
   "metadata": {},
   "source": [
    "<span style=\"color:red\">**(c)**</span>  What is the predicted value $\\hat{y}$?\n",
    "<div style=\"text-align: right\"><span style=\"color:red\">[1 point]</span></div>"
   ]
  },
  {
   "cell_type": "markdown",
   "metadata": {},
   "source": [
    "$\\hat{y} = \\text{argmax}(h^1(x))$"
   ]
  },
  {
   "cell_type": "code",
   "execution_count": 172,
   "metadata": {},
   "outputs": [
    {
     "name": "stdout",
     "output_type": "stream",
     "text": [
      "The predicted value is class: 1\n"
     ]
    }
   ],
   "source": [
    "h2_lin = np.matmul(W2, h1_act) + b2\n",
    "h2_act = np.array(tf.keras.layers.Softmax(axis=0)(h2_lin)) \n",
    "idx = np.argmax(h2_act) # Get index of maximum probability \n",
    "\n",
    "print(f\"The predicted value is class: {idx + 1}\")"
   ]
  },
  {
   "cell_type": "markdown",
   "metadata": {},
   "source": [
    "<span style=\"color:red\">**(d)**</span>  Suppose that we use the cross-entropy (CE) loss. What is the value of the CE loss $l$?\n",
    "<div style=\"text-align: right\"><span style=\"color:red\">[1 point]</span></div>"
   ]
  },
  {
   "cell_type": "code",
   "execution_count": 173,
   "metadata": {},
   "outputs": [
    {
     "name": "stdout",
     "output_type": "stream",
     "text": [
      "The CE loss for smoothed labels with h3 is 1.2348511219024658\n"
     ]
    }
   ],
   "source": [
    "# Class 3 so we one hot this for logit calculation\n",
    "y_label = [[0],[0],[1]]\n",
    "\n",
    "CE_loss = -np.sum(y_label * np.log(h2_act))\n",
    "print(f\"The CE loss for smoothed labels with h3 is {CE_loss}\")"
   ]
  },
  {
   "cell_type": "markdown",
   "metadata": {},
   "source": [
    "**Backward propagation**\n",
    "\n",
    "<span style=\"color:red\">**(e)**</span> What are the derivatives $\\frac{\\partial l}{\\partial h^{2}},\\frac{\\partial l}{\\partial W^{2}}$, and $\\frac{\\partial l}{\\partial b^{2}}$? \n",
    "<div style=\"text-align: right\"><span style=\"color:red\">[6 points]</span></div>"
   ]
  },
  {
   "cell_type": "markdown",
   "metadata": {},
   "source": [
    "Source: Obtained from Lecture 3 slides\n",
    "\n",
    "$\\text{Eq 1: }\\frac{\\partial l}{\\partial h^{2}} = pred^{T} - 1_y$\n",
    "\n",
    "$\\text{Eq 2: }\\frac{\\partial l}{\\partial w^{2}} = (\\frac{\\partial l}{\\partial h^{2}})^{T} - (h^{1})^{T}$\n",
    "\n",
    "$\\text{Eq 3: }\\frac{\\partial l}{\\partial b^{2}} = \\frac{\\partial l}{\\partial h^{2}}$"
   ]
  },
  {
   "cell_type": "code",
   "execution_count": 226,
   "metadata": {},
   "outputs": [
    {
     "name": "stdout",
     "output_type": "stream",
     "text": [
      "dl_dh2 has the gradient \n",
      " [[ 0.47310027  0.23602167 -0.70912194]] of shape (1, 3)\n",
      "dl_dw2 has the gradient \n",
      " [[ 0.26849324  0.81293226  1.13365707  0.4993064 ]\n",
      " [ 0.1339467   0.40555806  0.5655622   0.24909546]\n",
      " [-0.40243994 -1.21849032 -1.69921927 -0.74840186]] of shape (3, 4)\n",
      "dl_db2 has the gradient \n",
      " [[ 0.47310027  0.23602167 -0.70912194]] of shape (1, 3)\n"
     ]
    }
   ],
   "source": [
    "label = [0,0,1]\n",
    "pred = np.array(h2_act)\n",
    "dl_dh2 = pred.T - label # Eq 1\n",
    "dl_dw2 = dl_dh2.T @ h1_act.T # Eq 2\n",
    "dl_db2 = dl_dh2\n",
    "\n",
    "print(f\"dl_dh2 has the gradient \\n {dl_dh2} of shape {dl_dh2.shape}\")\n",
    "print(f\"dl_dw2 has the gradient \\n {dl_dw2} of shape {dl_dw2.shape}\")\n",
    "print(f\"dl_db2 has the gradient \\n {dl_db2} of shape {dl_db2.shape}\")"
   ]
  },
  {
   "cell_type": "markdown",
   "metadata": {},
   "source": [
    "<span style=\"color:red\">**(f)**</span> What are the derivatives $\\frac{\\partial l}{\\partial h^{1}}, \\frac{\\partial l}{\\partial \\bar{h}^{1}},\\frac{\\partial l}{\\partial W^{1}}$, and $\\frac{\\partial l}{\\partial b^{1}}$? \n",
    "<div style=\"text-align: right\"><span style=\"color:red\">[6 points]</span></div>"
   ]
  },
  {
   "cell_type": "markdown",
   "metadata": {},
   "source": [
    "$h^1 = W^1(x) + b^1$\n",
    "\n",
    "$\\text{Eq 1: }(\\frac{\\partial l}{\\partial h^{2}})(\\frac{\\partial h^{2}}{\\partial h^{1}}) = (\\frac{\\partial l}{\\partial h^{2}})(W^2)$\n",
    "\n",
    "$\\text{Eq 2: }(\\sigma'({\\bar{h}^{2}}))$\n",
    "\n",
    "$\\text{Eq 3: }\\frac{\\partial l}{\\partial \\bar{h}^{1}} = (eq1)(eq2)$\n",
    "\n",
    "$\\text{Eq 4: }\\frac{\\partial l}{\\partial w^{1}} = (\\frac{\\partial l}{\\partial \\bar{h}^{1}})^{T}(x)^{T}$\n",
    "\n",
    "$\\text{Eq 5: }\\frac{\\partial l}{\\partial b^{1}} = \\frac{\\partial l}{\\partial \\bar{h}^{1}}$"
   ]
  },
  {
   "cell_type": "code",
   "execution_count": 227,
   "metadata": {},
   "outputs": [
    {
     "name": "stdout",
     "output_type": "stream",
     "text": [
      "The value of dl_dh1 is \n",
      " [[-0.08663592 -0.20580223  0.30380736 -0.13027363]] \n",
      "\n",
      "The value of dl_dh_hat_1 is \n",
      " [[-0.11890442]] \n",
      "\n",
      "The value of dl_dw1 is \n",
      " [[-0.11890442  0.11890442 -0.17835662]] \n",
      "\n",
      "The value of dl_db1 is \n",
      " [[-0.11890442]] \n",
      "\n"
     ]
    }
   ],
   "source": [
    "dl_dh1 = dl_dh2 @ W2 # Eq 1\n",
    "\n",
    "dh1_dh_hat_1 = np.array([LeakyReLU_derivative(x[0]) for x in h1_lin])\n",
    "dh1_dh_hat_1 = dh1_dh_hat_1.reshape(h1_lin.shape) # Eq 2\n",
    "\n",
    "dl_dh_hat_1 = dl_dh1 @ dh1_dh_hat_1 # Eq 3\n",
    "dh_hat_1_dw1 = x.T # For eq 4\n",
    " \n",
    "dl_dw1 = dl_dh_hat_1.T @ dh_hat_1_dw1 # Eq 4\n",
    "dl_db1 = dl_dh_hat_1 # Eq 5\n",
    "\n",
    "print(f\"The value of dl_dh1 is \\n {dl_dh1} \\n\")\n",
    "print(f\"The value of dl_dh_hat_1 is \\n {dl_dh_hat_1} \\n\")\n",
    "print(f\"The value of dl_dw1 is \\n {dl_dw1} \\n\")\n",
    "print(f\"The value of dl_db1 is \\n {dl_db1} \\n\")"
   ]
  },
  {
   "cell_type": "markdown",
   "metadata": {},
   "source": [
    "**SGD update**\n",
    "\n",
    "<span style=\"color:red\">**(g)**</span> Assume that we use SGD with learning rate $\\eta=0.01$ to update the model parameters. What are the values of $W^2, b^2$ and $W^1, b^1$ after updating?\n",
    "<div style=\"text-align: right\"><span style=\"color:red\">[5 points]</span></div>"
   ]
  },
  {
   "cell_type": "markdown",
   "metadata": {},
   "source": [
    "$W^2 = W^2 - \\eta(\\frac{\\partial{l}}{\\partial{W^{2}}})$\n",
    "\n",
    "$b^2 = b^2 - \\eta(\\frac{\\partial{l}}{\\partial{b^{2}}})$\n",
    "\n",
    "$W^1 = W^1 - \\eta(\\frac{\\partial{l}}{\\partial{W^{1}}})$\n",
    "\n",
    "$b^1 = b^1 - \\eta(\\frac{\\partial{l}}{\\partial{b^{1}}})$"
   ]
  },
  {
   "cell_type": "code",
   "execution_count": 228,
   "metadata": {},
   "outputs": [
    {
     "name": "stdout",
     "output_type": "stream",
     "text": [
      "The shape of W2 is (3, 4) Value of W2 is  \n",
      " [[0.49556405 0.30345612 0.76409305 0.58152976]\n",
      " [0.9049582  0.01753259 0.89568573 0.07509656]\n",
      " [0.76026039 0.51746987 0.4059023  0.60832578]]\n",
      "\n",
      "The shape of b2 is (3, 3) Value of b2 is  \n",
      " [[0.71293944 0.71768101 0.73658388]\n",
      " [0.54371502 0.54845659 0.56735946]\n",
      " [0.77812976 0.78287134 0.80177421]]\n",
      "\n",
      "The shape of W1 is (4, 3) Value of W1 is  \n",
      " [[0.48557314 0.630463   0.26359839]\n",
      " [0.93942021 0.2591423  0.19342268]\n",
      " [0.6336805  0.22131348 0.856147  ]\n",
      " [0.83126463 0.87563021 0.61589165]]\n",
      "\n",
      "The shape of b1 is (4, 1) Value of b1 is  \n",
      " [[0.32713923]\n",
      " [0.75802494]\n",
      " [0.70977078]\n",
      " [0.18604874]]\n",
      "\n"
     ]
    }
   ],
   "source": [
    "# Learning rate\n",
    "lr = 0.01 \n",
    "\n",
    "# Updates on weight values\n",
    "W2 = W2 - (lr * dl_dw2) \n",
    "b2 = b2 - (lr * dl_db2) \n",
    "W1 = W1 - (lr * dl_dw1) \n",
    "b1 = b1 - (lr * dl_db1) \n",
    "\n",
    "print(f\"The shape of W2 is {W2.shape} Value of W2 is  \\n {W2}\\n\")\n",
    "print(f\"The shape of b2 is {b2.shape} Value of b2 is  \\n {b2}\\n\")\n",
    "print(f\"The shape of W1 is {W1.shape} Value of W1 is  \\n {W1}\\n\") \n",
    "print(f\"The shape of b1 is {b1.shape} Value of b1 is  \\n {b1}\\n\")"
   ]
  },
  {
   "cell_type": "code",
   "execution_count": null,
   "metadata": {},
   "outputs": [],
   "source": []
  }
 ],
 "metadata": {
  "kernelspec": {
   "display_name": "Python 3.9.9 64-bit",
   "language": "python",
   "name": "python3"
  },
  "language_info": {
   "codemirror_mode": {
    "name": "ipython",
    "version": 3
   },
   "file_extension": ".py",
   "mimetype": "text/x-python",
   "name": "python",
   "nbconvert_exporter": "python",
   "pygments_lexer": "ipython3",
   "version": "3.9.9"
  },
  "orig_nbformat": 4,
  "vscode": {
   "interpreter": {
    "hash": "b916ba2c14536b214077dfec6c206136f3cd9dd298193f9fd8924ac064eebdc3"
   }
  }
 },
 "nbformat": 4,
 "nbformat_minor": 2
}
